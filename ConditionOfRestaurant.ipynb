{
 "cells": [
  {
   "cell_type": "code",
   "execution_count": 192,
   "metadata": {
    "collapsed": true
   },
   "outputs": [],
   "source": [
    "import os\n",
    "import pandas as pd\n",
    "import numpy as np\n",
    "import matplotlib.pyplot as plt\n",
    "import seaborn as sns\n",
    "import re"
   ]
  },
  {
   "cell_type": "markdown",
   "metadata": {},
   "source": [
    "# 1- Set the Working directory¶"
   ]
  },
  {
   "cell_type": "code",
   "execution_count": 193,
   "metadata": {
    "collapsed": true
   },
   "outputs": [],
   "source": [
    "os.chdir(\"/Users/ajeet/Google Drive/DSAssignment/ZS\")"
   ]
  },
  {
   "cell_type": "code",
   "execution_count": 194,
   "metadata": {},
   "outputs": [
    {
     "name": "stdout",
     "output_type": "stream",
     "text": [
      "sample submission.csv        testWHST.csv\r\n",
      "test.csv                     \u001b[31mtrain.csv\u001b[m\u001b[m*\r\n",
      "testDataOR.csv               trainDataOR.csv\r\n",
      "testDfEncode.csv             trainDfEncode.csv\r\n",
      "testDfEncodeWithStreet.csv   trainDfEncodeWithStreet.csv\r\n",
      "testFinalANN.csv             trainWHST.csv\r\n"
     ]
    }
   ],
   "source": [
    "ls"
   ]
  },
  {
   "cell_type": "markdown",
   "metadata": {},
   "source": [
    "# 2- Load the Data--(Dataset - datset)"
   ]
  },
  {
   "cell_type": "code",
   "execution_count": 195,
   "metadata": {
    "collapsed": true
   },
   "outputs": [],
   "source": [
    "Dataset = pd.read_csv(\"train.csv\")"
   ]
  },
  {
   "cell_type": "code",
   "execution_count": 196,
   "metadata": {},
   "outputs": [
    {
     "data": {
      "text/html": [
       "<div>\n",
       "<style>\n",
       "    .dataframe thead tr:only-child th {\n",
       "        text-align: right;\n",
       "    }\n",
       "\n",
       "    .dataframe thead th {\n",
       "        text-align: left;\n",
       "    }\n",
       "\n",
       "    .dataframe tbody tr th {\n",
       "        vertical-align: top;\n",
       "    }\n",
       "</style>\n",
       "<table border=\"1\" class=\"dataframe\">\n",
       "  <thead>\n",
       "    <tr style=\"text-align: right;\">\n",
       "      <th></th>\n",
       "      <th>DBA</th>\n",
       "      <th>BORO</th>\n",
       "      <th>BUILDING</th>\n",
       "      <th>STREET</th>\n",
       "      <th>ZIPCODE</th>\n",
       "      <th>PHONE</th>\n",
       "      <th>CUISINE DESCRIPTION</th>\n",
       "      <th>INSPECTION DATE</th>\n",
       "      <th>ACTION</th>\n",
       "      <th>SCORE</th>\n",
       "      <th>GRADE</th>\n",
       "      <th>GRADE DATE</th>\n",
       "      <th>RECORD DATE</th>\n",
       "      <th>INSPECTION NO.</th>\n",
       "      <th>INSPECTION_TYPE</th>\n",
       "      <th>CRITICAL FLAG</th>\n",
       "      <th>CAMIS</th>\n",
       "    </tr>\n",
       "  </thead>\n",
       "  <tbody>\n",
       "    <tr>\n",
       "      <th>0</th>\n",
       "      <td>TACOSSSSSSS</td>\n",
       "      <td>BROOKLYN</td>\n",
       "      <td>3398</td>\n",
       "      <td>FULTON ST</td>\n",
       "      <td>11208.0</td>\n",
       "      <td>7182773780</td>\n",
       "      <td>Mexican</td>\n",
       "      <td>6/8/2016</td>\n",
       "      <td>Violations were cited in the following area(s).</td>\n",
       "      <td>89.0</td>\n",
       "      <td>NaN</td>\n",
       "      <td>NaN</td>\n",
       "      <td>8/28/2017</td>\n",
       "      <td>Initial Inspection</td>\n",
       "      <td>Pre-permit (Non-operational)</td>\n",
       "      <td>Critical</td>\n",
       "      <td>86566813</td>\n",
       "    </tr>\n",
       "    <tr>\n",
       "      <th>1</th>\n",
       "      <td>SPOLINI'S</td>\n",
       "      <td>QUEENS</td>\n",
       "      <td>11625</td>\n",
       "      <td>METROPOLITAN AVENUE</td>\n",
       "      <td>11418.0</td>\n",
       "      <td>7188055852</td>\n",
       "      <td>Italian</td>\n",
       "      <td>2/18/2016</td>\n",
       "      <td>Violations were cited in the following area(s).</td>\n",
       "      <td>23.0</td>\n",
       "      <td>NaN</td>\n",
       "      <td>NaN</td>\n",
       "      <td>8/28/2017</td>\n",
       "      <td>Initial Inspection</td>\n",
       "      <td>Cycle Inspection</td>\n",
       "      <td>Critical</td>\n",
       "      <td>84913823</td>\n",
       "    </tr>\n",
       "    <tr>\n",
       "      <th>2</th>\n",
       "      <td>EL DORADO CAFE</td>\n",
       "      <td>QUEENS</td>\n",
       "      <td>10202</td>\n",
       "      <td>ROOSEVELT AVENUE</td>\n",
       "      <td>11368.0</td>\n",
       "      <td>7184265992</td>\n",
       "      <td>Latin (Cuban, Dominican, Puerto Rican, South &amp;...</td>\n",
       "      <td>3/4/2015</td>\n",
       "      <td>Violations were cited in the following area(s).</td>\n",
       "      <td>7.0</td>\n",
       "      <td>A</td>\n",
       "      <td>3/4/2015</td>\n",
       "      <td>8/28/2017</td>\n",
       "      <td>Initial Inspection</td>\n",
       "      <td>Cycle Inspection</td>\n",
       "      <td>Critical</td>\n",
       "      <td>70749585</td>\n",
       "    </tr>\n",
       "    <tr>\n",
       "      <th>3</th>\n",
       "      <td>SANREMO PIZZA</td>\n",
       "      <td>QUEENS</td>\n",
       "      <td>5601</td>\n",
       "      <td>MYRTLE AVENUE</td>\n",
       "      <td>11385.0</td>\n",
       "      <td>7184971903</td>\n",
       "      <td>Pizza</td>\n",
       "      <td>12/4/2014</td>\n",
       "      <td>Violations were cited in the following area(s).</td>\n",
       "      <td>12.0</td>\n",
       "      <td>A</td>\n",
       "      <td>12/4/2014</td>\n",
       "      <td>8/28/2017</td>\n",
       "      <td>Initial Inspection</td>\n",
       "      <td>Cycle Inspection</td>\n",
       "      <td>Critical</td>\n",
       "      <td>59396548</td>\n",
       "    </tr>\n",
       "    <tr>\n",
       "      <th>4</th>\n",
       "      <td>95 SOUTH</td>\n",
       "      <td>BROOKLYN</td>\n",
       "      <td>778</td>\n",
       "      <td>FRANKLIN AVENUE</td>\n",
       "      <td>11238.0</td>\n",
       "      <td>3477506180</td>\n",
       "      <td>American</td>\n",
       "      <td>6/3/2017</td>\n",
       "      <td>Violations were cited in the following area(s).</td>\n",
       "      <td>11.0</td>\n",
       "      <td>NaN</td>\n",
       "      <td>NaN</td>\n",
       "      <td>8/28/2017</td>\n",
       "      <td>Initial Inspection</td>\n",
       "      <td>Inter-Agency Task Force</td>\n",
       "      <td>Not Critical</td>\n",
       "      <td>79915156</td>\n",
       "    </tr>\n",
       "  </tbody>\n",
       "</table>\n",
       "</div>"
      ],
      "text/plain": [
       "              DBA      BORO BUILDING               STREET  ZIPCODE  \\\n",
       "0     TACOSSSSSSS  BROOKLYN     3398            FULTON ST  11208.0   \n",
       "1       SPOLINI'S    QUEENS    11625  METROPOLITAN AVENUE  11418.0   \n",
       "2  EL DORADO CAFE    QUEENS    10202     ROOSEVELT AVENUE  11368.0   \n",
       "3   SANREMO PIZZA    QUEENS     5601        MYRTLE AVENUE  11385.0   \n",
       "4        95 SOUTH  BROOKLYN      778      FRANKLIN AVENUE  11238.0   \n",
       "\n",
       "        PHONE                                CUISINE DESCRIPTION  \\\n",
       "0  7182773780                                            Mexican   \n",
       "1  7188055852                                            Italian   \n",
       "2  7184265992  Latin (Cuban, Dominican, Puerto Rican, South &...   \n",
       "3  7184971903                                              Pizza   \n",
       "4  3477506180                                           American   \n",
       "\n",
       "  INSPECTION DATE                                           ACTION  SCORE  \\\n",
       "0        6/8/2016  Violations were cited in the following area(s).   89.0   \n",
       "1       2/18/2016  Violations were cited in the following area(s).   23.0   \n",
       "2        3/4/2015  Violations were cited in the following area(s).    7.0   \n",
       "3       12/4/2014  Violations were cited in the following area(s).   12.0   \n",
       "4        6/3/2017  Violations were cited in the following area(s).   11.0   \n",
       "\n",
       "  GRADE GRADE DATE RECORD DATE       INSPECTION NO.  \\\n",
       "0   NaN        NaN   8/28/2017   Initial Inspection   \n",
       "1   NaN        NaN   8/28/2017   Initial Inspection   \n",
       "2     A   3/4/2015   8/28/2017   Initial Inspection   \n",
       "3     A  12/4/2014   8/28/2017   Initial Inspection   \n",
       "4   NaN        NaN   8/28/2017   Initial Inspection   \n",
       "\n",
       "                 INSPECTION_TYPE CRITICAL FLAG     CAMIS  \n",
       "0  Pre-permit (Non-operational)       Critical  86566813  \n",
       "1              Cycle Inspection       Critical  84913823  \n",
       "2              Cycle Inspection       Critical  70749585  \n",
       "3              Cycle Inspection       Critical  59396548  \n",
       "4       Inter-Agency Task Force   Not Critical  79915156  "
      ]
     },
     "execution_count": 196,
     "metadata": {},
     "output_type": "execute_result"
    }
   ],
   "source": [
    "Dataset.head()"
   ]
  },
  {
   "cell_type": "code",
   "execution_count": 197,
   "metadata": {
    "collapsed": true
   },
   "outputs": [],
   "source": [
    "testDataset = pd.read_csv(\"test.csv\")"
   ]
  },
  {
   "cell_type": "code",
   "execution_count": 198,
   "metadata": {},
   "outputs": [
    {
     "data": {
      "text/html": [
       "<div>\n",
       "<style>\n",
       "    .dataframe thead tr:only-child th {\n",
       "        text-align: right;\n",
       "    }\n",
       "\n",
       "    .dataframe thead th {\n",
       "        text-align: left;\n",
       "    }\n",
       "\n",
       "    .dataframe tbody tr th {\n",
       "        vertical-align: top;\n",
       "    }\n",
       "</style>\n",
       "<table border=\"1\" class=\"dataframe\">\n",
       "  <thead>\n",
       "    <tr style=\"text-align: right;\">\n",
       "      <th></th>\n",
       "      <th>DBA</th>\n",
       "      <th>BORO</th>\n",
       "      <th>BUILDING</th>\n",
       "      <th>STREET</th>\n",
       "      <th>ZIPCODE</th>\n",
       "      <th>PHONE</th>\n",
       "      <th>CUISINE DESCRIPTION</th>\n",
       "      <th>INSPECTION DATE</th>\n",
       "      <th>ACTION</th>\n",
       "      <th>SCORE</th>\n",
       "      <th>GRADE</th>\n",
       "      <th>GRADE DATE</th>\n",
       "      <th>RECORD DATE</th>\n",
       "      <th>INSPECTION NO.</th>\n",
       "      <th>INSPECTION_TYPE</th>\n",
       "      <th>CAMIS</th>\n",
       "    </tr>\n",
       "  </thead>\n",
       "  <tbody>\n",
       "    <tr>\n",
       "      <th>0</th>\n",
       "      <td>ROCKIN' RAW</td>\n",
       "      <td>MANHATTAN</td>\n",
       "      <td>171</td>\n",
       "      <td>SULLIVAN STREET</td>\n",
       "      <td>10012.0</td>\n",
       "      <td>2124773777</td>\n",
       "      <td>Vegetarian</td>\n",
       "      <td>5/7/2015</td>\n",
       "      <td>Violations were cited in the following area(s).</td>\n",
       "      <td>7.0</td>\n",
       "      <td>NaN</td>\n",
       "      <td>NaN</td>\n",
       "      <td>8/28/2017</td>\n",
       "      <td>Initial Inspection</td>\n",
       "      <td>Cycle Inspection</td>\n",
       "      <td>35773502</td>\n",
       "    </tr>\n",
       "    <tr>\n",
       "      <th>1</th>\n",
       "      <td>HONG KONG RESTAURANT</td>\n",
       "      <td>QUEENS</td>\n",
       "      <td>10259</td>\n",
       "      <td>JAMAICA AVENUE</td>\n",
       "      <td>11418.0</td>\n",
       "      <td>7188463300</td>\n",
       "      <td>Chinese</td>\n",
       "      <td>1/22/2015</td>\n",
       "      <td>Violations were cited in the following area(s).</td>\n",
       "      <td>10.0</td>\n",
       "      <td>A</td>\n",
       "      <td>1/22/2015</td>\n",
       "      <td>8/28/2017</td>\n",
       "      <td>Initial Inspection</td>\n",
       "      <td>Cycle Inspection</td>\n",
       "      <td>92746946</td>\n",
       "    </tr>\n",
       "    <tr>\n",
       "      <th>2</th>\n",
       "      <td>UNCLE VANYA</td>\n",
       "      <td>MANHATTAN</td>\n",
       "      <td>315</td>\n",
       "      <td>WEST   54 STREET</td>\n",
       "      <td>10019.0</td>\n",
       "      <td>2122620542</td>\n",
       "      <td>Russian</td>\n",
       "      <td>12/7/2015</td>\n",
       "      <td>Violations were cited in the following area(s).</td>\n",
       "      <td>14.0</td>\n",
       "      <td>NaN</td>\n",
       "      <td>NaN</td>\n",
       "      <td>8/28/2017</td>\n",
       "      <td>Initial Inspection</td>\n",
       "      <td>Cycle Inspection</td>\n",
       "      <td>28205432</td>\n",
       "    </tr>\n",
       "    <tr>\n",
       "      <th>3</th>\n",
       "      <td>GABRIEL KREUTHER</td>\n",
       "      <td>MANHATTAN</td>\n",
       "      <td>37</td>\n",
       "      <td>W 42ND ST</td>\n",
       "      <td>10036.0</td>\n",
       "      <td>2122575826</td>\n",
       "      <td>French</td>\n",
       "      <td>7/21/2015</td>\n",
       "      <td>Violations were cited in the following area(s).</td>\n",
       "      <td>9.0</td>\n",
       "      <td>A</td>\n",
       "      <td>7/21/2015</td>\n",
       "      <td>8/28/2017</td>\n",
       "      <td>Initial Inspection</td>\n",
       "      <td>Pre-permit (Operational)</td>\n",
       "      <td>53192030</td>\n",
       "    </tr>\n",
       "    <tr>\n",
       "      <th>4</th>\n",
       "      <td>CHIFA RESTAURANT</td>\n",
       "      <td>QUEENS</td>\n",
       "      <td>7320</td>\n",
       "      <td>NORTHERN BOULEVARD</td>\n",
       "      <td>11372.0</td>\n",
       "      <td>7188980108</td>\n",
       "      <td>Peruvian</td>\n",
       "      <td>2/7/2017</td>\n",
       "      <td>Violations were cited in the following area(s).</td>\n",
       "      <td>16.0</td>\n",
       "      <td>NaN</td>\n",
       "      <td>NaN</td>\n",
       "      <td>8/28/2017</td>\n",
       "      <td>Initial Inspection</td>\n",
       "      <td>Cycle Inspection</td>\n",
       "      <td>79547153</td>\n",
       "    </tr>\n",
       "  </tbody>\n",
       "</table>\n",
       "</div>"
      ],
      "text/plain": [
       "                    DBA       BORO BUILDING              STREET  ZIPCODE  \\\n",
       "0           ROCKIN' RAW  MANHATTAN      171     SULLIVAN STREET  10012.0   \n",
       "1  HONG KONG RESTAURANT     QUEENS    10259      JAMAICA AVENUE  11418.0   \n",
       "2           UNCLE VANYA  MANHATTAN      315    WEST   54 STREET  10019.0   \n",
       "3      GABRIEL KREUTHER  MANHATTAN       37           W 42ND ST  10036.0   \n",
       "4      CHIFA RESTAURANT     QUEENS     7320  NORTHERN BOULEVARD  11372.0   \n",
       "\n",
       "        PHONE CUISINE DESCRIPTION INSPECTION DATE  \\\n",
       "0  2124773777          Vegetarian        5/7/2015   \n",
       "1  7188463300             Chinese       1/22/2015   \n",
       "2  2122620542             Russian       12/7/2015   \n",
       "3  2122575826              French       7/21/2015   \n",
       "4  7188980108            Peruvian        2/7/2017   \n",
       "\n",
       "                                            ACTION  SCORE GRADE GRADE DATE  \\\n",
       "0  Violations were cited in the following area(s).    7.0   NaN        NaN   \n",
       "1  Violations were cited in the following area(s).   10.0     A  1/22/2015   \n",
       "2  Violations were cited in the following area(s).   14.0   NaN        NaN   \n",
       "3  Violations were cited in the following area(s).    9.0     A  7/21/2015   \n",
       "4  Violations were cited in the following area(s).   16.0   NaN        NaN   \n",
       "\n",
       "  RECORD DATE       INSPECTION NO.            INSPECTION_TYPE     CAMIS  \n",
       "0   8/28/2017   Initial Inspection          Cycle Inspection   35773502  \n",
       "1   8/28/2017   Initial Inspection          Cycle Inspection   92746946  \n",
       "2   8/28/2017   Initial Inspection          Cycle Inspection   28205432  \n",
       "3   8/28/2017   Initial Inspection  Pre-permit (Operational)   53192030  \n",
       "4   8/28/2017   Initial Inspection          Cycle Inspection   79547153  "
      ]
     },
     "execution_count": 198,
     "metadata": {},
     "output_type": "execute_result"
    }
   ],
   "source": [
    "testDataset.head()"
   ]
  },
  {
   "cell_type": "markdown",
   "metadata": {},
   "source": [
    "##### <font color = blue><b><i>Make a copy of original Dataset--</i></b></font>"
   ]
  },
  {
   "cell_type": "code",
   "execution_count": 199,
   "metadata": {
    "collapsed": true
   },
   "outputs": [],
   "source": [
    "dataset = Dataset.copy()"
   ]
  },
  {
   "cell_type": "code",
   "execution_count": 200,
   "metadata": {
    "collapsed": true
   },
   "outputs": [],
   "source": [
    "test_dataset = testDataset.copy()"
   ]
  },
  {
   "cell_type": "code",
   "execution_count": 201,
   "metadata": {},
   "outputs": [
    {
     "data": {
      "text/html": [
       "<div>\n",
       "<style>\n",
       "    .dataframe thead tr:only-child th {\n",
       "        text-align: right;\n",
       "    }\n",
       "\n",
       "    .dataframe thead th {\n",
       "        text-align: left;\n",
       "    }\n",
       "\n",
       "    .dataframe tbody tr th {\n",
       "        vertical-align: top;\n",
       "    }\n",
       "</style>\n",
       "<table border=\"1\" class=\"dataframe\">\n",
       "  <thead>\n",
       "    <tr style=\"text-align: right;\">\n",
       "      <th></th>\n",
       "      <th>DBA</th>\n",
       "      <th>BORO</th>\n",
       "      <th>BUILDING</th>\n",
       "      <th>STREET</th>\n",
       "      <th>ZIPCODE</th>\n",
       "      <th>PHONE</th>\n",
       "      <th>CUISINE DESCRIPTION</th>\n",
       "      <th>INSPECTION DATE</th>\n",
       "      <th>ACTION</th>\n",
       "      <th>SCORE</th>\n",
       "      <th>GRADE</th>\n",
       "      <th>GRADE DATE</th>\n",
       "      <th>RECORD DATE</th>\n",
       "      <th>INSPECTION NO.</th>\n",
       "      <th>INSPECTION_TYPE</th>\n",
       "      <th>CRITICAL FLAG</th>\n",
       "      <th>CAMIS</th>\n",
       "    </tr>\n",
       "  </thead>\n",
       "  <tbody>\n",
       "    <tr>\n",
       "      <th>0</th>\n",
       "      <td>TACOSSSSSSS</td>\n",
       "      <td>BROOKLYN</td>\n",
       "      <td>3398</td>\n",
       "      <td>FULTON ST</td>\n",
       "      <td>11208.0</td>\n",
       "      <td>7182773780</td>\n",
       "      <td>Mexican</td>\n",
       "      <td>6/8/2016</td>\n",
       "      <td>Violations were cited in the following area(s).</td>\n",
       "      <td>89.0</td>\n",
       "      <td>NaN</td>\n",
       "      <td>NaN</td>\n",
       "      <td>8/28/2017</td>\n",
       "      <td>Initial Inspection</td>\n",
       "      <td>Pre-permit (Non-operational)</td>\n",
       "      <td>Critical</td>\n",
       "      <td>86566813</td>\n",
       "    </tr>\n",
       "    <tr>\n",
       "      <th>1</th>\n",
       "      <td>SPOLINI'S</td>\n",
       "      <td>QUEENS</td>\n",
       "      <td>11625</td>\n",
       "      <td>METROPOLITAN AVENUE</td>\n",
       "      <td>11418.0</td>\n",
       "      <td>7188055852</td>\n",
       "      <td>Italian</td>\n",
       "      <td>2/18/2016</td>\n",
       "      <td>Violations were cited in the following area(s).</td>\n",
       "      <td>23.0</td>\n",
       "      <td>NaN</td>\n",
       "      <td>NaN</td>\n",
       "      <td>8/28/2017</td>\n",
       "      <td>Initial Inspection</td>\n",
       "      <td>Cycle Inspection</td>\n",
       "      <td>Critical</td>\n",
       "      <td>84913823</td>\n",
       "    </tr>\n",
       "  </tbody>\n",
       "</table>\n",
       "</div>"
      ],
      "text/plain": [
       "           DBA      BORO BUILDING               STREET  ZIPCODE       PHONE  \\\n",
       "0  TACOSSSSSSS  BROOKLYN     3398            FULTON ST  11208.0  7182773780   \n",
       "1    SPOLINI'S    QUEENS    11625  METROPOLITAN AVENUE  11418.0  7188055852   \n",
       "\n",
       "  CUISINE DESCRIPTION INSPECTION DATE  \\\n",
       "0             Mexican        6/8/2016   \n",
       "1             Italian       2/18/2016   \n",
       "\n",
       "                                            ACTION  SCORE GRADE GRADE DATE  \\\n",
       "0  Violations were cited in the following area(s).   89.0   NaN        NaN   \n",
       "1  Violations were cited in the following area(s).   23.0   NaN        NaN   \n",
       "\n",
       "  RECORD DATE       INSPECTION NO.                INSPECTION_TYPE  \\\n",
       "0   8/28/2017   Initial Inspection  Pre-permit (Non-operational)    \n",
       "1   8/28/2017   Initial Inspection              Cycle Inspection    \n",
       "\n",
       "  CRITICAL FLAG     CAMIS  \n",
       "0      Critical  86566813  \n",
       "1      Critical  84913823  "
      ]
     },
     "execution_count": 201,
     "metadata": {},
     "output_type": "execute_result"
    }
   ],
   "source": [
    "dataset.head(2)"
   ]
  },
  {
   "cell_type": "code",
   "execution_count": 202,
   "metadata": {},
   "outputs": [
    {
     "data": {
      "text/html": [
       "<div>\n",
       "<style>\n",
       "    .dataframe thead tr:only-child th {\n",
       "        text-align: right;\n",
       "    }\n",
       "\n",
       "    .dataframe thead th {\n",
       "        text-align: left;\n",
       "    }\n",
       "\n",
       "    .dataframe tbody tr th {\n",
       "        vertical-align: top;\n",
       "    }\n",
       "</style>\n",
       "<table border=\"1\" class=\"dataframe\">\n",
       "  <thead>\n",
       "    <tr style=\"text-align: right;\">\n",
       "      <th></th>\n",
       "      <th>DBA</th>\n",
       "      <th>BORO</th>\n",
       "      <th>BUILDING</th>\n",
       "      <th>STREET</th>\n",
       "      <th>ZIPCODE</th>\n",
       "      <th>PHONE</th>\n",
       "      <th>CUISINE DESCRIPTION</th>\n",
       "      <th>INSPECTION DATE</th>\n",
       "      <th>ACTION</th>\n",
       "      <th>SCORE</th>\n",
       "      <th>GRADE</th>\n",
       "      <th>GRADE DATE</th>\n",
       "      <th>RECORD DATE</th>\n",
       "      <th>INSPECTION NO.</th>\n",
       "      <th>INSPECTION_TYPE</th>\n",
       "      <th>CAMIS</th>\n",
       "    </tr>\n",
       "  </thead>\n",
       "  <tbody>\n",
       "    <tr>\n",
       "      <th>0</th>\n",
       "      <td>ROCKIN' RAW</td>\n",
       "      <td>MANHATTAN</td>\n",
       "      <td>171</td>\n",
       "      <td>SULLIVAN STREET</td>\n",
       "      <td>10012.0</td>\n",
       "      <td>2124773777</td>\n",
       "      <td>Vegetarian</td>\n",
       "      <td>5/7/2015</td>\n",
       "      <td>Violations were cited in the following area(s).</td>\n",
       "      <td>7.0</td>\n",
       "      <td>NaN</td>\n",
       "      <td>NaN</td>\n",
       "      <td>8/28/2017</td>\n",
       "      <td>Initial Inspection</td>\n",
       "      <td>Cycle Inspection</td>\n",
       "      <td>35773502</td>\n",
       "    </tr>\n",
       "    <tr>\n",
       "      <th>1</th>\n",
       "      <td>HONG KONG RESTAURANT</td>\n",
       "      <td>QUEENS</td>\n",
       "      <td>10259</td>\n",
       "      <td>JAMAICA AVENUE</td>\n",
       "      <td>11418.0</td>\n",
       "      <td>7188463300</td>\n",
       "      <td>Chinese</td>\n",
       "      <td>1/22/2015</td>\n",
       "      <td>Violations were cited in the following area(s).</td>\n",
       "      <td>10.0</td>\n",
       "      <td>A</td>\n",
       "      <td>1/22/2015</td>\n",
       "      <td>8/28/2017</td>\n",
       "      <td>Initial Inspection</td>\n",
       "      <td>Cycle Inspection</td>\n",
       "      <td>92746946</td>\n",
       "    </tr>\n",
       "  </tbody>\n",
       "</table>\n",
       "</div>"
      ],
      "text/plain": [
       "                    DBA       BORO BUILDING           STREET  ZIPCODE  \\\n",
       "0           ROCKIN' RAW  MANHATTAN      171  SULLIVAN STREET  10012.0   \n",
       "1  HONG KONG RESTAURANT     QUEENS    10259   JAMAICA AVENUE  11418.0   \n",
       "\n",
       "        PHONE CUISINE DESCRIPTION INSPECTION DATE  \\\n",
       "0  2124773777          Vegetarian        5/7/2015   \n",
       "1  7188463300             Chinese       1/22/2015   \n",
       "\n",
       "                                            ACTION  SCORE GRADE GRADE DATE  \\\n",
       "0  Violations were cited in the following area(s).    7.0   NaN        NaN   \n",
       "1  Violations were cited in the following area(s).   10.0     A  1/22/2015   \n",
       "\n",
       "  RECORD DATE       INSPECTION NO.    INSPECTION_TYPE     CAMIS  \n",
       "0   8/28/2017   Initial Inspection  Cycle Inspection   35773502  \n",
       "1   8/28/2017   Initial Inspection  Cycle Inspection   92746946  "
      ]
     },
     "execution_count": 202,
     "metadata": {},
     "output_type": "execute_result"
    }
   ],
   "source": [
    "test_dataset.head(2)"
   ]
  },
  {
   "cell_type": "code",
   "execution_count": 203,
   "metadata": {},
   "outputs": [
    {
     "data": {
      "text/plain": [
       "(215955, 17)"
      ]
     },
     "execution_count": 203,
     "metadata": {},
     "output_type": "execute_result"
    }
   ],
   "source": [
    "dataset.shape"
   ]
  },
  {
   "cell_type": "code",
   "execution_count": 204,
   "metadata": {},
   "outputs": [
    {
     "data": {
      "text/plain": [
       "(23995, 16)"
      ]
     },
     "execution_count": 204,
     "metadata": {},
     "output_type": "execute_result"
    }
   ],
   "source": [
    "test_dataset.shape"
   ]
  },
  {
   "cell_type": "markdown",
   "metadata": {},
   "source": [
    "# Clean Data"
   ]
  },
  {
   "cell_type": "code",
   "execution_count": 205,
   "metadata": {
    "collapsed": true
   },
   "outputs": [],
   "source": [
    "colToRemove = ['PHONE','INSPECTION DATE','GRADE DATE','RECORD DATE','CAMIS','DBA']"
   ]
  },
  {
   "cell_type": "code",
   "execution_count": 206,
   "metadata": {
    "collapsed": true
   },
   "outputs": [],
   "source": [
    "#Drop Columns\n",
    "trainData = dataset.drop(colToRemove, axis = 1)\n",
    "testData = test_dataset.drop(colToRemove, axis = 1)"
   ]
  },
  {
   "cell_type": "code",
   "execution_count": 207,
   "metadata": {},
   "outputs": [
    {
     "data": {
      "text/plain": [
       "(215955, 11)"
      ]
     },
     "execution_count": 207,
     "metadata": {},
     "output_type": "execute_result"
    }
   ],
   "source": [
    "trainData.shape"
   ]
  },
  {
   "cell_type": "code",
   "execution_count": 208,
   "metadata": {},
   "outputs": [
    {
     "data": {
      "text/plain": [
       "(215955, 17)"
      ]
     },
     "execution_count": 208,
     "metadata": {},
     "output_type": "execute_result"
    }
   ],
   "source": [
    "dataset.shape"
   ]
  },
  {
   "cell_type": "code",
   "execution_count": null,
   "metadata": {
    "collapsed": true
   },
   "outputs": [],
   "source": []
  },
  {
   "cell_type": "code",
   "execution_count": 209,
   "metadata": {},
   "outputs": [
    {
     "data": {
      "text/plain": [
       "(23995, 10)"
      ]
     },
     "execution_count": 209,
     "metadata": {},
     "output_type": "execute_result"
    }
   ],
   "source": [
    "testData.shape"
   ]
  },
  {
   "cell_type": "code",
   "execution_count": 210,
   "metadata": {},
   "outputs": [
    {
     "data": {
      "text/plain": [
       "(23995, 16)"
      ]
     },
     "execution_count": 210,
     "metadata": {},
     "output_type": "execute_result"
    }
   ],
   "source": [
    "test_dataset.shape"
   ]
  },
  {
   "cell_type": "code",
   "execution_count": 211,
   "metadata": {},
   "outputs": [
    {
     "data": {
      "text/html": [
       "<div>\n",
       "<style>\n",
       "    .dataframe thead tr:only-child th {\n",
       "        text-align: right;\n",
       "    }\n",
       "\n",
       "    .dataframe thead th {\n",
       "        text-align: left;\n",
       "    }\n",
       "\n",
       "    .dataframe tbody tr th {\n",
       "        vertical-align: top;\n",
       "    }\n",
       "</style>\n",
       "<table border=\"1\" class=\"dataframe\">\n",
       "  <thead>\n",
       "    <tr style=\"text-align: right;\">\n",
       "      <th></th>\n",
       "      <th>BORO</th>\n",
       "      <th>BUILDING</th>\n",
       "      <th>STREET</th>\n",
       "      <th>ZIPCODE</th>\n",
       "      <th>CUISINE DESCRIPTION</th>\n",
       "      <th>ACTION</th>\n",
       "      <th>SCORE</th>\n",
       "      <th>GRADE</th>\n",
       "      <th>INSPECTION NO.</th>\n",
       "      <th>INSPECTION_TYPE</th>\n",
       "      <th>CRITICAL FLAG</th>\n",
       "    </tr>\n",
       "  </thead>\n",
       "  <tbody>\n",
       "    <tr>\n",
       "      <th>0</th>\n",
       "      <td>BROOKLYN</td>\n",
       "      <td>3398</td>\n",
       "      <td>FULTON ST</td>\n",
       "      <td>11208.0</td>\n",
       "      <td>Mexican</td>\n",
       "      <td>Violations were cited in the following area(s).</td>\n",
       "      <td>89.0</td>\n",
       "      <td>NaN</td>\n",
       "      <td>Initial Inspection</td>\n",
       "      <td>Pre-permit (Non-operational)</td>\n",
       "      <td>Critical</td>\n",
       "    </tr>\n",
       "    <tr>\n",
       "      <th>1</th>\n",
       "      <td>QUEENS</td>\n",
       "      <td>11625</td>\n",
       "      <td>METROPOLITAN AVENUE</td>\n",
       "      <td>11418.0</td>\n",
       "      <td>Italian</td>\n",
       "      <td>Violations were cited in the following area(s).</td>\n",
       "      <td>23.0</td>\n",
       "      <td>NaN</td>\n",
       "      <td>Initial Inspection</td>\n",
       "      <td>Cycle Inspection</td>\n",
       "      <td>Critical</td>\n",
       "    </tr>\n",
       "    <tr>\n",
       "      <th>2</th>\n",
       "      <td>QUEENS</td>\n",
       "      <td>10202</td>\n",
       "      <td>ROOSEVELT AVENUE</td>\n",
       "      <td>11368.0</td>\n",
       "      <td>Latin (Cuban, Dominican, Puerto Rican, South &amp;...</td>\n",
       "      <td>Violations were cited in the following area(s).</td>\n",
       "      <td>7.0</td>\n",
       "      <td>A</td>\n",
       "      <td>Initial Inspection</td>\n",
       "      <td>Cycle Inspection</td>\n",
       "      <td>Critical</td>\n",
       "    </tr>\n",
       "    <tr>\n",
       "      <th>3</th>\n",
       "      <td>QUEENS</td>\n",
       "      <td>5601</td>\n",
       "      <td>MYRTLE AVENUE</td>\n",
       "      <td>11385.0</td>\n",
       "      <td>Pizza</td>\n",
       "      <td>Violations were cited in the following area(s).</td>\n",
       "      <td>12.0</td>\n",
       "      <td>A</td>\n",
       "      <td>Initial Inspection</td>\n",
       "      <td>Cycle Inspection</td>\n",
       "      <td>Critical</td>\n",
       "    </tr>\n",
       "    <tr>\n",
       "      <th>4</th>\n",
       "      <td>BROOKLYN</td>\n",
       "      <td>778</td>\n",
       "      <td>FRANKLIN AVENUE</td>\n",
       "      <td>11238.0</td>\n",
       "      <td>American</td>\n",
       "      <td>Violations were cited in the following area(s).</td>\n",
       "      <td>11.0</td>\n",
       "      <td>NaN</td>\n",
       "      <td>Initial Inspection</td>\n",
       "      <td>Inter-Agency Task Force</td>\n",
       "      <td>Not Critical</td>\n",
       "    </tr>\n",
       "  </tbody>\n",
       "</table>\n",
       "</div>"
      ],
      "text/plain": [
       "       BORO BUILDING               STREET  ZIPCODE  \\\n",
       "0  BROOKLYN     3398            FULTON ST  11208.0   \n",
       "1    QUEENS    11625  METROPOLITAN AVENUE  11418.0   \n",
       "2    QUEENS    10202     ROOSEVELT AVENUE  11368.0   \n",
       "3    QUEENS     5601        MYRTLE AVENUE  11385.0   \n",
       "4  BROOKLYN      778      FRANKLIN AVENUE  11238.0   \n",
       "\n",
       "                                 CUISINE DESCRIPTION  \\\n",
       "0                                            Mexican   \n",
       "1                                            Italian   \n",
       "2  Latin (Cuban, Dominican, Puerto Rican, South &...   \n",
       "3                                              Pizza   \n",
       "4                                           American   \n",
       "\n",
       "                                            ACTION  SCORE GRADE  \\\n",
       "0  Violations were cited in the following area(s).   89.0   NaN   \n",
       "1  Violations were cited in the following area(s).   23.0   NaN   \n",
       "2  Violations were cited in the following area(s).    7.0     A   \n",
       "3  Violations were cited in the following area(s).   12.0     A   \n",
       "4  Violations were cited in the following area(s).   11.0   NaN   \n",
       "\n",
       "        INSPECTION NO.                INSPECTION_TYPE CRITICAL FLAG  \n",
       "0   Initial Inspection  Pre-permit (Non-operational)       Critical  \n",
       "1   Initial Inspection              Cycle Inspection       Critical  \n",
       "2   Initial Inspection              Cycle Inspection       Critical  \n",
       "3   Initial Inspection              Cycle Inspection       Critical  \n",
       "4   Initial Inspection       Inter-Agency Task Force   Not Critical  "
      ]
     },
     "execution_count": 211,
     "metadata": {},
     "output_type": "execute_result"
    }
   ],
   "source": [
    "trainData.head()"
   ]
  },
  {
   "cell_type": "code",
   "execution_count": 212,
   "metadata": {
    "collapsed": true,
    "scrolled": true
   },
   "outputs": [],
   "source": [
    "text = trainData['INSPECTION_TYPE'][0]"
   ]
  },
  {
   "cell_type": "code",
   "execution_count": 213,
   "metadata": {},
   "outputs": [
    {
     "data": {
      "text/plain": [
       "215955"
      ]
     },
     "execution_count": 213,
     "metadata": {},
     "output_type": "execute_result"
    }
   ],
   "source": [
    "trainData.shape[0]"
   ]
  },
  {
   "cell_type": "code",
   "execution_count": 214,
   "metadata": {
    "collapsed": true
   },
   "outputs": [],
   "source": [
    "import re"
   ]
  },
  {
   "cell_type": "code",
   "execution_count": 215,
   "metadata": {},
   "outputs": [
    {
     "data": {
      "text/plain": [
       "'Pre-permit (Non-operational) '"
      ]
     },
     "execution_count": 215,
     "metadata": {},
     "output_type": "execute_result"
    }
   ],
   "source": [
    "text"
   ]
  },
  {
   "cell_type": "code",
   "execution_count": 216,
   "metadata": {
    "collapsed": true
   },
   "outputs": [],
   "source": [
    "text = re.sub(\"[^a-zA-Z]\", \" \", text)"
   ]
  },
  {
   "cell_type": "code",
   "execution_count": 217,
   "metadata": {},
   "outputs": [
    {
     "data": {
      "text/plain": [
       "'Pre permit  Non operational  '"
      ]
     },
     "execution_count": 217,
     "metadata": {},
     "output_type": "execute_result"
    }
   ],
   "source": [
    "text"
   ]
  },
  {
   "cell_type": "code",
   "execution_count": 218,
   "metadata": {
    "scrolled": false
   },
   "outputs": [
    {
     "name": "stderr",
     "output_type": "stream",
     "text": [
      "/Users/ajeet/anaconda3/lib/python3.6/site-packages/ipykernel_launcher.py:1: SettingWithCopyWarning: \n",
      "A value is trying to be set on a copy of a slice from a DataFrame\n",
      "\n",
      "See the caveats in the documentation: http://pandas.pydata.org/pandas-docs/stable/indexing.html#indexing-view-versus-copy\n",
      "  \"\"\"Entry point for launching an IPython kernel.\n"
     ]
    }
   ],
   "source": [
    "trainData['INSPECTION_TYPE'][0] = text"
   ]
  },
  {
   "cell_type": "code",
   "execution_count": 219,
   "metadata": {
    "collapsed": true
   },
   "outputs": [],
   "source": [
    "textColumns = ['BORO','STREET','CUISINE DESCRIPTION','ACTION','GRADE','INSPECTION NO.','INSPECTION_TYPE']"
   ]
  },
  {
   "cell_type": "code",
   "execution_count": 220,
   "metadata": {},
   "outputs": [
    {
     "data": {
      "text/plain": [
       "'Inter-Agency Task Force '"
      ]
     },
     "execution_count": 220,
     "metadata": {},
     "output_type": "execute_result"
    }
   ],
   "source": [
    "trainData['INSPECTION_TYPE'][4]"
   ]
  },
  {
   "cell_type": "code",
   "execution_count": 221,
   "metadata": {
    "collapsed": true
   },
   "outputs": [],
   "source": [
    "trainData['INSPECTION_TYPE'] = trainData['INSPECTION_TYPE'].str.replace('[^a-zA-Z]', ' ')\n"
   ]
  },
  {
   "cell_type": "code",
   "execution_count": 222,
   "metadata": {},
   "outputs": [
    {
     "data": {
      "text/plain": [
       "'Inter Agency Task Force '"
      ]
     },
     "execution_count": 222,
     "metadata": {},
     "output_type": "execute_result"
    }
   ],
   "source": [
    "trainData['INSPECTION_TYPE'][4]"
   ]
  },
  {
   "cell_type": "code",
   "execution_count": null,
   "metadata": {
    "collapsed": true
   },
   "outputs": [],
   "source": []
  },
  {
   "cell_type": "code",
   "execution_count": 223,
   "metadata": {
    "scrolled": true
   },
   "outputs": [
    {
     "name": "stdout",
     "output_type": "stream",
     "text": [
      "-------------------------Next Variable--------------------\n",
      "-------------------------Next Variable--------------------\n",
      "-------------------------Next Variable--------------------\n",
      "-------------------------Next Variable--------------------\n",
      "-------------------------Next Variable--------------------\n",
      "-------------------------Next Variable--------------------\n",
      "-------------------------Next Variable--------------------\n"
     ]
    }
   ],
   "source": [
    "for var in textColumns:\n",
    "    trainData[var] = trainData[var].str.replace('[^a-zA-Z0-9]', ' ')\n",
    "    testData[var] = testData[var].str.replace('[^a-zA-Z0-9]', ' ')\n",
    "    print(\"-------------------------Next Variable--------------------\")\n",
    "        \n",
    "    \n",
    "    "
   ]
  },
  {
   "cell_type": "code",
   "execution_count": 224,
   "metadata": {
    "collapsed": true
   },
   "outputs": [],
   "source": [
    "trainData['BUILDING'] = trainData['BUILDING'].str.replace('[^0-9]', '')\n",
    "testData['BUILDING'] = testData['BUILDING'].str.replace('[^0-9]', '')"
   ]
  },
  {
   "cell_type": "code",
   "execution_count": 225,
   "metadata": {
    "collapsed": true
   },
   "outputs": [],
   "source": [
    "trainData['BUILDING'] = trainData['BUILDING'].replace('', np.nan, regex=True)\n",
    "testData['BUILDING'] = testData['BUILDING'].replace('', np.nan, regex=True)"
   ]
  },
  {
   "cell_type": "code",
   "execution_count": 226,
   "metadata": {},
   "outputs": [
    {
     "data": {
      "text/plain": [
       "BROADWAY                   8016\n",
       "3 AVENUE                   3150\n",
       "5 AVENUE                   2327\n",
       "2 AVENUE                   2290\n",
       "8 AVENUE                   1914\n",
       "ROOSEVELT AVENUE           1768\n",
       "1 AVENUE                   1741\n",
       "LEXINGTON AVENUE           1701\n",
       "NORTHERN BOULEVARD         1677\n",
       "AMSTERDAM AVENUE           1672\n",
       "7 AVENUE                   1653\n",
       "3RD AVE                    1601\n",
       "9 AVENUE                   1549\n",
       "JAMAICA AVENUE             1540\n",
       "2ND AVE                    1481\n",
       "ROOSEVELT AVE              1330\n",
       "QUEENS BOULEVARD           1275\n",
       "5TH AVE                    1228\n",
       "8TH AVE                    1189\n",
       "NORTHERN BLVD              1140\n",
       "FULTON STREET              1071\n",
       "FLATBUSH AVENUE            1043\n",
       "MYRTLE AVENUE               983\n",
       "NOSTRAND AVENUE             977\n",
       "AVENUE U                    947\n",
       "GRAND STREET                916\n",
       "1ST AVE                     904\n",
       "LEXINGTON AVE               897\n",
       "9TH AVE                     872\n",
       "4 AVENUE                    842\n",
       "                           ... \n",
       "EAST 6 STREET                 1\n",
       "HEBERTON AVE                  1\n",
       "JEWEL AVE                     1\n",
       "UNIONPORT RD                  1\n",
       "EAST   71 STREET              1\n",
       "E 74TH ST                     1\n",
       "86TH AVE                      1\n",
       "49TH AVE                      1\n",
       "SCHMIDTS LN                   1\n",
       "W 117TH ST                    1\n",
       "CLIFF ST                      1\n",
       "DELAFIELD AVE                 1\n",
       "DELONG ST                     1\n",
       "COMMONWEALTH AVENUE           1\n",
       "34TH AVENUE                   1\n",
       "EAST 23 STREET                1\n",
       "E 93RD ST                     1\n",
       "ALBEE SQUARE                  1\n",
       "REVIEW AVE                    1\n",
       "HIGHLINE PARK W 30TH ST       1\n",
       "THOMSON AVE                   1\n",
       "PINEHURST AVENUE              1\n",
       "CROTONA AVENUE                1\n",
       "ROXBURY BLVD                  1\n",
       "LGA Airport                   1\n",
       "VESTRY ST                     1\n",
       "EAST  241 STREET              1\n",
       "ALBEE SQUARE STREET           1\n",
       "FORT WASHINGTON AVE           1\n",
       "W 236TH ST                    1\n",
       "Name: STREET, Length: 3270, dtype: int64"
      ]
     },
     "execution_count": 226,
     "metadata": {},
     "output_type": "execute_result"
    }
   ],
   "source": [
    "trainData['STREET'].value_counts()"
   ]
  },
  {
   "cell_type": "markdown",
   "metadata": {},
   "source": [
    "##### Handle The Target Variabel in the train Data"
   ]
  },
  {
   "cell_type": "code",
   "execution_count": 227,
   "metadata": {
    "collapsed": true
   },
   "outputs": [],
   "source": [
    "trainData['CRITICAL FLAG'] = trainData['CRITICAL FLAG'].astype(object)"
   ]
  },
  {
   "cell_type": "code",
   "execution_count": 228,
   "metadata": {},
   "outputs": [
    {
     "data": {
      "text/plain": [
       "BORO                    object\n",
       "BUILDING                object\n",
       "STREET                  object\n",
       "ZIPCODE                float64\n",
       "CUISINE DESCRIPTION     object\n",
       "ACTION                  object\n",
       "SCORE                  float64\n",
       "GRADE                   object\n",
       "INSPECTION NO.          object\n",
       "INSPECTION_TYPE         object\n",
       "CRITICAL FLAG           object\n",
       "dtype: object"
      ]
     },
     "execution_count": 228,
     "metadata": {},
     "output_type": "execute_result"
    }
   ],
   "source": [
    "trainData.dtypes"
   ]
  },
  {
   "cell_type": "code",
   "execution_count": 229,
   "metadata": {},
   "outputs": [
    {
     "data": {
      "text/plain": [
       "Critical          118888\n",
       "Not Critical       93402\n",
       "Not Applicable      3665\n",
       "Name: CRITICAL FLAG, dtype: int64"
      ]
     },
     "execution_count": 229,
     "metadata": {},
     "output_type": "execute_result"
    }
   ],
   "source": [
    "trainData['CRITICAL FLAG'].value_counts()"
   ]
  },
  {
   "cell_type": "code",
   "execution_count": 230,
   "metadata": {
    "scrolled": true
   },
   "outputs": [
    {
     "data": {
      "text/plain": [
       "0.016971128244310157"
      ]
     },
     "execution_count": 230,
     "metadata": {},
     "output_type": "execute_result"
    }
   ],
   "source": [
    "3665/trainData.shape[0]"
   ]
  },
  {
   "cell_type": "markdown",
   "metadata": {},
   "source": [
    "less than 2% of the target variable having the value - Not Applicable , so drop all the rows having this value"
   ]
  },
  {
   "cell_type": "code",
   "execution_count": 231,
   "metadata": {
    "collapsed": true
   },
   "outputs": [],
   "source": [
    "trainDf = trainData[trainData['CRITICAL FLAG'] != 'Not Applicable']"
   ]
  },
  {
   "cell_type": "code",
   "execution_count": 232,
   "metadata": {
    "collapsed": true
   },
   "outputs": [],
   "source": [
    "testDf = testData.copy()"
   ]
  },
  {
   "cell_type": "code",
   "execution_count": 233,
   "metadata": {},
   "outputs": [
    {
     "data": {
      "text/plain": [
       "(212290, 11)"
      ]
     },
     "execution_count": 233,
     "metadata": {},
     "output_type": "execute_result"
    }
   ],
   "source": [
    "trainDf.shape"
   ]
  },
  {
   "cell_type": "code",
   "execution_count": 234,
   "metadata": {},
   "outputs": [
    {
     "data": {
      "text/plain": [
       "(215955, 11)"
      ]
     },
     "execution_count": 234,
     "metadata": {},
     "output_type": "execute_result"
    }
   ],
   "source": [
    "trainData.shape"
   ]
  },
  {
   "cell_type": "code",
   "execution_count": null,
   "metadata": {
    "collapsed": true
   },
   "outputs": [],
   "source": []
  },
  {
   "cell_type": "markdown",
   "metadata": {},
   "source": [
    "# 4- Missing value Analysis"
   ]
  },
  {
   "cell_type": "code",
   "execution_count": 235,
   "metadata": {
    "scrolled": true
   },
   "outputs": [
    {
     "data": {
      "text/plain": [
       "BORO                        0\n",
       "BUILDING                  521\n",
       "STREET                      0\n",
       "ZIPCODE                     0\n",
       "CUISINE DESCRIPTION         0\n",
       "ACTION                      0\n",
       "SCORE                    9769\n",
       "GRADE                  107266\n",
       "INSPECTION NO.              0\n",
       "INSPECTION_TYPE             0\n",
       "CRITICAL FLAG               0\n",
       "dtype: int64"
      ]
     },
     "execution_count": 235,
     "metadata": {},
     "output_type": "execute_result"
    }
   ],
   "source": [
    "trainDf.isnull().sum()"
   ]
  },
  {
   "cell_type": "markdown",
   "metadata": {},
   "source": [
    "##### 1- GRADE"
   ]
  },
  {
   "cell_type": "code",
   "execution_count": 236,
   "metadata": {},
   "outputs": [
    {
     "data": {
      "text/plain": [
       "0.505280512506477"
      ]
     },
     "execution_count": 236,
     "metadata": {},
     "output_type": "execute_result"
    }
   ],
   "source": [
    "107266/trainDf.shape[0]\n",
    "\n",
    "\n",
    "\n"
   ]
  },
  {
   "cell_type": "markdown",
   "metadata": {},
   "source": [
    "There are more that 50% rows has missing data in the Grade column- so we need to remove this column"
   ]
  },
  {
   "cell_type": "code",
   "execution_count": 237,
   "metadata": {
    "collapsed": true
   },
   "outputs": [],
   "source": [
    "trainDf = trainDf.drop('GRADE', axis = 1)\n"
   ]
  },
  {
   "cell_type": "code",
   "execution_count": 238,
   "metadata": {
    "collapsed": true
   },
   "outputs": [],
   "source": [
    "testDf = testDf.drop('GRADE', axis = 1)"
   ]
  },
  {
   "cell_type": "code",
   "execution_count": 239,
   "metadata": {
    "scrolled": false
   },
   "outputs": [
    {
     "data": {
      "text/plain": [
       "BORO                      0\n",
       "BUILDING                521\n",
       "STREET                    0\n",
       "ZIPCODE                   0\n",
       "CUISINE DESCRIPTION       0\n",
       "ACTION                    0\n",
       "SCORE                  9769\n",
       "INSPECTION NO.            0\n",
       "INSPECTION_TYPE           0\n",
       "CRITICAL FLAG             0\n",
       "dtype: int64"
      ]
     },
     "execution_count": 239,
     "metadata": {},
     "output_type": "execute_result"
    }
   ],
   "source": [
    "trainDf.isnull().sum()"
   ]
  },
  {
   "cell_type": "code",
   "execution_count": 240,
   "metadata": {
    "collapsed": true
   },
   "outputs": [],
   "source": [
    "trainDf.dropna(inplace=True)"
   ]
  },
  {
   "cell_type": "code",
   "execution_count": 241,
   "metadata": {},
   "outputs": [
    {
     "data": {
      "text/plain": [
       "(202021, 10)"
      ]
     },
     "execution_count": 241,
     "metadata": {},
     "output_type": "execute_result"
    }
   ],
   "source": [
    "trainDf.shape"
   ]
  },
  {
   "cell_type": "code",
   "execution_count": 242,
   "metadata": {
    "scrolled": true
   },
   "outputs": [
    {
     "data": {
      "text/plain": [
       "BORO                   0\n",
       "BUILDING               0\n",
       "STREET                 0\n",
       "ZIPCODE                0\n",
       "CUISINE DESCRIPTION    0\n",
       "ACTION                 0\n",
       "SCORE                  0\n",
       "INSPECTION NO.         0\n",
       "INSPECTION_TYPE        0\n",
       "CRITICAL FLAG          0\n",
       "dtype: int64"
      ]
     },
     "execution_count": 242,
     "metadata": {},
     "output_type": "execute_result"
    }
   ],
   "source": [
    "trainDf.isnull().sum()"
   ]
  },
  {
   "cell_type": "markdown",
   "metadata": {},
   "source": [
    "##### Test Data"
   ]
  },
  {
   "cell_type": "code",
   "execution_count": 243,
   "metadata": {
    "scrolled": true
   },
   "outputs": [
    {
     "data": {
      "text/plain": [
       "BORO                      0\n",
       "BUILDING                 58\n",
       "STREET                    0\n",
       "ZIPCODE                   0\n",
       "CUISINE DESCRIPTION       0\n",
       "ACTION                   55\n",
       "SCORE                  1366\n",
       "INSPECTION NO.           55\n",
       "INSPECTION_TYPE           0\n",
       "dtype: int64"
      ]
     },
     "execution_count": 243,
     "metadata": {},
     "output_type": "execute_result"
    }
   ],
   "source": [
    "testDf.isnull().sum()"
   ]
  },
  {
   "cell_type": "markdown",
   "metadata": {},
   "source": [
    "We have to impute all missing data"
   ]
  },
  {
   "cell_type": "code",
   "execution_count": 244,
   "metadata": {
    "scrolled": true
   },
   "outputs": [
    {
     "data": {
      "text/plain": [
       "BORO                    object\n",
       "BUILDING                object\n",
       "STREET                  object\n",
       "ZIPCODE                float64\n",
       "CUISINE DESCRIPTION     object\n",
       "ACTION                  object\n",
       "SCORE                  float64\n",
       "INSPECTION NO.          object\n",
       "INSPECTION_TYPE         object\n",
       "dtype: object"
      ]
     },
     "execution_count": 244,
     "metadata": {},
     "output_type": "execute_result"
    }
   ],
   "source": [
    "testDf.dtypes"
   ]
  },
  {
   "cell_type": "code",
   "execution_count": 245,
   "metadata": {
    "collapsed": true
   },
   "outputs": [],
   "source": [
    "# for var in testDf.columns:\n",
    "#     if(testDf[var].isnull().sum()>0):\n",
    "#         print(var)\n",
    "#         print(testDf[var].value_counts())"
   ]
  },
  {
   "cell_type": "code",
   "execution_count": 246,
   "metadata": {
    "collapsed": true
   },
   "outputs": [],
   "source": [
    "testDf['BUILDING'].fillna(0, inplace = True)"
   ]
  },
  {
   "cell_type": "code",
   "execution_count": 247,
   "metadata": {
    "collapsed": true
   },
   "outputs": [],
   "source": [
    "testDf['ACTION'].fillna('Violations were cited in the following area s', inplace = True)"
   ]
  },
  {
   "cell_type": "code",
   "execution_count": 248,
   "metadata": {
    "collapsed": true
   },
   "outputs": [],
   "source": [
    "testDf['INSPECTION NO.'].fillna('Initial Inspection', inplace = True)"
   ]
  },
  {
   "cell_type": "code",
   "execution_count": 249,
   "metadata": {
    "collapsed": true
   },
   "outputs": [],
   "source": [
    "testDf['SCORE'].fillna(testDf['SCORE'].median(), inplace = True)"
   ]
  },
  {
   "cell_type": "code",
   "execution_count": 250,
   "metadata": {},
   "outputs": [
    {
     "data": {
      "text/plain": [
       "BORO                   0\n",
       "BUILDING               0\n",
       "STREET                 0\n",
       "ZIPCODE                0\n",
       "CUISINE DESCRIPTION    0\n",
       "ACTION                 0\n",
       "SCORE                  0\n",
       "INSPECTION NO.         0\n",
       "INSPECTION_TYPE        0\n",
       "dtype: int64"
      ]
     },
     "execution_count": 250,
     "metadata": {},
     "output_type": "execute_result"
    }
   ],
   "source": [
    "testDf.isnull().sum()"
   ]
  },
  {
   "cell_type": "markdown",
   "metadata": {},
   "source": [
    "# 3- Data Type Conversion"
   ]
  },
  {
   "cell_type": "code",
   "execution_count": 251,
   "metadata": {},
   "outputs": [
    {
     "data": {
      "text/plain": [
       "BORO                    object\n",
       "BUILDING                object\n",
       "STREET                  object\n",
       "ZIPCODE                float64\n",
       "CUISINE DESCRIPTION     object\n",
       "ACTION                  object\n",
       "SCORE                  float64\n",
       "INSPECTION NO.          object\n",
       "INSPECTION_TYPE         object\n",
       "CRITICAL FLAG           object\n",
       "dtype: object"
      ]
     },
     "execution_count": 251,
     "metadata": {},
     "output_type": "execute_result"
    }
   ],
   "source": [
    "trainDf.dtypes"
   ]
  },
  {
   "cell_type": "markdown",
   "metadata": {},
   "source": [
    "We do not need , Phone, any dates to predict and also CAMIS\n",
    "So for model building, need to remove--\n",
    "\n",
    "\n"
   ]
  },
  {
   "cell_type": "code",
   "execution_count": 252,
   "metadata": {},
   "outputs": [
    {
     "data": {
      "text/plain": [
       "BORO                    object\n",
       "BUILDING                object\n",
       "STREET                  object\n",
       "ZIPCODE                float64\n",
       "CUISINE DESCRIPTION     object\n",
       "ACTION                  object\n",
       "SCORE                  float64\n",
       "INSPECTION NO.          object\n",
       "INSPECTION_TYPE         object\n",
       "dtype: object"
      ]
     },
     "execution_count": 252,
     "metadata": {},
     "output_type": "execute_result"
    }
   ],
   "source": [
    "testDf.dtypes"
   ]
  },
  {
   "cell_type": "markdown",
   "metadata": {},
   "source": [
    "Categorical- BORO, BUILDING, STREET, ZIPCODE,CUISINE DESCRIPTION, ACTION,GRADE, INSPECTION NO., INSPECTION_TYPE ,CRITICAL FLAG\n",
    "Numerical- SCORE,"
   ]
  },
  {
   "cell_type": "markdown",
   "metadata": {},
   "source": [
    "So only need to convert ZIPCODE column from numerical to categorical-"
   ]
  },
  {
   "cell_type": "code",
   "execution_count": 253,
   "metadata": {
    "collapsed": true
   },
   "outputs": [],
   "source": [
    "trainDf['ZIPCODE'] = trainDf['ZIPCODE'].astype(object)\n",
    "testDf['ZIPCODE'] = testDf['ZIPCODE'].astype(object)"
   ]
  },
  {
   "cell_type": "code",
   "execution_count": 254,
   "metadata": {
    "scrolled": false
   },
   "outputs": [
    {
     "data": {
      "text/plain": [
       "BORO                    object\n",
       "BUILDING                object\n",
       "STREET                  object\n",
       "ZIPCODE                 object\n",
       "CUISINE DESCRIPTION     object\n",
       "ACTION                  object\n",
       "SCORE                  float64\n",
       "INSPECTION NO.          object\n",
       "INSPECTION_TYPE         object\n",
       "dtype: object"
      ]
     },
     "execution_count": 254,
     "metadata": {},
     "output_type": "execute_result"
    }
   ],
   "source": [
    "testDf.dtypes"
   ]
  },
  {
   "cell_type": "code",
   "execution_count": null,
   "metadata": {
    "collapsed": true
   },
   "outputs": [],
   "source": []
  },
  {
   "cell_type": "code",
   "execution_count": 255,
   "metadata": {
    "collapsed": true
   },
   "outputs": [],
   "source": [
    "trainDf['BUILDING'] = trainDf['BUILDING'].astype(int)\n",
    "testDf['BUILDING'] = testDf['BUILDING'].astype(int)"
   ]
  },
  {
   "cell_type": "code",
   "execution_count": 256,
   "metadata": {},
   "outputs": [
    {
     "data": {
      "text/plain": [
       "BORO                    object\n",
       "BUILDING                 int64\n",
       "STREET                  object\n",
       "ZIPCODE                 object\n",
       "CUISINE DESCRIPTION     object\n",
       "ACTION                  object\n",
       "SCORE                  float64\n",
       "INSPECTION NO.          object\n",
       "INSPECTION_TYPE         object\n",
       "dtype: object"
      ]
     },
     "execution_count": 256,
     "metadata": {},
     "output_type": "execute_result"
    }
   ],
   "source": [
    "testDf.dtypes"
   ]
  },
  {
   "cell_type": "code",
   "execution_count": 257,
   "metadata": {},
   "outputs": [
    {
     "data": {
      "text/plain": [
       "BORO                    object\n",
       "BUILDING                 int64\n",
       "STREET                  object\n",
       "ZIPCODE                 object\n",
       "CUISINE DESCRIPTION     object\n",
       "ACTION                  object\n",
       "SCORE                  float64\n",
       "INSPECTION NO.          object\n",
       "INSPECTION_TYPE         object\n",
       "CRITICAL FLAG           object\n",
       "dtype: object"
      ]
     },
     "execution_count": 257,
     "metadata": {},
     "output_type": "execute_result"
    }
   ],
   "source": [
    "trainDf.dtypes"
   ]
  },
  {
   "cell_type": "markdown",
   "metadata": {},
   "source": [
    "# Outlier Analysis"
   ]
  },
  {
   "cell_type": "code",
   "execution_count": 258,
   "metadata": {},
   "outputs": [
    {
     "data": {
      "image/png": "[encoded data removed]",
      "text/plain": [
       "<matplotlib.figure.Figure at 0x118a4e9e8>"
      ]
     },
     "metadata": {},
     "output_type": "display_data"
    }
   ],
   "source": [
    "plt.boxplot(trainDf['SCORE'])\n",
    "plt.show()"
   ]
  },
  {
   "cell_type": "code",
   "execution_count": 259,
   "metadata": {},
   "outputs": [
    {
     "name": "stdout",
     "output_type": "stream",
     "text": [
      "-8.5\n",
      "43.5\n",
      "0\n",
      "10837\n"
     ]
    }
   ],
   "source": [
    "#Detect and delete outliers from data\n",
    "\n",
    "#count = 0  \n",
    "q75, q25 = np.percentile(trainDf.loc[:,\"SCORE\"], [75 ,25])\n",
    "iqr = q75 - q25\n",
    "\n",
    "min = q25 - (iqr*1.5)\n",
    "max = q75 + (iqr*1.5)\n",
    "print(min)\n",
    "print(max)\n",
    "   \n",
    "print(len(trainDf[trainDf['SCORE']<=min]))\n",
    "print(len(trainDf[trainDf['SCORE']>=max]))"
   ]
  },
  {
   "cell_type": "markdown",
   "metadata": {},
   "source": [
    "##### New dataset created after Removing all observation having outliers"
   ]
  },
  {
   "cell_type": "code",
   "execution_count": 260,
   "metadata": {
    "collapsed": true
   },
   "outputs": [],
   "source": [
    "trainDataOR = trainDf[trainDf['SCORE']<=max]"
   ]
  },
  {
   "cell_type": "code",
   "execution_count": 261,
   "metadata": {
    "collapsed": true
   },
   "outputs": [],
   "source": [
    "testDataOR = testDf.copy()"
   ]
  },
  {
   "cell_type": "code",
   "execution_count": 262,
   "metadata": {},
   "outputs": [
    {
     "data": {
      "text/plain": [
       "(191184, 10)"
      ]
     },
     "execution_count": 262,
     "metadata": {},
     "output_type": "execute_result"
    }
   ],
   "source": [
    "trainDataOR.shape"
   ]
  },
  {
   "cell_type": "code",
   "execution_count": 263,
   "metadata": {},
   "outputs": [
    {
     "data": {
      "text/plain": [
       "(202021, 10)"
      ]
     },
     "execution_count": 263,
     "metadata": {},
     "output_type": "execute_result"
    }
   ],
   "source": [
    "trainDf.shape"
   ]
  },
  {
   "cell_type": "markdown",
   "metadata": {},
   "source": [
    "##### Now , These pre-processed Dataframe - save to the file"
   ]
  },
  {
   "cell_type": "code",
   "execution_count": 264,
   "metadata": {},
   "outputs": [
    {
     "data": {
      "text/plain": [
       "True"
      ]
     },
     "execution_count": 264,
     "metadata": {},
     "output_type": "execute_result"
    }
   ],
   "source": [
    "trainDataOR['STREET'].dtypes == 'object'"
   ]
  },
  {
   "cell_type": "code",
   "execution_count": 265,
   "metadata": {},
   "outputs": [
    {
     "name": "stderr",
     "output_type": "stream",
     "text": [
      "/Users/ajeet/anaconda3/lib/python3.6/site-packages/ipykernel_launcher.py:3: SettingWithCopyWarning: \n",
      "A value is trying to be set on a copy of a slice from a DataFrame.\n",
      "Try using .loc[row_indexer,col_indexer] = value instead\n",
      "\n",
      "See the caveats in the documentation: http://pandas.pydata.org/pandas-docs/stable/indexing.html#indexing-view-versus-copy\n",
      "  This is separate from the ipykernel package so we can avoid doing imports until\n"
     ]
    }
   ],
   "source": [
    "for var in trainDataOR.columns:\n",
    "    if(trainDataOR[var].dtypes == 'object'):\n",
    "        trainDataOR[var] = trainDataOR[var].astype(object)"
   ]
  },
  {
   "cell_type": "code",
   "execution_count": 266,
   "metadata": {
    "collapsed": true
   },
   "outputs": [],
   "source": [
    "for var in testDataOR.columns:\n",
    "    if(testDataOR[var].dtypes == 'object'):\n",
    "        testDataOR[var] = testDataOR[var].astype(object)"
   ]
  },
  {
   "cell_type": "code",
   "execution_count": 267,
   "metadata": {
    "scrolled": true
   },
   "outputs": [
    {
     "data": {
      "text/plain": [
       "BORO                    object\n",
       "BUILDING                 int64\n",
       "STREET                  object\n",
       "ZIPCODE                 object\n",
       "CUISINE DESCRIPTION     object\n",
       "ACTION                  object\n",
       "SCORE                  float64\n",
       "INSPECTION NO.          object\n",
       "INSPECTION_TYPE         object\n",
       "CRITICAL FLAG           object\n",
       "dtype: object"
      ]
     },
     "execution_count": 267,
     "metadata": {},
     "output_type": "execute_result"
    }
   ],
   "source": [
    "trainDataOR.dtypes"
   ]
  },
  {
   "cell_type": "code",
   "execution_count": 268,
   "metadata": {
    "collapsed": true
   },
   "outputs": [],
   "source": [
    "trainDataOR.to_csv(\"trainDataOR.csv\",index=False)"
   ]
  },
  {
   "cell_type": "code",
   "execution_count": 269,
   "metadata": {
    "collapsed": true
   },
   "outputs": [],
   "source": [
    "testDataOR.to_csv(\"testDataOR.csv\",index=False)"
   ]
  },
  {
   "cell_type": "markdown",
   "metadata": {},
   "source": [
    "# Read Data"
   ]
  },
  {
   "cell_type": "code",
   "execution_count": 270,
   "metadata": {
    "collapsed": true
   },
   "outputs": [],
   "source": [
    "trainDataOR = pd.read_csv(\"trainDataOR.csv\")\n",
    "testDataOR = pd.read_csv(\"testDataOR.csv\")"
   ]
  },
  {
   "cell_type": "code",
   "execution_count": 271,
   "metadata": {},
   "outputs": [
    {
     "data": {
      "text/plain": [
       "(191184, 10)"
      ]
     },
     "execution_count": 271,
     "metadata": {},
     "output_type": "execute_result"
    }
   ],
   "source": [
    "trainDataOR.shape"
   ]
  },
  {
   "cell_type": "code",
   "execution_count": 272,
   "metadata": {},
   "outputs": [
    {
     "data": {
      "text/plain": [
       "(23995, 9)"
      ]
     },
     "execution_count": 272,
     "metadata": {},
     "output_type": "execute_result"
    }
   ],
   "source": [
    "testDataOR.shape"
   ]
  },
  {
   "cell_type": "code",
   "execution_count": 273,
   "metadata": {
    "scrolled": true
   },
   "outputs": [
    {
     "data": {
      "text/html": [
       "<div>\n",
       "<style>\n",
       "    .dataframe thead tr:only-child th {\n",
       "        text-align: right;\n",
       "    }\n",
       "\n",
       "    .dataframe thead th {\n",
       "        text-align: left;\n",
       "    }\n",
       "\n",
       "    .dataframe tbody tr th {\n",
       "        vertical-align: top;\n",
       "    }\n",
       "</style>\n",
       "<table border=\"1\" class=\"dataframe\">\n",
       "  <thead>\n",
       "    <tr style=\"text-align: right;\">\n",
       "      <th></th>\n",
       "      <th>BORO</th>\n",
       "      <th>BUILDING</th>\n",
       "      <th>STREET</th>\n",
       "      <th>ZIPCODE</th>\n",
       "      <th>CUISINE DESCRIPTION</th>\n",
       "      <th>ACTION</th>\n",
       "      <th>SCORE</th>\n",
       "      <th>INSPECTION NO.</th>\n",
       "      <th>INSPECTION_TYPE</th>\n",
       "      <th>CRITICAL FLAG</th>\n",
       "    </tr>\n",
       "  </thead>\n",
       "  <tbody>\n",
       "    <tr>\n",
       "      <th>0</th>\n",
       "      <td>QUEENS</td>\n",
       "      <td>11625</td>\n",
       "      <td>METROPOLITAN AVENUE</td>\n",
       "      <td>11418.0</td>\n",
       "      <td>Italian</td>\n",
       "      <td>Violations were cited in the following area s</td>\n",
       "      <td>23.0</td>\n",
       "      <td>Initial Inspection</td>\n",
       "      <td>Cycle Inspection</td>\n",
       "      <td>Critical</td>\n",
       "    </tr>\n",
       "    <tr>\n",
       "      <th>1</th>\n",
       "      <td>QUEENS</td>\n",
       "      <td>10202</td>\n",
       "      <td>ROOSEVELT AVENUE</td>\n",
       "      <td>11368.0</td>\n",
       "      <td>Latin  Cuban  Dominican  Puerto Rican  South  ...</td>\n",
       "      <td>Violations were cited in the following area s</td>\n",
       "      <td>7.0</td>\n",
       "      <td>Initial Inspection</td>\n",
       "      <td>Cycle Inspection</td>\n",
       "      <td>Critical</td>\n",
       "    </tr>\n",
       "    <tr>\n",
       "      <th>2</th>\n",
       "      <td>QUEENS</td>\n",
       "      <td>5601</td>\n",
       "      <td>MYRTLE AVENUE</td>\n",
       "      <td>11385.0</td>\n",
       "      <td>Pizza</td>\n",
       "      <td>Violations were cited in the following area s</td>\n",
       "      <td>12.0</td>\n",
       "      <td>Initial Inspection</td>\n",
       "      <td>Cycle Inspection</td>\n",
       "      <td>Critical</td>\n",
       "    </tr>\n",
       "    <tr>\n",
       "      <th>3</th>\n",
       "      <td>BROOKLYN</td>\n",
       "      <td>778</td>\n",
       "      <td>FRANKLIN AVENUE</td>\n",
       "      <td>11238.0</td>\n",
       "      <td>American</td>\n",
       "      <td>Violations were cited in the following area s</td>\n",
       "      <td>11.0</td>\n",
       "      <td>Initial Inspection</td>\n",
       "      <td>Inter Agency Task Force</td>\n",
       "      <td>Not Critical</td>\n",
       "    </tr>\n",
       "    <tr>\n",
       "      <th>4</th>\n",
       "      <td>BROOKLYN</td>\n",
       "      <td>3179</td>\n",
       "      <td>ATLANTIC AVE</td>\n",
       "      <td>11208.0</td>\n",
       "      <td>Hamburgers</td>\n",
       "      <td>Violations were cited in the following area s</td>\n",
       "      <td>7.0</td>\n",
       "      <td>Initial Inspection</td>\n",
       "      <td>Pre permit  Operational</td>\n",
       "      <td>Critical</td>\n",
       "    </tr>\n",
       "  </tbody>\n",
       "</table>\n",
       "</div>"
      ],
      "text/plain": [
       "       BORO  BUILDING               STREET  ZIPCODE  \\\n",
       "0    QUEENS     11625  METROPOLITAN AVENUE  11418.0   \n",
       "1    QUEENS     10202     ROOSEVELT AVENUE  11368.0   \n",
       "2    QUEENS      5601        MYRTLE AVENUE  11385.0   \n",
       "3  BROOKLYN       778      FRANKLIN AVENUE  11238.0   \n",
       "4  BROOKLYN      3179         ATLANTIC AVE  11208.0   \n",
       "\n",
       "                                 CUISINE DESCRIPTION  \\\n",
       "0                                            Italian   \n",
       "1  Latin  Cuban  Dominican  Puerto Rican  South  ...   \n",
       "2                                              Pizza   \n",
       "3                                           American   \n",
       "4                                         Hamburgers   \n",
       "\n",
       "                                            ACTION  SCORE  \\\n",
       "0  Violations were cited in the following area s     23.0   \n",
       "1  Violations were cited in the following area s      7.0   \n",
       "2  Violations were cited in the following area s     12.0   \n",
       "3  Violations were cited in the following area s     11.0   \n",
       "4  Violations were cited in the following area s      7.0   \n",
       "\n",
       "        INSPECTION NO.            INSPECTION_TYPE CRITICAL FLAG  \n",
       "0   Initial Inspection          Cycle Inspection       Critical  \n",
       "1   Initial Inspection          Cycle Inspection       Critical  \n",
       "2   Initial Inspection          Cycle Inspection       Critical  \n",
       "3   Initial Inspection   Inter Agency Task Force   Not Critical  \n",
       "4   Initial Inspection  Pre permit  Operational        Critical  "
      ]
     },
     "execution_count": 273,
     "metadata": {},
     "output_type": "execute_result"
    }
   ],
   "source": [
    "trainDataOR.head()"
   ]
  },
  {
   "cell_type": "markdown",
   "metadata": {},
   "source": [
    "## Data Cleaning in Street"
   ]
  },
  {
   "cell_type": "code",
   "execution_count": 274,
   "metadata": {
    "scrolled": true
   },
   "outputs": [
    {
     "data": {
      "text/plain": [
       "BROADWAY                    7105\n",
       "3 AVENUE                    2822\n",
       "5 AVENUE                    2117\n",
       "2 AVENUE                    2105\n",
       "8 AVENUE                    1725\n",
       "ROOSEVELT AVENUE            1584\n",
       "LEXINGTON AVENUE            1560\n",
       "1 AVENUE                    1529\n",
       "NORTHERN BOULEVARD          1505\n",
       "7 AVENUE                    1494\n",
       "AMSTERDAM AVENUE            1450\n",
       "3RD AVE                     1412\n",
       "JAMAICA AVENUE              1408\n",
       "9 AVENUE                    1402\n",
       "2ND AVE                     1318\n",
       "QUEENS BOULEVARD            1169\n",
       "ROOSEVELT AVE               1146\n",
       "5TH AVE                     1039\n",
       "8TH AVE                      993\n",
       "NORTHERN BLVD                980\n",
       "FULTON STREET                971\n",
       "FLATBUSH AVENUE              947\n",
       "NOSTRAND AVENUE              894\n",
       "MYRTLE AVENUE                876\n",
       "AVENUE U                     848\n",
       "1ST AVE                      812\n",
       "LEXINGTON AVE                785\n",
       "9TH AVE                      780\n",
       "GRAND STREET                 762\n",
       "4 AVENUE                     727\n",
       "                            ... \n",
       "WOODROW RD                     1\n",
       "BRICKTOWN WAY                  1\n",
       "W 182ND ST                     1\n",
       "N 11TH ST                      1\n",
       "144TH PL                       1\n",
       "AVERY AVE                      1\n",
       "STRATFORD AVENUE               1\n",
       "FEATHERBED LN                  1\n",
       "HIGH LINE PARK W 15TH ST       1\n",
       "WEST 33rd STREET               1\n",
       "HART STREET                    1\n",
       "JUDGE STREET                   1\n",
       "TERMINAL 5                     1\n",
       "COLLEGE AVENUE                 1\n",
       "ALBEE SQUARE STREET            1\n",
       "EAST  241 STREET               1\n",
       "VESTRY ST                      1\n",
       "HTCHNSON RIV PKWY              1\n",
       "WHITEHALL STREET               1\n",
       "85TH ST                        1\n",
       "CLIFF ST                       1\n",
       "SOUTH CONDUIT AVE              1\n",
       "DUANE ST                       1\n",
       "13TH AVENUE                    1\n",
       "N 3RD ST                       1\n",
       "E 74TH ST                      1\n",
       "E 80TH ST                      1\n",
       "SOUTH AVE                      1\n",
       "FORT WASHINGTON AVE            1\n",
       "WEST 168 STREET                1\n",
       "Name: STREET, Length: 3186, dtype: int64"
      ]
     },
     "execution_count": 274,
     "metadata": {},
     "output_type": "execute_result"
    }
   ],
   "source": [
    "trainDataOR['STREET'].value_counts()"
   ]
  },
  {
   "cell_type": "code",
   "execution_count": 275,
   "metadata": {
    "collapsed": true
   },
   "outputs": [],
   "source": [
    "trainDataOR['STREET'] = trainDataOR['STREET'].str.replace('AVENUE','AVE')"
   ]
  },
  {
   "cell_type": "code",
   "execution_count": 276,
   "metadata": {
    "collapsed": true
   },
   "outputs": [],
   "source": [
    "trainDataOR['STREET'] = trainDataOR['STREET'].str.replace('RD ',' ')\n",
    "trainDataOR['STREET'] = trainDataOR['STREET'].str.replace('ND ',' ')\n",
    "trainDataOR['STREET'] = trainDataOR['STREET'].str.replace('TH ',' ')"
   ]
  },
  {
   "cell_type": "code",
   "execution_count": 277,
   "metadata": {
    "collapsed": true
   },
   "outputs": [],
   "source": [
    "trainDataOR['STREET'] = trainDataOR['STREET'].str.replace('ST ',' ')"
   ]
  },
  {
   "cell_type": "code",
   "execution_count": 278,
   "metadata": {
    "collapsed": true
   },
   "outputs": [],
   "source": [
    "trainDataOR['STREET'] = trainDataOR['STREET'].str.replace('BOULEVARD','BLVD')"
   ]
  },
  {
   "cell_type": "code",
   "execution_count": 279,
   "metadata": {
    "collapsed": true
   },
   "outputs": [],
   "source": [
    "trainDataOR['STREET'] = trainDataOR['STREET'].str.replace('STREET','ST')"
   ]
  },
  {
   "cell_type": "code",
   "execution_count": 280,
   "metadata": {
    "collapsed": true
   },
   "outputs": [],
   "source": [
    "trainDataOR['STREET'] = trainDataOR['STREET'].str.replace('PLACE','PL')"
   ]
  },
  {
   "cell_type": "code",
   "execution_count": 281,
   "metadata": {
    "collapsed": true
   },
   "outputs": [],
   "source": [
    "trainDataOR['STREET'] = trainDataOR['STREET'].str.replace('LANE','LN')"
   ]
  },
  {
   "cell_type": "code",
   "execution_count": 282,
   "metadata": {
    "collapsed": true
   },
   "outputs": [],
   "source": [
    "trainDataOR['STREET'] = trainDataOR['STREET'].str.replace('CENTER','CTR')\n",
    "trainDataOR['STREET'] = trainDataOR['STREET'].str.replace('SQUARE','SQ')\n",
    "trainDataOR['STREET'] = trainDataOR['STREET'].str.replace('BANKER','BANK')"
   ]
  },
  {
   "cell_type": "code",
   "execution_count": 283,
   "metadata": {
    "scrolled": true
   },
   "outputs": [
    {
     "data": {
      "text/plain": [
       "BROADWAY                               7105\n",
       "3 AVE                                  4277\n",
       "2 AVE                                  3500\n",
       "5 AVE                                  3206\n",
       "8 AVE                                  2810\n",
       "ROOSEVELT AVE                          2730\n",
       "NORTHERN BLVD                          2485\n",
       "1 AVE                                  2412\n",
       "LEXINGTON AVE                          2345\n",
       "7 AVE                                  2198\n",
       "9 AVE                                  2197\n",
       "AMSTERDAM AVE                          2087\n",
       "JAMAICA AVE                            2084\n",
       "QUEENS BLVD                            1842\n",
       "FULTON ST                              1505\n",
       "FLATBUSH AVE                           1490\n",
       "NOSTRA AVE                             1453\n",
       "MYRTLE AVE                             1370\n",
       "MAIN ST                                1247\n",
       "4 AVE                                  1230\n",
       "GRA ST                                 1198\n",
       "37 AVE                                 1166\n",
       "86 ST                                  1068\n",
       "LIBERTY AVE                            1059\n",
       "WESTCHESTER AVE                        1026\n",
       "MADISON AVE                            1001\n",
       "HILLSIDE AVE                            955\n",
       "METROPOLITAN AVE                        935\n",
       "CHURCH AVE                              929\n",
       "ATLANTIC AVE                            917\n",
       "                                       ... \n",
       "E 83 ST                                   1\n",
       "BAYSIDE                                   1\n",
       "W MOUNT EDEN AVE                          1\n",
       "BOX ST                                    1\n",
       "ELLIS AVE                                 1\n",
       "PATTERSON AVE                             1\n",
       "NEW DORP PLZ N                            1\n",
       "HIGH LINE PARK W 15 ST                    1\n",
       "BRICKTOWN WAY                             1\n",
       "VESTRY ST                                 1\n",
       "HEBERTON AVE                              1\n",
       "FENIMORE ST                               1\n",
       "144 PL                                    1\n",
       "SPOFFO AVE                                1\n",
       "RADCLIFF AVE                              1\n",
       "WE  123 ST                                1\n",
       "JEWEL AVE                                 1\n",
       "W 182 ST                                  1\n",
       "ALBEE SQ ST                               1\n",
       "E 80 ST                                   1\n",
       "AMERICAN AIR JFK AIRPORT TERMINAL 8       1\n",
       "WATERSIDE PLZ                             1\n",
       "MCKIBBEN ST                               1\n",
       "WE 21 ST                                  1\n",
       "WE 33rd ST                                1\n",
       "MOUNT HOPE PL                             1\n",
       "BEVERLEY RD                               1\n",
       "MINETTA LN                                1\n",
       "LINCOLN CTR PLZ                           1\n",
       "WHITEHALL ST                              1\n",
       "Name: STREET, Length: 2448, dtype: int64"
      ]
     },
     "execution_count": 283,
     "metadata": {},
     "output_type": "execute_result"
    }
   ],
   "source": [
    "trainDataOR['STREET'].value_counts()"
   ]
  },
  {
   "cell_type": "markdown",
   "metadata": {},
   "source": [
    "##### Test Data"
   ]
  },
  {
   "cell_type": "code",
   "execution_count": 284,
   "metadata": {
    "scrolled": true
   },
   "outputs": [
    {
     "data": {
      "text/plain": [
       "BROADWAY                    888\n",
       "3 AVENUE                    346\n",
       "5 AVENUE                    282\n",
       "2 AVENUE                    264\n",
       "8 AVENUE                    226\n",
       "7 AVENUE                    208\n",
       "LEXINGTON AVENUE            205\n",
       "ROOSEVELT AVENUE            189\n",
       "JAMAICA AVENUE              183\n",
       "AMSTERDAM AVENUE            181\n",
       "1 AVENUE                    180\n",
       "3RD AVE                     179\n",
       "2ND AVE                     177\n",
       "NORTHERN BOULEVARD          172\n",
       "9 AVENUE                    160\n",
       "5TH AVE                     152\n",
       "QUEENS BOULEVARD            151\n",
       "ROOSEVELT AVE               142\n",
       "8TH AVE                     132\n",
       "MYRTLE AVENUE               123\n",
       "FLATBUSH AVENUE             119\n",
       "NORTHERN BLVD               117\n",
       "FULTON STREET               114\n",
       "NOSTRAND AVENUE             106\n",
       "LEXINGTON AVE               105\n",
       "AVENUE U                    103\n",
       "GRAND STREET                102\n",
       "37 AVENUE                    95\n",
       "MADISON AVENUE               89\n",
       "MAIN ST                      89\n",
       "                           ... \n",
       "EAST   98 STREET              1\n",
       "BAYVIEW AVENUE                1\n",
       "WEST  204 STREET              1\n",
       "CEBRA AVE                     1\n",
       "EAST   35 STREET              1\n",
       "SOUTH 4TH STREET              1\n",
       "42ND ROAD                     1\n",
       "EAST 13 STREET                1\n",
       "42ND ST                       1\n",
       "TOMKINS AVE                   1\n",
       "ADAM CLAYTON POWELL JR B      1\n",
       "30TH ST                       1\n",
       "VAN DOREN STREET              1\n",
       "E 42 ST                       1\n",
       "HARRISON PL                   1\n",
       "POWELLS COVE BOULEVARD        1\n",
       "WOODWARD AVE                  1\n",
       "8TH AVE   31ST ST             1\n",
       "PROSPECT PARK SW              1\n",
       "WEST 124 STREET               1\n",
       "EAST  173 STREET              1\n",
       "17TH AVE                      1\n",
       "ASTOR PLACE                   1\n",
       "4TH ST                        1\n",
       "19 STREET                     1\n",
       "EAST 14TH STREET              1\n",
       "BAYSIDE                       1\n",
       "E 15TH ST                     1\n",
       "47 STREET                     1\n",
       "LITTLE NECK PARKWAY           1\n",
       "Name: STREET, Length: 2507, dtype: int64"
      ]
     },
     "execution_count": 284,
     "metadata": {},
     "output_type": "execute_result"
    }
   ],
   "source": [
    "testDataOR['STREET'].value_counts()"
   ]
  },
  {
   "cell_type": "code",
   "execution_count": 285,
   "metadata": {
    "collapsed": true
   },
   "outputs": [],
   "source": [
    "testDataOR['STREET'] = testDataOR['STREET'].str.replace('AVENUE','AVE')"
   ]
  },
  {
   "cell_type": "code",
   "execution_count": 286,
   "metadata": {
    "collapsed": true
   },
   "outputs": [],
   "source": [
    "testDataOR['STREET'] = testDataOR['STREET'].str.replace('RD ',' ')\n",
    "testDataOR['STREET'] = testDataOR['STREET'].str.replace('ND ',' ')\n",
    "testDataOR['STREET'] = testDataOR['STREET'].str.replace('TH ',' ')\n",
    "testDataOR['STREET'] = testDataOR['STREET'].str.replace('ST ',' ')"
   ]
  },
  {
   "cell_type": "code",
   "execution_count": 287,
   "metadata": {
    "collapsed": true
   },
   "outputs": [],
   "source": [
    "testDataOR['STREET'] = testDataOR['STREET'].str.replace('BOULEVARD','BLVD')\n",
    "testDataOR['STREET'] = testDataOR['STREET'].str.replace('STREET','ST')\n",
    "testDataOR['STREET'] = testDataOR['STREET'].str.replace('PLACE','PL')\n",
    "testDataOR['STREET'] = testDataOR['STREET'].str.replace('LANE','LN')"
   ]
  },
  {
   "cell_type": "code",
   "execution_count": 288,
   "metadata": {
    "collapsed": true
   },
   "outputs": [],
   "source": [
    "testDataOR['STREET'] = testDataOR['STREET'].str.replace('CENTER','CTR')\n",
    "testDataOR['STREET'] = testDataOR['STREET'].str.replace('SQUARE','SQ')\n",
    "testDataOR['STREET'] = testDataOR['STREET'].str.replace('BANKER','BANK')"
   ]
  },
  {
   "cell_type": "code",
   "execution_count": 289,
   "metadata": {
    "scrolled": true
   },
   "outputs": [
    {
     "data": {
      "text/plain": [
       "BROADWAY               888\n",
       "3 AVE                  528\n",
       "2 AVE                  454\n",
       "5 AVE                  442\n",
       "8 AVE                  368\n",
       "ROOSEVELT AVE          331\n",
       "LEXINGTON AVE          310\n",
       "7 AVE                  297\n",
       "NORTHERN BLVD          289\n",
       "1 AVE                  271\n",
       "JAMAICA AVE            268\n",
       "AMSTERDAM AVE          260\n",
       "9 AVE                  245\n",
       "QUEENS BLVD            238\n",
       "FLATBUSH AVE           197\n",
       "MYRTLE AVE             188\n",
       "FULTON ST              180\n",
       "NOSTRA AVE             179\n",
       "MAIN ST                158\n",
       "GRA ST                 156\n",
       "37 AVE                 156\n",
       "4 AVE                  149\n",
       "LIBERTY AVE            132\n",
       "MADISON AVE            131\n",
       "WESTCHESTER AVE        127\n",
       "86 ST                  122\n",
       "METROPOLITAN AVE       120\n",
       "HILLSIDE AVE           119\n",
       "FORE AVE               117\n",
       "CONEY ISLA AVE         117\n",
       "                      ... \n",
       "E 104 ST                 1\n",
       "EA  122 ST               1\n",
       "UNION HALL ST            1\n",
       "BAYSIDE DRIVE            1\n",
       "WHITESTONE EXPY          1\n",
       "E 48 ST                  1\n",
       "EA   23  ST              1\n",
       "EA   65 ST               1\n",
       "EA   19 ST               1\n",
       "LITTLE NECK PARKWAY      1\n",
       "323 W  46                1\n",
       "CASE ST                  1\n",
       "E 222 ST                 1\n",
       "CEBRA AVE                1\n",
       "N 12 ST                  1\n",
       "W 65 ST                  1\n",
       "EA  172 ST               1\n",
       "BAY RIDGE PKWY           1\n",
       "PENN STATION 33 ST       1\n",
       "EMPIRE AVE               1\n",
       "19 ST                    1\n",
       "CENTRAL PARK NORTH       1\n",
       "WE 8 ST                  1\n",
       "MARATHON PKWY            1\n",
       "W 12 ST                  1\n",
       "4 ST                     1\n",
       "ISHAM ST                 1\n",
       "HOFFMAN ST               1\n",
       "WE 34 ST                 1\n",
       "WE  172 ST               1\n",
       "Name: STREET, Length: 1964, dtype: int64"
      ]
     },
     "execution_count": 289,
     "metadata": {},
     "output_type": "execute_result"
    }
   ],
   "source": [
    "testDataOR['STREET'].value_counts()"
   ]
  },
  {
   "cell_type": "code",
   "execution_count": 290,
   "metadata": {},
   "outputs": [
    {
     "data": {
      "text/plain": [
       "BORO                    object\n",
       "BUILDING                 int64\n",
       "STREET                  object\n",
       "ZIPCODE                float64\n",
       "CUISINE DESCRIPTION     object\n",
       "ACTION                  object\n",
       "SCORE                  float64\n",
       "INSPECTION NO.          object\n",
       "INSPECTION_TYPE         object\n",
       "CRITICAL FLAG           object\n",
       "dtype: object"
      ]
     },
     "execution_count": 290,
     "metadata": {},
     "output_type": "execute_result"
    }
   ],
   "source": [
    "trainDataOR.dtypes"
   ]
  },
  {
   "cell_type": "markdown",
   "metadata": {},
   "source": [
    "##### With STREET Column"
   ]
  },
  {
   "cell_type": "code",
   "execution_count": 291,
   "metadata": {
    "collapsed": true
   },
   "outputs": [],
   "source": [
    "trainWHST = trainDataOR.copy()\n",
    "testWHST = testDataOR.copy()"
   ]
  },
  {
   "cell_type": "code",
   "execution_count": 292,
   "metadata": {
    "collapsed": true
   },
   "outputs": [],
   "source": [
    "# trainWHST = trainWHST.drop('STREET', axis = 1)\n",
    "\n",
    "# testWHST = testWHST.drop('STREET', axis = 1)"
   ]
  },
  {
   "cell_type": "code",
   "execution_count": null,
   "metadata": {
    "collapsed": true
   },
   "outputs": [],
   "source": []
  },
  {
   "cell_type": "code",
   "execution_count": 293,
   "metadata": {
    "collapsed": true
   },
   "outputs": [],
   "source": [
    "# trainWHST.to_csv(\"trainWHST.csv\",index=False)\n",
    "# testWHST.to_csv(\"testWHST.csv\",index=False)"
   ]
  },
  {
   "cell_type": "code",
   "execution_count": 294,
   "metadata": {
    "collapsed": true
   },
   "outputs": [],
   "source": [
    "trainWHST['ZIPCODE'] = trainWHST['ZIPCODE'].astype(object)\n",
    "testWHST['ZIPCODE'] = testWHST['ZIPCODE'].astype(object)"
   ]
  },
  {
   "cell_type": "markdown",
   "metadata": {},
   "source": [
    "# Data Scaling"
   ]
  },
  {
   "cell_type": "code",
   "execution_count": 295,
   "metadata": {
    "scrolled": true
   },
   "outputs": [
    {
     "data": {
      "text/plain": [
       "(array([1.0000e+00, 0.0000e+00, 6.4000e+01, 0.0000e+00, 5.7000e+01,\n",
       "        0.0000e+00, 0.0000e+00, 0.0000e+00, 2.7330e+03, 0.0000e+00,\n",
       "        0.0000e+00, 1.1260e+03, 0.0000e+00, 2.5590e+03, 0.0000e+00,\n",
       "        3.4680e+03, 0.0000e+00, 1.8230e+03, 0.0000e+00, 0.0000e+00,\n",
       "        8.6810e+03, 0.0000e+00, 4.4500e+03, 0.0000e+00, 1.1417e+04,\n",
       "        0.0000e+00, 1.2948e+04, 0.0000e+00, 1.2195e+04, 0.0000e+00,\n",
       "        0.0000e+00, 2.1047e+04, 0.0000e+00, 1.4459e+04, 0.0000e+00,\n",
       "        3.1490e+03, 0.0000e+00, 3.6560e+03, 0.0000e+00, 0.0000e+00,\n",
       "        4.0090e+03, 0.0000e+00, 6.4900e+03, 0.0000e+00, 5.6600e+03,\n",
       "        0.0000e+00, 6.5730e+03, 0.0000e+00, 6.0510e+03, 0.0000e+00,\n",
       "        0.0000e+00, 5.4850e+03, 0.0000e+00, 5.6410e+03, 0.0000e+00,\n",
       "        4.6660e+03, 0.0000e+00, 4.9520e+03, 0.0000e+00, 0.0000e+00,\n",
       "        4.3000e+03, 0.0000e+00, 3.9450e+03, 0.0000e+00, 3.6320e+03,\n",
       "        0.0000e+00, 2.8220e+03, 0.0000e+00, 2.5730e+03, 0.0000e+00,\n",
       "        0.0000e+00, 2.5710e+03, 0.0000e+00, 2.1900e+03, 0.0000e+00,\n",
       "        2.2090e+03, 0.0000e+00, 1.9620e+03, 0.0000e+00, 0.0000e+00,\n",
       "        1.5940e+03, 0.0000e+00, 1.6630e+03, 0.0000e+00, 1.1710e+03,\n",
       "        0.0000e+00, 1.2410e+03, 0.0000e+00, 1.2160e+03, 0.0000e+00,\n",
       "        0.0000e+00, 1.0240e+03, 0.0000e+00, 1.2690e+03, 0.0000e+00,\n",
       "        8.1100e+02, 0.0000e+00, 8.1500e+02, 0.0000e+00, 8.1600e+02]),\n",
       " array([-2.  , -1.55, -1.1 , -0.65, -0.2 ,  0.25,  0.7 ,  1.15,  1.6 ,\n",
       "         2.05,  2.5 ,  2.95,  3.4 ,  3.85,  4.3 ,  4.75,  5.2 ,  5.65,\n",
       "         6.1 ,  6.55,  7.  ,  7.45,  7.9 ,  8.35,  8.8 ,  9.25,  9.7 ,\n",
       "        10.15, 10.6 , 11.05, 11.5 , 11.95, 12.4 , 12.85, 13.3 , 13.75,\n",
       "        14.2 , 14.65, 15.1 , 15.55, 16.  , 16.45, 16.9 , 17.35, 17.8 ,\n",
       "        18.25, 18.7 , 19.15, 19.6 , 20.05, 20.5 , 20.95, 21.4 , 21.85,\n",
       "        22.3 , 22.75, 23.2 , 23.65, 24.1 , 24.55, 25.  , 25.45, 25.9 ,\n",
       "        26.35, 26.8 , 27.25, 27.7 , 28.15, 28.6 , 29.05, 29.5 , 29.95,\n",
       "        30.4 , 30.85, 31.3 , 31.75, 32.2 , 32.65, 33.1 , 33.55, 34.  ,\n",
       "        34.45, 34.9 , 35.35, 35.8 , 36.25, 36.7 , 37.15, 37.6 , 38.05,\n",
       "        38.5 , 38.95, 39.4 , 39.85, 40.3 , 40.75, 41.2 , 41.65, 42.1 ,\n",
       "        42.55, 43.  ]),\n",
       " <a list of 100 Patch objects>)"
      ]
     },
     "execution_count": 295,
     "metadata": {},
     "output_type": "execute_result"
    },
    {
     "data": {
      "image/png": "[encoded data removed]",
      "text/plain": [
       "<matplotlib.figure.Figure at 0x112d58d30>"
      ]
     },
     "metadata": {},
     "output_type": "display_data"
    }
   ],
   "source": [
    "#Normality check\n",
    "%matplotlib inline  \n",
    "plt.hist(trainWHST['SCORE'], bins=100)"
   ]
  },
  {
   "cell_type": "code",
   "execution_count": 296,
   "metadata": {},
   "outputs": [
    {
     "data": {
      "text/plain": [
       "BORO                    object\n",
       "BUILDING                 int64\n",
       "STREET                  object\n",
       "ZIPCODE                 object\n",
       "CUISINE DESCRIPTION     object\n",
       "ACTION                  object\n",
       "SCORE                  float64\n",
       "INSPECTION NO.          object\n",
       "INSPECTION_TYPE         object\n",
       "CRITICAL FLAG           object\n",
       "dtype: object"
      ]
     },
     "execution_count": 296,
     "metadata": {},
     "output_type": "execute_result"
    }
   ],
   "source": [
    "trainWHST.dtypes"
   ]
  },
  {
   "cell_type": "code",
   "execution_count": 297,
   "metadata": {},
   "outputs": [
    {
     "name": "stdout",
     "output_type": "stream",
     "text": [
      "SCORE\n",
      "43.0\n",
      "BUILDING\n",
      "94179419\n"
     ]
    }
   ],
   "source": [
    "#Nomalisation\n",
    "cnames = ['SCORE','BUILDING']\n",
    "for i in cnames:\n",
    "    print(i)\n",
    "    print(trainWHST[i].max())\n",
    "    rangeOfData = (trainWHST[i].max() - trainWHST[i].min())\n",
    "    trainWHST[i] = (trainWHST[i] - trainWHST[i].min())/(rangeOfData)"
   ]
  },
  {
   "cell_type": "code",
   "execution_count": 298,
   "metadata": {},
   "outputs": [
    {
     "name": "stdout",
     "output_type": "stream",
     "text": [
      "SCORE\n",
      "139.0\n",
      "BUILDING\n",
      "94179419\n"
     ]
    }
   ],
   "source": [
    "cnames = ['SCORE','BUILDING']\n",
    "for i in cnames:\n",
    "    print(i)\n",
    "    print(testWHST[i].max())\n",
    "    rangeOfData = (testWHST[i].max() - testWHST[i].min())\n",
    "    testWHST[i] = (testWHST[i] - testWHST[i].min())/(rangeOfData)"
   ]
  },
  {
   "cell_type": "code",
   "execution_count": 299,
   "metadata": {},
   "outputs": [
    {
     "data": {
      "text/plain": [
       "(23995, 9)"
      ]
     },
     "execution_count": 299,
     "metadata": {},
     "output_type": "execute_result"
    }
   ],
   "source": [
    "testWHST.shape"
   ]
  },
  {
   "cell_type": "code",
   "execution_count": 300,
   "metadata": {},
   "outputs": [
    {
     "data": {
      "text/html": [
       "<div>\n",
       "<style>\n",
       "    .dataframe thead tr:only-child th {\n",
       "        text-align: right;\n",
       "    }\n",
       "\n",
       "    .dataframe thead th {\n",
       "        text-align: left;\n",
       "    }\n",
       "\n",
       "    .dataframe tbody tr th {\n",
       "        vertical-align: top;\n",
       "    }\n",
       "</style>\n",
       "<table border=\"1\" class=\"dataframe\">\n",
       "  <thead>\n",
       "    <tr style=\"text-align: right;\">\n",
       "      <th></th>\n",
       "      <th>BORO</th>\n",
       "      <th>BUILDING</th>\n",
       "      <th>STREET</th>\n",
       "      <th>ZIPCODE</th>\n",
       "      <th>CUISINE DESCRIPTION</th>\n",
       "      <th>ACTION</th>\n",
       "      <th>SCORE</th>\n",
       "      <th>INSPECTION NO.</th>\n",
       "      <th>INSPECTION_TYPE</th>\n",
       "    </tr>\n",
       "  </thead>\n",
       "  <tbody>\n",
       "    <tr>\n",
       "      <th>0</th>\n",
       "      <td>MANHATTAN</td>\n",
       "      <td>1.815683e-06</td>\n",
       "      <td>SULLIVAN ST</td>\n",
       "      <td>10012</td>\n",
       "      <td>Vegetarian</td>\n",
       "      <td>Violations were cited in the following area s</td>\n",
       "      <td>0.063830</td>\n",
       "      <td>Initial Inspection</td>\n",
       "      <td>Cycle Inspection</td>\n",
       "    </tr>\n",
       "    <tr>\n",
       "      <th>1</th>\n",
       "      <td>QUEENS</td>\n",
       "      <td>1.089304e-04</td>\n",
       "      <td>JAMAICA AVE</td>\n",
       "      <td>11418</td>\n",
       "      <td>Chinese</td>\n",
       "      <td>Violations were cited in the following area s</td>\n",
       "      <td>0.085106</td>\n",
       "      <td>Initial Inspection</td>\n",
       "      <td>Cycle Inspection</td>\n",
       "    </tr>\n",
       "    <tr>\n",
       "      <th>2</th>\n",
       "      <td>MANHATTAN</td>\n",
       "      <td>3.344680e-06</td>\n",
       "      <td>WE   54 ST</td>\n",
       "      <td>10019</td>\n",
       "      <td>Russian</td>\n",
       "      <td>Violations were cited in the following area s</td>\n",
       "      <td>0.113475</td>\n",
       "      <td>Initial Inspection</td>\n",
       "      <td>Cycle Inspection</td>\n",
       "    </tr>\n",
       "    <tr>\n",
       "      <th>3</th>\n",
       "      <td>MANHATTAN</td>\n",
       "      <td>3.928672e-07</td>\n",
       "      <td>W 42 ST</td>\n",
       "      <td>10036</td>\n",
       "      <td>French</td>\n",
       "      <td>Violations were cited in the following area s</td>\n",
       "      <td>0.078014</td>\n",
       "      <td>Initial Inspection</td>\n",
       "      <td>Pre permit  Operational</td>\n",
       "    </tr>\n",
       "    <tr>\n",
       "      <th>4</th>\n",
       "      <td>QUEENS</td>\n",
       "      <td>7.772399e-05</td>\n",
       "      <td>NORTHERN BLVD</td>\n",
       "      <td>11372</td>\n",
       "      <td>Peruvian</td>\n",
       "      <td>Violations were cited in the following area s</td>\n",
       "      <td>0.127660</td>\n",
       "      <td>Initial Inspection</td>\n",
       "      <td>Cycle Inspection</td>\n",
       "    </tr>\n",
       "  </tbody>\n",
       "</table>\n",
       "</div>"
      ],
      "text/plain": [
       "        BORO      BUILDING         STREET ZIPCODE CUISINE DESCRIPTION  \\\n",
       "0  MANHATTAN  1.815683e-06    SULLIVAN ST   10012          Vegetarian   \n",
       "1     QUEENS  1.089304e-04    JAMAICA AVE   11418             Chinese   \n",
       "2  MANHATTAN  3.344680e-06     WE   54 ST   10019             Russian   \n",
       "3  MANHATTAN  3.928672e-07        W 42 ST   10036              French   \n",
       "4     QUEENS  7.772399e-05  NORTHERN BLVD   11372            Peruvian   \n",
       "\n",
       "                                            ACTION     SCORE  \\\n",
       "0  Violations were cited in the following area s    0.063830   \n",
       "1  Violations were cited in the following area s    0.085106   \n",
       "2  Violations were cited in the following area s    0.113475   \n",
       "3  Violations were cited in the following area s    0.078014   \n",
       "4  Violations were cited in the following area s    0.127660   \n",
       "\n",
       "        INSPECTION NO.            INSPECTION_TYPE  \n",
       "0   Initial Inspection          Cycle Inspection   \n",
       "1   Initial Inspection          Cycle Inspection   \n",
       "2   Initial Inspection          Cycle Inspection   \n",
       "3   Initial Inspection  Pre permit  Operational    \n",
       "4   Initial Inspection          Cycle Inspection   "
      ]
     },
     "execution_count": 300,
     "metadata": {},
     "output_type": "execute_result"
    }
   ],
   "source": [
    "testWHST.head()"
   ]
  },
  {
   "cell_type": "markdown",
   "metadata": {},
   "source": [
    "# Data Encoding(Dummy variable)--"
   ]
  },
  {
   "cell_type": "markdown",
   "metadata": {},
   "source": [
    "##### STEP-1: Create logistic data. Save target variable first"
   ]
  },
  {
   "cell_type": "code",
   "execution_count": 301,
   "metadata": {
    "collapsed": true
   },
   "outputs": [],
   "source": [
    "#STEP-1: Create logistic data. Save target variable first\n",
    "trainDfEncode = pd.DataFrame(trainWHST['CRITICAL FLAG'])"
   ]
  },
  {
   "cell_type": "code",
   "execution_count": 302,
   "metadata": {},
   "outputs": [
    {
     "data": {
      "text/html": [
       "<div>\n",
       "<style>\n",
       "    .dataframe thead tr:only-child th {\n",
       "        text-align: right;\n",
       "    }\n",
       "\n",
       "    .dataframe thead th {\n",
       "        text-align: left;\n",
       "    }\n",
       "\n",
       "    .dataframe tbody tr th {\n",
       "        vertical-align: top;\n",
       "    }\n",
       "</style>\n",
       "<table border=\"1\" class=\"dataframe\">\n",
       "  <thead>\n",
       "    <tr style=\"text-align: right;\">\n",
       "      <th></th>\n",
       "      <th>CRITICAL FLAG</th>\n",
       "    </tr>\n",
       "  </thead>\n",
       "  <tbody>\n",
       "    <tr>\n",
       "      <th>0</th>\n",
       "      <td>Critical</td>\n",
       "    </tr>\n",
       "    <tr>\n",
       "      <th>1</th>\n",
       "      <td>Critical</td>\n",
       "    </tr>\n",
       "    <tr>\n",
       "      <th>2</th>\n",
       "      <td>Critical</td>\n",
       "    </tr>\n",
       "    <tr>\n",
       "      <th>3</th>\n",
       "      <td>Not Critical</td>\n",
       "    </tr>\n",
       "    <tr>\n",
       "      <th>4</th>\n",
       "      <td>Critical</td>\n",
       "    </tr>\n",
       "  </tbody>\n",
       "</table>\n",
       "</div>"
      ],
      "text/plain": [
       "  CRITICAL FLAG\n",
       "0      Critical\n",
       "1      Critical\n",
       "2      Critical\n",
       "3  Not Critical\n",
       "4      Critical"
      ]
     },
     "execution_count": 302,
     "metadata": {},
     "output_type": "execute_result"
    }
   ],
   "source": [
    "trainDfEncode.head()"
   ]
  },
  {
   "cell_type": "markdown",
   "metadata": {},
   "source": [
    "##### STEP-2: Add all continous variables"
   ]
  },
  {
   "cell_type": "code",
   "execution_count": 303,
   "metadata": {
    "collapsed": true
   },
   "outputs": [],
   "source": [
    "cnames = ['BUILDING','SCORE']\n",
    "\n",
    "#STEP-2: Add all continous variables\n",
    "trainDfEncode = trainDfEncode.join(trainWHST[cnames])"
   ]
  },
  {
   "cell_type": "code",
   "execution_count": 304,
   "metadata": {
    "collapsed": true
   },
   "outputs": [],
   "source": [
    "testDfEncode = pd.DataFrame(testWHST['BUILDING'])"
   ]
  },
  {
   "cell_type": "code",
   "execution_count": 305,
   "metadata": {
    "collapsed": true
   },
   "outputs": [],
   "source": [
    "testDfEncode = testDfEncode.join(testWHST['SCORE'])"
   ]
  },
  {
   "cell_type": "code",
   "execution_count": 306,
   "metadata": {
    "collapsed": true
   },
   "outputs": [],
   "source": [
    "#testDfEncode = testDfEncode.join(testWHST['ZIPCODE'])"
   ]
  },
  {
   "cell_type": "code",
   "execution_count": 307,
   "metadata": {},
   "outputs": [
    {
     "data": {
      "text/html": [
       "<div>\n",
       "<style>\n",
       "    .dataframe thead tr:only-child th {\n",
       "        text-align: right;\n",
       "    }\n",
       "\n",
       "    .dataframe thead th {\n",
       "        text-align: left;\n",
       "    }\n",
       "\n",
       "    .dataframe tbody tr th {\n",
       "        vertical-align: top;\n",
       "    }\n",
       "</style>\n",
       "<table border=\"1\" class=\"dataframe\">\n",
       "  <thead>\n",
       "    <tr style=\"text-align: right;\">\n",
       "      <th></th>\n",
       "      <th>BUILDING</th>\n",
       "      <th>SCORE</th>\n",
       "    </tr>\n",
       "  </thead>\n",
       "  <tbody>\n",
       "    <tr>\n",
       "      <th>0</th>\n",
       "      <td>1.815683e-06</td>\n",
       "      <td>0.063830</td>\n",
       "    </tr>\n",
       "    <tr>\n",
       "      <th>1</th>\n",
       "      <td>1.089304e-04</td>\n",
       "      <td>0.085106</td>\n",
       "    </tr>\n",
       "    <tr>\n",
       "      <th>2</th>\n",
       "      <td>3.344680e-06</td>\n",
       "      <td>0.113475</td>\n",
       "    </tr>\n",
       "    <tr>\n",
       "      <th>3</th>\n",
       "      <td>3.928672e-07</td>\n",
       "      <td>0.078014</td>\n",
       "    </tr>\n",
       "    <tr>\n",
       "      <th>4</th>\n",
       "      <td>7.772399e-05</td>\n",
       "      <td>0.127660</td>\n",
       "    </tr>\n",
       "  </tbody>\n",
       "</table>\n",
       "</div>"
      ],
      "text/plain": [
       "       BUILDING     SCORE\n",
       "0  1.815683e-06  0.063830\n",
       "1  1.089304e-04  0.085106\n",
       "2  3.344680e-06  0.113475\n",
       "3  3.928672e-07  0.078014\n",
       "4  7.772399e-05  0.127660"
      ]
     },
     "execution_count": 307,
     "metadata": {},
     "output_type": "execute_result"
    }
   ],
   "source": [
    "testDfEncode.head()"
   ]
  },
  {
   "cell_type": "code",
   "execution_count": 308,
   "metadata": {},
   "outputs": [
    {
     "data": {
      "text/html": [
       "<div>\n",
       "<style>\n",
       "    .dataframe thead tr:only-child th {\n",
       "        text-align: right;\n",
       "    }\n",
       "\n",
       "    .dataframe thead th {\n",
       "        text-align: left;\n",
       "    }\n",
       "\n",
       "    .dataframe tbody tr th {\n",
       "        vertical-align: top;\n",
       "    }\n",
       "</style>\n",
       "<table border=\"1\" class=\"dataframe\">\n",
       "  <thead>\n",
       "    <tr style=\"text-align: right;\">\n",
       "      <th></th>\n",
       "      <th>CRITICAL FLAG</th>\n",
       "      <th>BUILDING</th>\n",
       "      <th>SCORE</th>\n",
       "    </tr>\n",
       "  </thead>\n",
       "  <tbody>\n",
       "    <tr>\n",
       "      <th>0</th>\n",
       "      <td>Critical</td>\n",
       "      <td>0.000123</td>\n",
       "      <td>0.555556</td>\n",
       "    </tr>\n",
       "    <tr>\n",
       "      <th>1</th>\n",
       "      <td>Critical</td>\n",
       "      <td>0.000108</td>\n",
       "      <td>0.200000</td>\n",
       "    </tr>\n",
       "    <tr>\n",
       "      <th>2</th>\n",
       "      <td>Critical</td>\n",
       "      <td>0.000059</td>\n",
       "      <td>0.311111</td>\n",
       "    </tr>\n",
       "    <tr>\n",
       "      <th>3</th>\n",
       "      <td>Not Critical</td>\n",
       "      <td>0.000008</td>\n",
       "      <td>0.288889</td>\n",
       "    </tr>\n",
       "    <tr>\n",
       "      <th>4</th>\n",
       "      <td>Critical</td>\n",
       "      <td>0.000034</td>\n",
       "      <td>0.200000</td>\n",
       "    </tr>\n",
       "  </tbody>\n",
       "</table>\n",
       "</div>"
      ],
      "text/plain": [
       "  CRITICAL FLAG  BUILDING     SCORE\n",
       "0      Critical  0.000123  0.555556\n",
       "1      Critical  0.000108  0.200000\n",
       "2      Critical  0.000059  0.311111\n",
       "3  Not Critical  0.000008  0.288889\n",
       "4      Critical  0.000034  0.200000"
      ]
     },
     "execution_count": 308,
     "metadata": {},
     "output_type": "execute_result"
    }
   ],
   "source": [
    "trainDfEncode.head()"
   ]
  },
  {
   "cell_type": "markdown",
   "metadata": {},
   "source": [
    "##### STEP-3: Add all categorical variables having more than 10 categories"
   ]
  },
  {
   "cell_type": "code",
   "execution_count": 309,
   "metadata": {},
   "outputs": [
    {
     "data": {
      "text/html": [
       "<div>\n",
       "<style>\n",
       "    .dataframe thead tr:only-child th {\n",
       "        text-align: right;\n",
       "    }\n",
       "\n",
       "    .dataframe thead th {\n",
       "        text-align: left;\n",
       "    }\n",
       "\n",
       "    .dataframe tbody tr th {\n",
       "        vertical-align: top;\n",
       "    }\n",
       "</style>\n",
       "<table border=\"1\" class=\"dataframe\">\n",
       "  <thead>\n",
       "    <tr style=\"text-align: right;\">\n",
       "      <th></th>\n",
       "      <th>BORO</th>\n",
       "      <th>BUILDING</th>\n",
       "      <th>STREET</th>\n",
       "      <th>ZIPCODE</th>\n",
       "      <th>CUISINE DESCRIPTION</th>\n",
       "      <th>ACTION</th>\n",
       "      <th>SCORE</th>\n",
       "      <th>INSPECTION NO.</th>\n",
       "      <th>INSPECTION_TYPE</th>\n",
       "      <th>CRITICAL FLAG</th>\n",
       "    </tr>\n",
       "  </thead>\n",
       "  <tbody>\n",
       "    <tr>\n",
       "      <th>0</th>\n",
       "      <td>QUEENS</td>\n",
       "      <td>0.000123</td>\n",
       "      <td>METROPOLITAN AVE</td>\n",
       "      <td>11418</td>\n",
       "      <td>Italian</td>\n",
       "      <td>Violations were cited in the following area s</td>\n",
       "      <td>0.555556</td>\n",
       "      <td>Initial Inspection</td>\n",
       "      <td>Cycle Inspection</td>\n",
       "      <td>Critical</td>\n",
       "    </tr>\n",
       "  </tbody>\n",
       "</table>\n",
       "</div>"
      ],
      "text/plain": [
       "     BORO  BUILDING            STREET ZIPCODE CUISINE DESCRIPTION  \\\n",
       "0  QUEENS  0.000123  METROPOLITAN AVE   11418             Italian   \n",
       "\n",
       "                                            ACTION     SCORE  \\\n",
       "0  Violations were cited in the following area s    0.555556   \n",
       "\n",
       "        INSPECTION NO.    INSPECTION_TYPE CRITICAL FLAG  \n",
       "0   Initial Inspection  Cycle Inspection       Critical  "
      ]
     },
     "execution_count": 309,
     "metadata": {},
     "output_type": "execute_result"
    }
   ],
   "source": [
    "trainWHST.head(1)"
   ]
  },
  {
   "cell_type": "code",
   "execution_count": 310,
   "metadata": {
    "collapsed": true
   },
   "outputs": [],
   "source": [
    "catVar = ['BORO','STREET','CUISINE DESCRIPTION','ACTION','INSPECTION NO.','INSPECTION_TYPE','ZIPCODE']"
   ]
  },
  {
   "cell_type": "code",
   "execution_count": 311,
   "metadata": {
    "collapsed": true
   },
   "outputs": [],
   "source": [
    "trainDfEncode = trainDfEncode.join(trainWHST[catVar])"
   ]
  },
  {
   "cell_type": "code",
   "execution_count": 312,
   "metadata": {
    "collapsed": true
   },
   "outputs": [],
   "source": [
    "testDfEncode = testDfEncode.join(testWHST[catVar])"
   ]
  },
  {
   "cell_type": "code",
   "execution_count": 313,
   "metadata": {},
   "outputs": [
    {
     "data": {
      "text/html": [
       "<div>\n",
       "<style>\n",
       "    .dataframe thead tr:only-child th {\n",
       "        text-align: right;\n",
       "    }\n",
       "\n",
       "    .dataframe thead th {\n",
       "        text-align: left;\n",
       "    }\n",
       "\n",
       "    .dataframe tbody tr th {\n",
       "        vertical-align: top;\n",
       "    }\n",
       "</style>\n",
       "<table border=\"1\" class=\"dataframe\">\n",
       "  <thead>\n",
       "    <tr style=\"text-align: right;\">\n",
       "      <th></th>\n",
       "      <th>CRITICAL FLAG</th>\n",
       "      <th>BUILDING</th>\n",
       "      <th>SCORE</th>\n",
       "      <th>BORO</th>\n",
       "      <th>STREET</th>\n",
       "      <th>CUISINE DESCRIPTION</th>\n",
       "      <th>ACTION</th>\n",
       "      <th>INSPECTION NO.</th>\n",
       "      <th>INSPECTION_TYPE</th>\n",
       "      <th>ZIPCODE</th>\n",
       "    </tr>\n",
       "  </thead>\n",
       "  <tbody>\n",
       "    <tr>\n",
       "      <th>0</th>\n",
       "      <td>Critical</td>\n",
       "      <td>0.000123</td>\n",
       "      <td>0.555556</td>\n",
       "      <td>QUEENS</td>\n",
       "      <td>METROPOLITAN AVE</td>\n",
       "      <td>Italian</td>\n",
       "      <td>Violations were cited in the following area s</td>\n",
       "      <td>Initial Inspection</td>\n",
       "      <td>Cycle Inspection</td>\n",
       "      <td>11418</td>\n",
       "    </tr>\n",
       "    <tr>\n",
       "      <th>1</th>\n",
       "      <td>Critical</td>\n",
       "      <td>0.000108</td>\n",
       "      <td>0.200000</td>\n",
       "      <td>QUEENS</td>\n",
       "      <td>ROOSEVELT AVE</td>\n",
       "      <td>Latin  Cuban  Dominican  Puerto Rican  South  ...</td>\n",
       "      <td>Violations were cited in the following area s</td>\n",
       "      <td>Initial Inspection</td>\n",
       "      <td>Cycle Inspection</td>\n",
       "      <td>11368</td>\n",
       "    </tr>\n",
       "    <tr>\n",
       "      <th>2</th>\n",
       "      <td>Critical</td>\n",
       "      <td>0.000059</td>\n",
       "      <td>0.311111</td>\n",
       "      <td>QUEENS</td>\n",
       "      <td>MYRTLE AVE</td>\n",
       "      <td>Pizza</td>\n",
       "      <td>Violations were cited in the following area s</td>\n",
       "      <td>Initial Inspection</td>\n",
       "      <td>Cycle Inspection</td>\n",
       "      <td>11385</td>\n",
       "    </tr>\n",
       "    <tr>\n",
       "      <th>3</th>\n",
       "      <td>Not Critical</td>\n",
       "      <td>0.000008</td>\n",
       "      <td>0.288889</td>\n",
       "      <td>BROOKLYN</td>\n",
       "      <td>FRANKLIN AVE</td>\n",
       "      <td>American</td>\n",
       "      <td>Violations were cited in the following area s</td>\n",
       "      <td>Initial Inspection</td>\n",
       "      <td>Inter Agency Task Force</td>\n",
       "      <td>11238</td>\n",
       "    </tr>\n",
       "    <tr>\n",
       "      <th>4</th>\n",
       "      <td>Critical</td>\n",
       "      <td>0.000034</td>\n",
       "      <td>0.200000</td>\n",
       "      <td>BROOKLYN</td>\n",
       "      <td>ATLANTIC AVE</td>\n",
       "      <td>Hamburgers</td>\n",
       "      <td>Violations were cited in the following area s</td>\n",
       "      <td>Initial Inspection</td>\n",
       "      <td>Pre permit  Operational</td>\n",
       "      <td>11208</td>\n",
       "    </tr>\n",
       "  </tbody>\n",
       "</table>\n",
       "</div>"
      ],
      "text/plain": [
       "  CRITICAL FLAG  BUILDING     SCORE      BORO            STREET  \\\n",
       "0      Critical  0.000123  0.555556    QUEENS  METROPOLITAN AVE   \n",
       "1      Critical  0.000108  0.200000    QUEENS     ROOSEVELT AVE   \n",
       "2      Critical  0.000059  0.311111    QUEENS        MYRTLE AVE   \n",
       "3  Not Critical  0.000008  0.288889  BROOKLYN      FRANKLIN AVE   \n",
       "4      Critical  0.000034  0.200000  BROOKLYN      ATLANTIC AVE   \n",
       "\n",
       "                                 CUISINE DESCRIPTION  \\\n",
       "0                                            Italian   \n",
       "1  Latin  Cuban  Dominican  Puerto Rican  South  ...   \n",
       "2                                              Pizza   \n",
       "3                                           American   \n",
       "4                                         Hamburgers   \n",
       "\n",
       "                                            ACTION       INSPECTION NO.  \\\n",
       "0  Violations were cited in the following area s     Initial Inspection   \n",
       "1  Violations were cited in the following area s     Initial Inspection   \n",
       "2  Violations were cited in the following area s     Initial Inspection   \n",
       "3  Violations were cited in the following area s     Initial Inspection   \n",
       "4  Violations were cited in the following area s     Initial Inspection   \n",
       "\n",
       "             INSPECTION_TYPE ZIPCODE  \n",
       "0          Cycle Inspection    11418  \n",
       "1          Cycle Inspection    11368  \n",
       "2          Cycle Inspection    11385  \n",
       "3   Inter Agency Task Force    11238  \n",
       "4  Pre permit  Operational     11208  "
      ]
     },
     "execution_count": 313,
     "metadata": {},
     "output_type": "execute_result"
    }
   ],
   "source": [
    "trainDfEncode.head()"
   ]
  },
  {
   "cell_type": "code",
   "execution_count": 314,
   "metadata": {
    "scrolled": false
   },
   "outputs": [
    {
     "data": {
      "text/html": [
       "<div>\n",
       "<style>\n",
       "    .dataframe thead tr:only-child th {\n",
       "        text-align: right;\n",
       "    }\n",
       "\n",
       "    .dataframe thead th {\n",
       "        text-align: left;\n",
       "    }\n",
       "\n",
       "    .dataframe tbody tr th {\n",
       "        vertical-align: top;\n",
       "    }\n",
       "</style>\n",
       "<table border=\"1\" class=\"dataframe\">\n",
       "  <thead>\n",
       "    <tr style=\"text-align: right;\">\n",
       "      <th></th>\n",
       "      <th>BUILDING</th>\n",
       "      <th>SCORE</th>\n",
       "      <th>BORO</th>\n",
       "      <th>STREET</th>\n",
       "      <th>CUISINE DESCRIPTION</th>\n",
       "      <th>ACTION</th>\n",
       "      <th>INSPECTION NO.</th>\n",
       "      <th>INSPECTION_TYPE</th>\n",
       "      <th>ZIPCODE</th>\n",
       "    </tr>\n",
       "  </thead>\n",
       "  <tbody>\n",
       "    <tr>\n",
       "      <th>0</th>\n",
       "      <td>1.815683e-06</td>\n",
       "      <td>0.063830</td>\n",
       "      <td>MANHATTAN</td>\n",
       "      <td>SULLIVAN ST</td>\n",
       "      <td>Vegetarian</td>\n",
       "      <td>Violations were cited in the following area s</td>\n",
       "      <td>Initial Inspection</td>\n",
       "      <td>Cycle Inspection</td>\n",
       "      <td>10012</td>\n",
       "    </tr>\n",
       "    <tr>\n",
       "      <th>1</th>\n",
       "      <td>1.089304e-04</td>\n",
       "      <td>0.085106</td>\n",
       "      <td>QUEENS</td>\n",
       "      <td>JAMAICA AVE</td>\n",
       "      <td>Chinese</td>\n",
       "      <td>Violations were cited in the following area s</td>\n",
       "      <td>Initial Inspection</td>\n",
       "      <td>Cycle Inspection</td>\n",
       "      <td>11418</td>\n",
       "    </tr>\n",
       "    <tr>\n",
       "      <th>2</th>\n",
       "      <td>3.344680e-06</td>\n",
       "      <td>0.113475</td>\n",
       "      <td>MANHATTAN</td>\n",
       "      <td>WE   54 ST</td>\n",
       "      <td>Russian</td>\n",
       "      <td>Violations were cited in the following area s</td>\n",
       "      <td>Initial Inspection</td>\n",
       "      <td>Cycle Inspection</td>\n",
       "      <td>10019</td>\n",
       "    </tr>\n",
       "    <tr>\n",
       "      <th>3</th>\n",
       "      <td>3.928672e-07</td>\n",
       "      <td>0.078014</td>\n",
       "      <td>MANHATTAN</td>\n",
       "      <td>W 42 ST</td>\n",
       "      <td>French</td>\n",
       "      <td>Violations were cited in the following area s</td>\n",
       "      <td>Initial Inspection</td>\n",
       "      <td>Pre permit  Operational</td>\n",
       "      <td>10036</td>\n",
       "    </tr>\n",
       "    <tr>\n",
       "      <th>4</th>\n",
       "      <td>7.772399e-05</td>\n",
       "      <td>0.127660</td>\n",
       "      <td>QUEENS</td>\n",
       "      <td>NORTHERN BLVD</td>\n",
       "      <td>Peruvian</td>\n",
       "      <td>Violations were cited in the following area s</td>\n",
       "      <td>Initial Inspection</td>\n",
       "      <td>Cycle Inspection</td>\n",
       "      <td>11372</td>\n",
       "    </tr>\n",
       "  </tbody>\n",
       "</table>\n",
       "</div>"
      ],
      "text/plain": [
       "       BUILDING     SCORE       BORO         STREET CUISINE DESCRIPTION  \\\n",
       "0  1.815683e-06  0.063830  MANHATTAN    SULLIVAN ST          Vegetarian   \n",
       "1  1.089304e-04  0.085106     QUEENS    JAMAICA AVE             Chinese   \n",
       "2  3.344680e-06  0.113475  MANHATTAN     WE   54 ST             Russian   \n",
       "3  3.928672e-07  0.078014  MANHATTAN        W 42 ST              French   \n",
       "4  7.772399e-05  0.127660     QUEENS  NORTHERN BLVD            Peruvian   \n",
       "\n",
       "                                            ACTION       INSPECTION NO.  \\\n",
       "0  Violations were cited in the following area s     Initial Inspection   \n",
       "1  Violations were cited in the following area s     Initial Inspection   \n",
       "2  Violations were cited in the following area s     Initial Inspection   \n",
       "3  Violations were cited in the following area s     Initial Inspection   \n",
       "4  Violations were cited in the following area s     Initial Inspection   \n",
       "\n",
       "             INSPECTION_TYPE ZIPCODE  \n",
       "0          Cycle Inspection    10012  \n",
       "1          Cycle Inspection    11418  \n",
       "2          Cycle Inspection    10019  \n",
       "3  Pre permit  Operational     10036  \n",
       "4          Cycle Inspection    11372  "
      ]
     },
     "execution_count": 314,
     "metadata": {},
     "output_type": "execute_result"
    }
   ],
   "source": [
    "testDfEncode.head()"
   ]
  },
  {
   "cell_type": "code",
   "execution_count": 315,
   "metadata": {},
   "outputs": [
    {
     "data": {
      "text/plain": [
       "MANHATTAN        9589\n",
       "BROOKLYN         5978\n",
       "QUEENS           5487\n",
       "BRONX            2138\n",
       "STATEN ISLAND     803\n",
       "Name: BORO, dtype: int64"
      ]
     },
     "execution_count": 315,
     "metadata": {},
     "output_type": "execute_result"
    }
   ],
   "source": [
    "testDfEncode['BORO'].value_counts()"
   ]
  },
  {
   "cell_type": "code",
   "execution_count": 316,
   "metadata": {},
   "outputs": [
    {
     "data": {
      "text/html": [
       "<div>\n",
       "<style>\n",
       "    .dataframe thead tr:only-child th {\n",
       "        text-align: right;\n",
       "    }\n",
       "\n",
       "    .dataframe thead th {\n",
       "        text-align: left;\n",
       "    }\n",
       "\n",
       "    .dataframe tbody tr th {\n",
       "        vertical-align: top;\n",
       "    }\n",
       "</style>\n",
       "<table border=\"1\" class=\"dataframe\">\n",
       "  <thead>\n",
       "    <tr style=\"text-align: right;\">\n",
       "      <th></th>\n",
       "      <th>BUILDING</th>\n",
       "      <th>SCORE</th>\n",
       "      <th>BORO</th>\n",
       "      <th>STREET</th>\n",
       "      <th>CUISINE DESCRIPTION</th>\n",
       "      <th>ACTION</th>\n",
       "      <th>INSPECTION NO.</th>\n",
       "      <th>INSPECTION_TYPE</th>\n",
       "      <th>ZIPCODE</th>\n",
       "    </tr>\n",
       "  </thead>\n",
       "  <tbody>\n",
       "    <tr>\n",
       "      <th>0</th>\n",
       "      <td>1.815683e-06</td>\n",
       "      <td>0.063830</td>\n",
       "      <td>MANHATTAN</td>\n",
       "      <td>SULLIVAN ST</td>\n",
       "      <td>Vegetarian</td>\n",
       "      <td>Violations were cited in the following area s</td>\n",
       "      <td>Initial Inspection</td>\n",
       "      <td>Cycle Inspection</td>\n",
       "      <td>10012</td>\n",
       "    </tr>\n",
       "    <tr>\n",
       "      <th>1</th>\n",
       "      <td>1.089304e-04</td>\n",
       "      <td>0.085106</td>\n",
       "      <td>QUEENS</td>\n",
       "      <td>JAMAICA AVE</td>\n",
       "      <td>Chinese</td>\n",
       "      <td>Violations were cited in the following area s</td>\n",
       "      <td>Initial Inspection</td>\n",
       "      <td>Cycle Inspection</td>\n",
       "      <td>11418</td>\n",
       "    </tr>\n",
       "    <tr>\n",
       "      <th>2</th>\n",
       "      <td>3.344680e-06</td>\n",
       "      <td>0.113475</td>\n",
       "      <td>MANHATTAN</td>\n",
       "      <td>WE   54 ST</td>\n",
       "      <td>Russian</td>\n",
       "      <td>Violations were cited in the following area s</td>\n",
       "      <td>Initial Inspection</td>\n",
       "      <td>Cycle Inspection</td>\n",
       "      <td>10019</td>\n",
       "    </tr>\n",
       "    <tr>\n",
       "      <th>3</th>\n",
       "      <td>3.928672e-07</td>\n",
       "      <td>0.078014</td>\n",
       "      <td>MANHATTAN</td>\n",
       "      <td>W 42 ST</td>\n",
       "      <td>French</td>\n",
       "      <td>Violations were cited in the following area s</td>\n",
       "      <td>Initial Inspection</td>\n",
       "      <td>Pre permit  Operational</td>\n",
       "      <td>10036</td>\n",
       "    </tr>\n",
       "    <tr>\n",
       "      <th>4</th>\n",
       "      <td>7.772399e-05</td>\n",
       "      <td>0.127660</td>\n",
       "      <td>QUEENS</td>\n",
       "      <td>NORTHERN BLVD</td>\n",
       "      <td>Peruvian</td>\n",
       "      <td>Violations were cited in the following area s</td>\n",
       "      <td>Initial Inspection</td>\n",
       "      <td>Cycle Inspection</td>\n",
       "      <td>11372</td>\n",
       "    </tr>\n",
       "  </tbody>\n",
       "</table>\n",
       "</div>"
      ],
      "text/plain": [
       "       BUILDING     SCORE       BORO         STREET CUISINE DESCRIPTION  \\\n",
       "0  1.815683e-06  0.063830  MANHATTAN    SULLIVAN ST          Vegetarian   \n",
       "1  1.089304e-04  0.085106     QUEENS    JAMAICA AVE             Chinese   \n",
       "2  3.344680e-06  0.113475  MANHATTAN     WE   54 ST             Russian   \n",
       "3  3.928672e-07  0.078014  MANHATTAN        W 42 ST              French   \n",
       "4  7.772399e-05  0.127660     QUEENS  NORTHERN BLVD            Peruvian   \n",
       "\n",
       "                                            ACTION       INSPECTION NO.  \\\n",
       "0  Violations were cited in the following area s     Initial Inspection   \n",
       "1  Violations were cited in the following area s     Initial Inspection   \n",
       "2  Violations were cited in the following area s     Initial Inspection   \n",
       "3  Violations were cited in the following area s     Initial Inspection   \n",
       "4  Violations were cited in the following area s     Initial Inspection   \n",
       "\n",
       "             INSPECTION_TYPE ZIPCODE  \n",
       "0          Cycle Inspection    10012  \n",
       "1          Cycle Inspection    11418  \n",
       "2          Cycle Inspection    10019  \n",
       "3  Pre permit  Operational     10036  \n",
       "4          Cycle Inspection    11372  "
      ]
     },
     "execution_count": 316,
     "metadata": {},
     "output_type": "execute_result"
    }
   ],
   "source": [
    "testDfEncode.head()"
   ]
  },
  {
   "cell_type": "code",
   "execution_count": 317,
   "metadata": {
    "collapsed": true
   },
   "outputs": [],
   "source": [
    "for i in catVar:\n",
    "    temp = pd.get_dummies(trainDfEncode[i], prefix = i)\n",
    "    temp = temp.drop(temp.columns[[0]], axis=1)\n",
    "    trainDfEncode = trainDfEncode.join(temp)"
   ]
  },
  {
   "cell_type": "code",
   "execution_count": 318,
   "metadata": {
    "scrolled": false
   },
   "outputs": [
    {
     "data": {
      "text/html": [
       "<div>\n",
       "<style>\n",
       "    .dataframe thead tr:only-child th {\n",
       "        text-align: right;\n",
       "    }\n",
       "\n",
       "    .dataframe thead th {\n",
       "        text-align: left;\n",
       "    }\n",
       "\n",
       "    .dataframe tbody tr th {\n",
       "        vertical-align: top;\n",
       "    }\n",
       "</style>\n",
       "<table border=\"1\" class=\"dataframe\">\n",
       "  <thead>\n",
       "    <tr style=\"text-align: right;\">\n",
       "      <th></th>\n",
       "      <th>CRITICAL FLAG</th>\n",
       "      <th>BUILDING</th>\n",
       "      <th>SCORE</th>\n",
       "      <th>BORO</th>\n",
       "      <th>STREET</th>\n",
       "      <th>CUISINE DESCRIPTION</th>\n",
       "      <th>ACTION</th>\n",
       "      <th>INSPECTION NO.</th>\n",
       "      <th>INSPECTION_TYPE</th>\n",
       "      <th>ZIPCODE</th>\n",
       "      <th>...</th>\n",
       "      <th>ZIPCODE_11433.0</th>\n",
       "      <th>ZIPCODE_11434.0</th>\n",
       "      <th>ZIPCODE_11435.0</th>\n",
       "      <th>ZIPCODE_11436.0</th>\n",
       "      <th>ZIPCODE_11451.0</th>\n",
       "      <th>ZIPCODE_11691.0</th>\n",
       "      <th>ZIPCODE_11692.0</th>\n",
       "      <th>ZIPCODE_11693.0</th>\n",
       "      <th>ZIPCODE_11694.0</th>\n",
       "      <th>ZIPCODE_11697.0</th>\n",
       "    </tr>\n",
       "  </thead>\n",
       "  <tbody>\n",
       "    <tr>\n",
       "      <th>0</th>\n",
       "      <td>Critical</td>\n",
       "      <td>0.000123</td>\n",
       "      <td>0.555556</td>\n",
       "      <td>QUEENS</td>\n",
       "      <td>METROPOLITAN AVE</td>\n",
       "      <td>Italian</td>\n",
       "      <td>Violations were cited in the following area s</td>\n",
       "      <td>Initial Inspection</td>\n",
       "      <td>Cycle Inspection</td>\n",
       "      <td>11418</td>\n",
       "      <td>...</td>\n",
       "      <td>0</td>\n",
       "      <td>0</td>\n",
       "      <td>0</td>\n",
       "      <td>0</td>\n",
       "      <td>0</td>\n",
       "      <td>0</td>\n",
       "      <td>0</td>\n",
       "      <td>0</td>\n",
       "      <td>0</td>\n",
       "      <td>0</td>\n",
       "    </tr>\n",
       "  </tbody>\n",
       "</table>\n",
       "<p>1 rows × 2784 columns</p>\n",
       "</div>"
      ],
      "text/plain": [
       "  CRITICAL FLAG  BUILDING     SCORE    BORO            STREET  \\\n",
       "0      Critical  0.000123  0.555556  QUEENS  METROPOLITAN AVE   \n",
       "\n",
       "  CUISINE DESCRIPTION                                           ACTION  \\\n",
       "0             Italian  Violations were cited in the following area s     \n",
       "\n",
       "        INSPECTION NO.    INSPECTION_TYPE ZIPCODE       ...         \\\n",
       "0   Initial Inspection  Cycle Inspection    11418       ...          \n",
       "\n",
       "   ZIPCODE_11433.0  ZIPCODE_11434.0  ZIPCODE_11435.0  ZIPCODE_11436.0  \\\n",
       "0                0                0                0                0   \n",
       "\n",
       "   ZIPCODE_11451.0  ZIPCODE_11691.0  ZIPCODE_11692.0  ZIPCODE_11693.0  \\\n",
       "0                0                0                0                0   \n",
       "\n",
       "   ZIPCODE_11694.0  ZIPCODE_11697.0  \n",
       "0                0                0  \n",
       "\n",
       "[1 rows x 2784 columns]"
      ]
     },
     "execution_count": 318,
     "metadata": {},
     "output_type": "execute_result"
    }
   ],
   "source": [
    "trainDfEncode.head(1)"
   ]
  },
  {
   "cell_type": "code",
   "execution_count": 319,
   "metadata": {
    "collapsed": true
   },
   "outputs": [],
   "source": [
    "trainDfEncode = trainDfEncode.drop(catVar, axis=1)"
   ]
  },
  {
   "cell_type": "code",
   "execution_count": 320,
   "metadata": {},
   "outputs": [
    {
     "data": {
      "text/plain": [
       "(191184, 2777)"
      ]
     },
     "execution_count": 320,
     "metadata": {},
     "output_type": "execute_result"
    }
   ],
   "source": [
    "trainDfEncode.shape"
   ]
  },
  {
   "cell_type": "code",
   "execution_count": 321,
   "metadata": {},
   "outputs": [
    {
     "data": {
      "text/html": [
       "<div>\n",
       "<style>\n",
       "    .dataframe thead tr:only-child th {\n",
       "        text-align: right;\n",
       "    }\n",
       "\n",
       "    .dataframe thead th {\n",
       "        text-align: left;\n",
       "    }\n",
       "\n",
       "    .dataframe tbody tr th {\n",
       "        vertical-align: top;\n",
       "    }\n",
       "</style>\n",
       "<table border=\"1\" class=\"dataframe\">\n",
       "  <thead>\n",
       "    <tr style=\"text-align: right;\">\n",
       "      <th></th>\n",
       "      <th>CRITICAL FLAG</th>\n",
       "      <th>BUILDING</th>\n",
       "      <th>SCORE</th>\n",
       "      <th>BORO_BROOKLYN</th>\n",
       "      <th>BORO_MANHATTAN</th>\n",
       "      <th>BORO_QUEENS</th>\n",
       "      <th>BORO_STATEN ISLAND</th>\n",
       "      <th>STREET_  MARKS S PL</th>\n",
       "      <th>STREET_  NICHOLAS AVE</th>\n",
       "      <th>STREET_  WE 43 ST</th>\n",
       "      <th>...</th>\n",
       "      <th>ZIPCODE_11433.0</th>\n",
       "      <th>ZIPCODE_11434.0</th>\n",
       "      <th>ZIPCODE_11435.0</th>\n",
       "      <th>ZIPCODE_11436.0</th>\n",
       "      <th>ZIPCODE_11451.0</th>\n",
       "      <th>ZIPCODE_11691.0</th>\n",
       "      <th>ZIPCODE_11692.0</th>\n",
       "      <th>ZIPCODE_11693.0</th>\n",
       "      <th>ZIPCODE_11694.0</th>\n",
       "      <th>ZIPCODE_11697.0</th>\n",
       "    </tr>\n",
       "  </thead>\n",
       "  <tbody>\n",
       "    <tr>\n",
       "      <th>0</th>\n",
       "      <td>Critical</td>\n",
       "      <td>0.000123</td>\n",
       "      <td>0.555556</td>\n",
       "      <td>0</td>\n",
       "      <td>0</td>\n",
       "      <td>1</td>\n",
       "      <td>0</td>\n",
       "      <td>0</td>\n",
       "      <td>0</td>\n",
       "      <td>0</td>\n",
       "      <td>...</td>\n",
       "      <td>0</td>\n",
       "      <td>0</td>\n",
       "      <td>0</td>\n",
       "      <td>0</td>\n",
       "      <td>0</td>\n",
       "      <td>0</td>\n",
       "      <td>0</td>\n",
       "      <td>0</td>\n",
       "      <td>0</td>\n",
       "      <td>0</td>\n",
       "    </tr>\n",
       "  </tbody>\n",
       "</table>\n",
       "<p>1 rows × 2777 columns</p>\n",
       "</div>"
      ],
      "text/plain": [
       "  CRITICAL FLAG  BUILDING     SCORE  BORO_BROOKLYN  BORO_MANHATTAN  \\\n",
       "0      Critical  0.000123  0.555556              0               0   \n",
       "\n",
       "   BORO_QUEENS  BORO_STATEN ISLAND  STREET_  MARKS S PL  \\\n",
       "0            1                   0                    0   \n",
       "\n",
       "   STREET_  NICHOLAS AVE  STREET_  WE 43 ST       ...         ZIPCODE_11433.0  \\\n",
       "0                      0                  0       ...                       0   \n",
       "\n",
       "   ZIPCODE_11434.0  ZIPCODE_11435.0  ZIPCODE_11436.0  ZIPCODE_11451.0  \\\n",
       "0                0                0                0                0   \n",
       "\n",
       "   ZIPCODE_11691.0  ZIPCODE_11692.0  ZIPCODE_11693.0  ZIPCODE_11694.0  \\\n",
       "0                0                0                0                0   \n",
       "\n",
       "   ZIPCODE_11697.0  \n",
       "0                0  \n",
       "\n",
       "[1 rows x 2777 columns]"
      ]
     },
     "execution_count": 321,
     "metadata": {},
     "output_type": "execute_result"
    }
   ],
   "source": [
    "trainDfEncode.head(1)"
   ]
  },
  {
   "cell_type": "markdown",
   "metadata": {},
   "source": [
    "##### TestData"
   ]
  },
  {
   "cell_type": "code",
   "execution_count": 322,
   "metadata": {
    "collapsed": true
   },
   "outputs": [],
   "source": [
    "for i in catVar:\n",
    "    temp = pd.get_dummies(testDfEncode[i], prefix = i)\n",
    "    temp = temp.drop(temp.columns[[0]], axis=1)\n",
    "    testDfEncode = testDfEncode.join(temp)\n",
    "    \n",
    "testDfEncode = testDfEncode.drop(catVar, axis=1)"
   ]
  },
  {
   "cell_type": "code",
   "execution_count": 323,
   "metadata": {},
   "outputs": [
    {
     "data": {
      "text/html": [
       "<div>\n",
       "<style>\n",
       "    .dataframe thead tr:only-child th {\n",
       "        text-align: right;\n",
       "    }\n",
       "\n",
       "    .dataframe thead th {\n",
       "        text-align: left;\n",
       "    }\n",
       "\n",
       "    .dataframe tbody tr th {\n",
       "        vertical-align: top;\n",
       "    }\n",
       "</style>\n",
       "<table border=\"1\" class=\"dataframe\">\n",
       "  <thead>\n",
       "    <tr style=\"text-align: right;\">\n",
       "      <th></th>\n",
       "      <th>BUILDING</th>\n",
       "      <th>SCORE</th>\n",
       "      <th>BORO_BROOKLYN</th>\n",
       "      <th>BORO_MANHATTAN</th>\n",
       "      <th>BORO_QUEENS</th>\n",
       "      <th>BORO_STATEN ISLAND</th>\n",
       "      <th>STREET_  MARKS S PL</th>\n",
       "      <th>STREET_  NICHOLAS AVE</th>\n",
       "      <th>STREET_  WE 43 ST</th>\n",
       "      <th>STREET_ ANNS AVE</th>\n",
       "      <th>...</th>\n",
       "      <th>ZIPCODE_11432.0</th>\n",
       "      <th>ZIPCODE_11433.0</th>\n",
       "      <th>ZIPCODE_11434.0</th>\n",
       "      <th>ZIPCODE_11435.0</th>\n",
       "      <th>ZIPCODE_11436.0</th>\n",
       "      <th>ZIPCODE_11691.0</th>\n",
       "      <th>ZIPCODE_11692.0</th>\n",
       "      <th>ZIPCODE_11693.0</th>\n",
       "      <th>ZIPCODE_11694.0</th>\n",
       "      <th>ZIPCODE_11697.0</th>\n",
       "    </tr>\n",
       "  </thead>\n",
       "  <tbody>\n",
       "    <tr>\n",
       "      <th>0</th>\n",
       "      <td>1.815683e-06</td>\n",
       "      <td>0.063830</td>\n",
       "      <td>0</td>\n",
       "      <td>1</td>\n",
       "      <td>0</td>\n",
       "      <td>0</td>\n",
       "      <td>0</td>\n",
       "      <td>0</td>\n",
       "      <td>0</td>\n",
       "      <td>0</td>\n",
       "      <td>...</td>\n",
       "      <td>0</td>\n",
       "      <td>0</td>\n",
       "      <td>0</td>\n",
       "      <td>0</td>\n",
       "      <td>0</td>\n",
       "      <td>0</td>\n",
       "      <td>0</td>\n",
       "      <td>0</td>\n",
       "      <td>0</td>\n",
       "      <td>0</td>\n",
       "    </tr>\n",
       "    <tr>\n",
       "      <th>1</th>\n",
       "      <td>1.089304e-04</td>\n",
       "      <td>0.085106</td>\n",
       "      <td>0</td>\n",
       "      <td>0</td>\n",
       "      <td>1</td>\n",
       "      <td>0</td>\n",
       "      <td>0</td>\n",
       "      <td>0</td>\n",
       "      <td>0</td>\n",
       "      <td>0</td>\n",
       "      <td>...</td>\n",
       "      <td>0</td>\n",
       "      <td>0</td>\n",
       "      <td>0</td>\n",
       "      <td>0</td>\n",
       "      <td>0</td>\n",
       "      <td>0</td>\n",
       "      <td>0</td>\n",
       "      <td>0</td>\n",
       "      <td>0</td>\n",
       "      <td>0</td>\n",
       "    </tr>\n",
       "    <tr>\n",
       "      <th>2</th>\n",
       "      <td>3.344680e-06</td>\n",
       "      <td>0.113475</td>\n",
       "      <td>0</td>\n",
       "      <td>1</td>\n",
       "      <td>0</td>\n",
       "      <td>0</td>\n",
       "      <td>0</td>\n",
       "      <td>0</td>\n",
       "      <td>0</td>\n",
       "      <td>0</td>\n",
       "      <td>...</td>\n",
       "      <td>0</td>\n",
       "      <td>0</td>\n",
       "      <td>0</td>\n",
       "      <td>0</td>\n",
       "      <td>0</td>\n",
       "      <td>0</td>\n",
       "      <td>0</td>\n",
       "      <td>0</td>\n",
       "      <td>0</td>\n",
       "      <td>0</td>\n",
       "    </tr>\n",
       "    <tr>\n",
       "      <th>3</th>\n",
       "      <td>3.928672e-07</td>\n",
       "      <td>0.078014</td>\n",
       "      <td>0</td>\n",
       "      <td>1</td>\n",
       "      <td>0</td>\n",
       "      <td>0</td>\n",
       "      <td>0</td>\n",
       "      <td>0</td>\n",
       "      <td>0</td>\n",
       "      <td>0</td>\n",
       "      <td>...</td>\n",
       "      <td>0</td>\n",
       "      <td>0</td>\n",
       "      <td>0</td>\n",
       "      <td>0</td>\n",
       "      <td>0</td>\n",
       "      <td>0</td>\n",
       "      <td>0</td>\n",
       "      <td>0</td>\n",
       "      <td>0</td>\n",
       "      <td>0</td>\n",
       "    </tr>\n",
       "    <tr>\n",
       "      <th>4</th>\n",
       "      <td>7.772399e-05</td>\n",
       "      <td>0.127660</td>\n",
       "      <td>0</td>\n",
       "      <td>0</td>\n",
       "      <td>1</td>\n",
       "      <td>0</td>\n",
       "      <td>0</td>\n",
       "      <td>0</td>\n",
       "      <td>0</td>\n",
       "      <td>0</td>\n",
       "      <td>...</td>\n",
       "      <td>0</td>\n",
       "      <td>0</td>\n",
       "      <td>0</td>\n",
       "      <td>0</td>\n",
       "      <td>0</td>\n",
       "      <td>0</td>\n",
       "      <td>0</td>\n",
       "      <td>0</td>\n",
       "      <td>0</td>\n",
       "      <td>0</td>\n",
       "    </tr>\n",
       "  </tbody>\n",
       "</table>\n",
       "<p>5 rows × 2279 columns</p>\n",
       "</div>"
      ],
      "text/plain": [
       "       BUILDING     SCORE  BORO_BROOKLYN  BORO_MANHATTAN  BORO_QUEENS  \\\n",
       "0  1.815683e-06  0.063830              0               1            0   \n",
       "1  1.089304e-04  0.085106              0               0            1   \n",
       "2  3.344680e-06  0.113475              0               1            0   \n",
       "3  3.928672e-07  0.078014              0               1            0   \n",
       "4  7.772399e-05  0.127660              0               0            1   \n",
       "\n",
       "   BORO_STATEN ISLAND  STREET_  MARKS S PL  STREET_  NICHOLAS AVE  \\\n",
       "0                   0                    0                      0   \n",
       "1                   0                    0                      0   \n",
       "2                   0                    0                      0   \n",
       "3                   0                    0                      0   \n",
       "4                   0                    0                      0   \n",
       "\n",
       "   STREET_  WE 43 ST  STREET_ ANNS AVE       ...         ZIPCODE_11432.0  \\\n",
       "0                  0                 0       ...                       0   \n",
       "1                  0                 0       ...                       0   \n",
       "2                  0                 0       ...                       0   \n",
       "3                  0                 0       ...                       0   \n",
       "4                  0                 0       ...                       0   \n",
       "\n",
       "   ZIPCODE_11433.0  ZIPCODE_11434.0  ZIPCODE_11435.0  ZIPCODE_11436.0  \\\n",
       "0                0                0                0                0   \n",
       "1                0                0                0                0   \n",
       "2                0                0                0                0   \n",
       "3                0                0                0                0   \n",
       "4                0                0                0                0   \n",
       "\n",
       "   ZIPCODE_11691.0  ZIPCODE_11692.0  ZIPCODE_11693.0  ZIPCODE_11694.0  \\\n",
       "0                0                0                0                0   \n",
       "1                0                0                0                0   \n",
       "2                0                0                0                0   \n",
       "3                0                0                0                0   \n",
       "4                0                0                0                0   \n",
       "\n",
       "   ZIPCODE_11697.0  \n",
       "0                0  \n",
       "1                0  \n",
       "2                0  \n",
       "3                0  \n",
       "4                0  \n",
       "\n",
       "[5 rows x 2279 columns]"
      ]
     },
     "execution_count": 323,
     "metadata": {},
     "output_type": "execute_result"
    }
   ],
   "source": [
    "testDfEncode.head()"
   ]
  },
  {
   "cell_type": "markdown",
   "metadata": {},
   "source": [
    "##### Encode the Target variable with label Encoder"
   ]
  },
  {
   "cell_type": "code",
   "execution_count": 324,
   "metadata": {
    "collapsed": true
   },
   "outputs": [],
   "source": [
    "from sklearn.preprocessing import LabelEncoder\n",
    "labelEncoder = LabelEncoder()\n"
   ]
  },
  {
   "cell_type": "code",
   "execution_count": 325,
   "metadata": {
    "collapsed": true
   },
   "outputs": [],
   "source": [
    "trainDfEncode['CRITICAL FLAG'] = labelEncoder.fit_transform(trainDfEncode['CRITICAL FLAG'])"
   ]
  },
  {
   "cell_type": "code",
   "execution_count": 326,
   "metadata": {},
   "outputs": [
    {
     "data": {
      "text/html": [
       "<div>\n",
       "<style>\n",
       "    .dataframe thead tr:only-child th {\n",
       "        text-align: right;\n",
       "    }\n",
       "\n",
       "    .dataframe thead th {\n",
       "        text-align: left;\n",
       "    }\n",
       "\n",
       "    .dataframe tbody tr th {\n",
       "        vertical-align: top;\n",
       "    }\n",
       "</style>\n",
       "<table border=\"1\" class=\"dataframe\">\n",
       "  <thead>\n",
       "    <tr style=\"text-align: right;\">\n",
       "      <th></th>\n",
       "      <th>CRITICAL FLAG</th>\n",
       "      <th>BUILDING</th>\n",
       "      <th>SCORE</th>\n",
       "      <th>BORO_BROOKLYN</th>\n",
       "      <th>BORO_MANHATTAN</th>\n",
       "      <th>BORO_QUEENS</th>\n",
       "      <th>BORO_STATEN ISLAND</th>\n",
       "      <th>STREET_  MARKS S PL</th>\n",
       "      <th>STREET_  NICHOLAS AVE</th>\n",
       "      <th>STREET_  WE 43 ST</th>\n",
       "      <th>...</th>\n",
       "      <th>ZIPCODE_11433.0</th>\n",
       "      <th>ZIPCODE_11434.0</th>\n",
       "      <th>ZIPCODE_11435.0</th>\n",
       "      <th>ZIPCODE_11436.0</th>\n",
       "      <th>ZIPCODE_11451.0</th>\n",
       "      <th>ZIPCODE_11691.0</th>\n",
       "      <th>ZIPCODE_11692.0</th>\n",
       "      <th>ZIPCODE_11693.0</th>\n",
       "      <th>ZIPCODE_11694.0</th>\n",
       "      <th>ZIPCODE_11697.0</th>\n",
       "    </tr>\n",
       "  </thead>\n",
       "  <tbody>\n",
       "    <tr>\n",
       "      <th>0</th>\n",
       "      <td>0</td>\n",
       "      <td>0.000123</td>\n",
       "      <td>0.555556</td>\n",
       "      <td>0</td>\n",
       "      <td>0</td>\n",
       "      <td>1</td>\n",
       "      <td>0</td>\n",
       "      <td>0</td>\n",
       "      <td>0</td>\n",
       "      <td>0</td>\n",
       "      <td>...</td>\n",
       "      <td>0</td>\n",
       "      <td>0</td>\n",
       "      <td>0</td>\n",
       "      <td>0</td>\n",
       "      <td>0</td>\n",
       "      <td>0</td>\n",
       "      <td>0</td>\n",
       "      <td>0</td>\n",
       "      <td>0</td>\n",
       "      <td>0</td>\n",
       "    </tr>\n",
       "    <tr>\n",
       "      <th>1</th>\n",
       "      <td>0</td>\n",
       "      <td>0.000108</td>\n",
       "      <td>0.200000</td>\n",
       "      <td>0</td>\n",
       "      <td>0</td>\n",
       "      <td>1</td>\n",
       "      <td>0</td>\n",
       "      <td>0</td>\n",
       "      <td>0</td>\n",
       "      <td>0</td>\n",
       "      <td>...</td>\n",
       "      <td>0</td>\n",
       "      <td>0</td>\n",
       "      <td>0</td>\n",
       "      <td>0</td>\n",
       "      <td>0</td>\n",
       "      <td>0</td>\n",
       "      <td>0</td>\n",
       "      <td>0</td>\n",
       "      <td>0</td>\n",
       "      <td>0</td>\n",
       "    </tr>\n",
       "    <tr>\n",
       "      <th>2</th>\n",
       "      <td>0</td>\n",
       "      <td>0.000059</td>\n",
       "      <td>0.311111</td>\n",
       "      <td>0</td>\n",
       "      <td>0</td>\n",
       "      <td>1</td>\n",
       "      <td>0</td>\n",
       "      <td>0</td>\n",
       "      <td>0</td>\n",
       "      <td>0</td>\n",
       "      <td>...</td>\n",
       "      <td>0</td>\n",
       "      <td>0</td>\n",
       "      <td>0</td>\n",
       "      <td>0</td>\n",
       "      <td>0</td>\n",
       "      <td>0</td>\n",
       "      <td>0</td>\n",
       "      <td>0</td>\n",
       "      <td>0</td>\n",
       "      <td>0</td>\n",
       "    </tr>\n",
       "    <tr>\n",
       "      <th>3</th>\n",
       "      <td>1</td>\n",
       "      <td>0.000008</td>\n",
       "      <td>0.288889</td>\n",
       "      <td>1</td>\n",
       "      <td>0</td>\n",
       "      <td>0</td>\n",
       "      <td>0</td>\n",
       "      <td>0</td>\n",
       "      <td>0</td>\n",
       "      <td>0</td>\n",
       "      <td>...</td>\n",
       "      <td>0</td>\n",
       "      <td>0</td>\n",
       "      <td>0</td>\n",
       "      <td>0</td>\n",
       "      <td>0</td>\n",
       "      <td>0</td>\n",
       "      <td>0</td>\n",
       "      <td>0</td>\n",
       "      <td>0</td>\n",
       "      <td>0</td>\n",
       "    </tr>\n",
       "    <tr>\n",
       "      <th>4</th>\n",
       "      <td>0</td>\n",
       "      <td>0.000034</td>\n",
       "      <td>0.200000</td>\n",
       "      <td>1</td>\n",
       "      <td>0</td>\n",
       "      <td>0</td>\n",
       "      <td>0</td>\n",
       "      <td>0</td>\n",
       "      <td>0</td>\n",
       "      <td>0</td>\n",
       "      <td>...</td>\n",
       "      <td>0</td>\n",
       "      <td>0</td>\n",
       "      <td>0</td>\n",
       "      <td>0</td>\n",
       "      <td>0</td>\n",
       "      <td>0</td>\n",
       "      <td>0</td>\n",
       "      <td>0</td>\n",
       "      <td>0</td>\n",
       "      <td>0</td>\n",
       "    </tr>\n",
       "  </tbody>\n",
       "</table>\n",
       "<p>5 rows × 2777 columns</p>\n",
       "</div>"
      ],
      "text/plain": [
       "   CRITICAL FLAG  BUILDING     SCORE  BORO_BROOKLYN  BORO_MANHATTAN  \\\n",
       "0              0  0.000123  0.555556              0               0   \n",
       "1              0  0.000108  0.200000              0               0   \n",
       "2              0  0.000059  0.311111              0               0   \n",
       "3              1  0.000008  0.288889              1               0   \n",
       "4              0  0.000034  0.200000              1               0   \n",
       "\n",
       "   BORO_QUEENS  BORO_STATEN ISLAND  STREET_  MARKS S PL  \\\n",
       "0            1                   0                    0   \n",
       "1            1                   0                    0   \n",
       "2            1                   0                    0   \n",
       "3            0                   0                    0   \n",
       "4            0                   0                    0   \n",
       "\n",
       "   STREET_  NICHOLAS AVE  STREET_  WE 43 ST       ...         ZIPCODE_11433.0  \\\n",
       "0                      0                  0       ...                       0   \n",
       "1                      0                  0       ...                       0   \n",
       "2                      0                  0       ...                       0   \n",
       "3                      0                  0       ...                       0   \n",
       "4                      0                  0       ...                       0   \n",
       "\n",
       "   ZIPCODE_11434.0  ZIPCODE_11435.0  ZIPCODE_11436.0  ZIPCODE_11451.0  \\\n",
       "0                0                0                0                0   \n",
       "1                0                0                0                0   \n",
       "2                0                0                0                0   \n",
       "3                0                0                0                0   \n",
       "4                0                0                0                0   \n",
       "\n",
       "   ZIPCODE_11691.0  ZIPCODE_11692.0  ZIPCODE_11693.0  ZIPCODE_11694.0  \\\n",
       "0                0                0                0                0   \n",
       "1                0                0                0                0   \n",
       "2                0                0                0                0   \n",
       "3                0                0                0                0   \n",
       "4                0                0                0                0   \n",
       "\n",
       "   ZIPCODE_11697.0  \n",
       "0                0  \n",
       "1                0  \n",
       "2                0  \n",
       "3                0  \n",
       "4                0  \n",
       "\n",
       "[5 rows x 2777 columns]"
      ]
     },
     "execution_count": 326,
     "metadata": {},
     "output_type": "execute_result"
    }
   ],
   "source": [
    "trainDfEncode.head()"
   ]
  },
  {
   "cell_type": "markdown",
   "metadata": {},
   "source": [
    "##### Making the same dimension of train n test data"
   ]
  },
  {
   "cell_type": "code",
   "execution_count": 327,
   "metadata": {
    "collapsed": true
   },
   "outputs": [],
   "source": [
    "trainCols = trainDfEncode.columns\n",
    "testCols = testDfEncode.columns"
   ]
  },
  {
   "cell_type": "code",
   "execution_count": 328,
   "metadata": {},
   "outputs": [
    {
     "data": {
      "text/plain": [
       "2777"
      ]
     },
     "execution_count": 328,
     "metadata": {},
     "output_type": "execute_result"
    }
   ],
   "source": [
    "len(set(trainCols))"
   ]
  },
  {
   "cell_type": "code",
   "execution_count": 329,
   "metadata": {},
   "outputs": [
    {
     "data": {
      "text/plain": [
       "2279"
      ]
     },
     "execution_count": 329,
     "metadata": {},
     "output_type": "execute_result"
    }
   ],
   "source": [
    "len(set(testCols))"
   ]
  },
  {
   "cell_type": "markdown",
   "metadata": {},
   "source": [
    "Actaually train data has one extra column, so trainDf has 329 columns."
   ]
  },
  {
   "cell_type": "code",
   "execution_count": 330,
   "metadata": {
    "collapsed": true
   },
   "outputs": [],
   "source": [
    "#take all the columns which are not present in the test data and remove it from the train data.\n",
    "colToRemoveFromTheTrainData = list(set(trainCols) - set(testCols))"
   ]
  },
  {
   "cell_type": "code",
   "execution_count": 331,
   "metadata": {
    "scrolled": true
   },
   "outputs": [
    {
     "data": {
      "text/plain": [
       "526"
      ]
     },
     "execution_count": 331,
     "metadata": {},
     "output_type": "execute_result"
    }
   ],
   "source": [
    "len(colToRemoveFromTheTrainData)"
   ]
  },
  {
   "cell_type": "code",
   "execution_count": 332,
   "metadata": {
    "collapsed": true
   },
   "outputs": [],
   "source": [
    "#testList= [item for item in trainCols if item not in testCols]"
   ]
  },
  {
   "cell_type": "code",
   "execution_count": 333,
   "metadata": {
    "collapsed": true
   },
   "outputs": [],
   "source": [
    "#len(testList)"
   ]
  },
  {
   "cell_type": "code",
   "execution_count": null,
   "metadata": {
    "collapsed": true
   },
   "outputs": [],
   "source": []
  },
  {
   "cell_type": "code",
   "execution_count": null,
   "metadata": {
    "collapsed": true
   },
   "outputs": [],
   "source": []
  },
  {
   "cell_type": "code",
   "execution_count": null,
   "metadata": {
    "collapsed": true
   },
   "outputs": [],
   "source": []
  },
  {
   "cell_type": "code",
   "execution_count": 334,
   "metadata": {
    "collapsed": true
   },
   "outputs": [],
   "source": [
    "colToRemoveFromTheTrainData.remove('CRITICAL FLAG')"
   ]
  },
  {
   "cell_type": "code",
   "execution_count": 335,
   "metadata": {},
   "outputs": [
    {
     "data": {
      "text/plain": [
       "525"
      ]
     },
     "execution_count": 335,
     "metadata": {},
     "output_type": "execute_result"
    }
   ],
   "source": [
    "len(colToRemoveFromTheTrainData)"
   ]
  },
  {
   "cell_type": "code",
   "execution_count": null,
   "metadata": {
    "collapsed": true
   },
   "outputs": [],
   "source": []
  },
  {
   "cell_type": "code",
   "execution_count": 336,
   "metadata": {
    "collapsed": true
   },
   "outputs": [],
   "source": [
    "#Now we can remove all these columns from the dfEncodeAll dataset.\n",
    "trainDfEncode = trainDfEncode.drop(colToRemoveFromTheTrainData, axis = 1)"
   ]
  },
  {
   "cell_type": "code",
   "execution_count": 337,
   "metadata": {},
   "outputs": [
    {
     "data": {
      "text/plain": [
       "(191184, 2252)"
      ]
     },
     "execution_count": 337,
     "metadata": {},
     "output_type": "execute_result"
    }
   ],
   "source": [
    "trainDfEncode.shape"
   ]
  },
  {
   "cell_type": "code",
   "execution_count": 338,
   "metadata": {},
   "outputs": [
    {
     "data": {
      "text/plain": [
       "(23995, 2279)"
      ]
     },
     "execution_count": 338,
     "metadata": {},
     "output_type": "execute_result"
    }
   ],
   "source": [
    "testDfEncode.shape"
   ]
  },
  {
   "cell_type": "code",
   "execution_count": 339,
   "metadata": {
    "collapsed": true
   },
   "outputs": [],
   "source": [
    "colToRemoveFromTheTrainData = list(set(testDfEncode.columns) - set(trainDfEncode.columns))"
   ]
  },
  {
   "cell_type": "code",
   "execution_count": 340,
   "metadata": {},
   "outputs": [
    {
     "data": {
      "text/plain": [
       "28"
      ]
     },
     "execution_count": 340,
     "metadata": {},
     "output_type": "execute_result"
    }
   ],
   "source": [
    "len(colToRemoveFromTheTrainData)"
   ]
  },
  {
   "cell_type": "code",
   "execution_count": null,
   "metadata": {
    "collapsed": true
   },
   "outputs": [],
   "source": []
  },
  {
   "cell_type": "code",
   "execution_count": 341,
   "metadata": {
    "collapsed": true
   },
   "outputs": [],
   "source": [
    "#Now we can remove all these columns from the dfEncodeAll dataset.\n",
    "testDfEncode = testDfEncode.drop(colToRemoveFromTheTrainData, axis = 1)"
   ]
  },
  {
   "cell_type": "code",
   "execution_count": 342,
   "metadata": {},
   "outputs": [
    {
     "data": {
      "text/plain": [
       "(191184, 2252)"
      ]
     },
     "execution_count": 342,
     "metadata": {},
     "output_type": "execute_result"
    }
   ],
   "source": [
    "trainDfEncode.shape"
   ]
  },
  {
   "cell_type": "code",
   "execution_count": 343,
   "metadata": {},
   "outputs": [
    {
     "data": {
      "text/plain": [
       "(23995, 2251)"
      ]
     },
     "execution_count": 343,
     "metadata": {},
     "output_type": "execute_result"
    }
   ],
   "source": [
    "testDfEncode.shape"
   ]
  },
  {
   "cell_type": "code",
   "execution_count": 344,
   "metadata": {
    "collapsed": true
   },
   "outputs": [],
   "source": [
    "trainDfEncode.to_csv(\"trainDfEncodeWithStreet.csv\",index=False)\n",
    "testDfEncode.to_csv(\"testDfEncodeWithStreet.csv\",index=False)"
   ]
  },
  {
   "cell_type": "markdown",
   "metadata": {},
   "source": [
    "# Model Building"
   ]
  },
  {
   "cell_type": "markdown",
   "metadata": {},
   "source": [
    "##### Make copy of the dataset"
   ]
  },
  {
   "cell_type": "code",
   "execution_count": 154,
   "metadata": {
    "collapsed": true
   },
   "outputs": [],
   "source": [
    "# trainFinal  = pd.read_csv(\"trainDfEncodeWithStreet.csv\")\n",
    "# testFinal = pd.read_csv(\"testDfEncodeWithStreet.csv\")"
   ]
  },
  {
   "cell_type": "code",
   "execution_count": 155,
   "metadata": {
    "collapsed": true
   },
   "outputs": [],
   "source": [
    "trainFinal = trainDfEncode.copy()\n",
    "testFinal = testDfEncode.copy()"
   ]
  },
  {
   "cell_type": "code",
   "execution_count": 345,
   "metadata": {},
   "outputs": [
    {
     "data": {
      "text/plain": [
       "(191184, 2252)"
      ]
     },
     "execution_count": 345,
     "metadata": {},
     "output_type": "execute_result"
    }
   ],
   "source": [
    "trainFinal.shape"
   ]
  },
  {
   "cell_type": "code",
   "execution_count": 156,
   "metadata": {},
   "outputs": [
    {
     "data": {
      "text/html": [
       "<div>\n",
       "<style>\n",
       "    .dataframe thead tr:only-child th {\n",
       "        text-align: right;\n",
       "    }\n",
       "\n",
       "    .dataframe thead th {\n",
       "        text-align: left;\n",
       "    }\n",
       "\n",
       "    .dataframe tbody tr th {\n",
       "        vertical-align: top;\n",
       "    }\n",
       "</style>\n",
       "<table border=\"1\" class=\"dataframe\">\n",
       "  <thead>\n",
       "    <tr style=\"text-align: right;\">\n",
       "      <th></th>\n",
       "      <th>CRITICAL FLAG</th>\n",
       "      <th>BUILDING</th>\n",
       "      <th>SCORE</th>\n",
       "      <th>BORO_BROOKLYN</th>\n",
       "      <th>BORO_MANHATTAN</th>\n",
       "      <th>BORO_QUEENS</th>\n",
       "      <th>BORO_STATEN ISLAND</th>\n",
       "      <th>STREET_  MARKS S PL</th>\n",
       "      <th>STREET_  NICHOLAS AVE</th>\n",
       "      <th>STREET_  WE 43 ST</th>\n",
       "      <th>...</th>\n",
       "      <th>ZIPCODE_11432.0</th>\n",
       "      <th>ZIPCODE_11433.0</th>\n",
       "      <th>ZIPCODE_11434.0</th>\n",
       "      <th>ZIPCODE_11435.0</th>\n",
       "      <th>ZIPCODE_11436.0</th>\n",
       "      <th>ZIPCODE_11691.0</th>\n",
       "      <th>ZIPCODE_11692.0</th>\n",
       "      <th>ZIPCODE_11693.0</th>\n",
       "      <th>ZIPCODE_11694.0</th>\n",
       "      <th>ZIPCODE_11697.0</th>\n",
       "    </tr>\n",
       "  </thead>\n",
       "  <tbody>\n",
       "    <tr>\n",
       "      <th>0</th>\n",
       "      <td>0</td>\n",
       "      <td>0.000123</td>\n",
       "      <td>0.555556</td>\n",
       "      <td>0</td>\n",
       "      <td>0</td>\n",
       "      <td>1</td>\n",
       "      <td>0</td>\n",
       "      <td>0</td>\n",
       "      <td>0</td>\n",
       "      <td>0</td>\n",
       "      <td>...</td>\n",
       "      <td>0</td>\n",
       "      <td>0</td>\n",
       "      <td>0</td>\n",
       "      <td>0</td>\n",
       "      <td>0</td>\n",
       "      <td>0</td>\n",
       "      <td>0</td>\n",
       "      <td>0</td>\n",
       "      <td>0</td>\n",
       "      <td>0</td>\n",
       "    </tr>\n",
       "    <tr>\n",
       "      <th>1</th>\n",
       "      <td>0</td>\n",
       "      <td>0.000108</td>\n",
       "      <td>0.200000</td>\n",
       "      <td>0</td>\n",
       "      <td>0</td>\n",
       "      <td>1</td>\n",
       "      <td>0</td>\n",
       "      <td>0</td>\n",
       "      <td>0</td>\n",
       "      <td>0</td>\n",
       "      <td>...</td>\n",
       "      <td>0</td>\n",
       "      <td>0</td>\n",
       "      <td>0</td>\n",
       "      <td>0</td>\n",
       "      <td>0</td>\n",
       "      <td>0</td>\n",
       "      <td>0</td>\n",
       "      <td>0</td>\n",
       "      <td>0</td>\n",
       "      <td>0</td>\n",
       "    </tr>\n",
       "  </tbody>\n",
       "</table>\n",
       "<p>2 rows × 2252 columns</p>\n",
       "</div>"
      ],
      "text/plain": [
       "   CRITICAL FLAG  BUILDING     SCORE  BORO_BROOKLYN  BORO_MANHATTAN  \\\n",
       "0              0  0.000123  0.555556              0               0   \n",
       "1              0  0.000108  0.200000              0               0   \n",
       "\n",
       "   BORO_QUEENS  BORO_STATEN ISLAND  STREET_  MARKS S PL  \\\n",
       "0            1                   0                    0   \n",
       "1            1                   0                    0   \n",
       "\n",
       "   STREET_  NICHOLAS AVE  STREET_  WE 43 ST       ...         ZIPCODE_11432.0  \\\n",
       "0                      0                  0       ...                       0   \n",
       "1                      0                  0       ...                       0   \n",
       "\n",
       "   ZIPCODE_11433.0  ZIPCODE_11434.0  ZIPCODE_11435.0  ZIPCODE_11436.0  \\\n",
       "0                0                0                0                0   \n",
       "1                0                0                0                0   \n",
       "\n",
       "   ZIPCODE_11691.0  ZIPCODE_11692.0  ZIPCODE_11693.0  ZIPCODE_11694.0  \\\n",
       "0                0                0                0                0   \n",
       "1                0                0                0                0   \n",
       "\n",
       "   ZIPCODE_11697.0  \n",
       "0                0  \n",
       "1                0  \n",
       "\n",
       "[2 rows x 2252 columns]"
      ]
     },
     "execution_count": 156,
     "metadata": {},
     "output_type": "execute_result"
    }
   ],
   "source": [
    "trainFinal.head(2)"
   ]
  },
  {
   "cell_type": "code",
   "execution_count": 157,
   "metadata": {
    "collapsed": true
   },
   "outputs": [],
   "source": [
    "X = trainFinal.iloc[:,1:].values\n",
    "y = trainFinal[\"CRITICAL FLAG\"].values"
   ]
  },
  {
   "cell_type": "code",
   "execution_count": 158,
   "metadata": {},
   "outputs": [
    {
     "data": {
      "text/plain": [
       "array([0, 0, 0, ..., 1, 0, 0])"
      ]
     },
     "execution_count": 158,
     "metadata": {},
     "output_type": "execute_result"
    }
   ],
   "source": [
    "y"
   ]
  },
  {
   "cell_type": "code",
   "execution_count": 159,
   "metadata": {
    "collapsed": true
   },
   "outputs": [],
   "source": [
    "X_Test = testFinal.values"
   ]
  },
  {
   "cell_type": "code",
   "execution_count": null,
   "metadata": {
    "collapsed": true
   },
   "outputs": [],
   "source": []
  },
  {
   "cell_type": "code",
   "execution_count": 160,
   "metadata": {},
   "outputs": [
    {
     "name": "stderr",
     "output_type": "stream",
     "text": [
      "/Users/ajeet/anaconda3/lib/python3.6/site-packages/sklearn/cross_validation.py:41: DeprecationWarning: This module was deprecated in version 0.18 in favor of the model_selection module into which all the refactored classes and functions are moved. Also note that the interface of the new CV iterators are different from that of this module. This module will be removed in 0.20.\n",
      "  \"This module will be removed in 0.20.\", DeprecationWarning)\n"
     ]
    }
   ],
   "source": [
    "# Splitting the dataset into the Training set and Test set\n",
    "from sklearn.cross_validation import train_test_split\n",
    "X_train, X_validation, y_train, y_validation = train_test_split(X, y, test_size = 0.20, random_state = 0)"
   ]
  },
  {
   "cell_type": "markdown",
   "metadata": {},
   "source": [
    "# <font color = red>1-Logistic Regression</font>"
   ]
  },
  {
   "cell_type": "code",
   "execution_count": 161,
   "metadata": {},
   "outputs": [
    {
     "data": {
      "text/plain": [
       "LogisticRegression(C=1.0, class_weight=None, dual=False, fit_intercept=True,\n",
       "          intercept_scaling=1, max_iter=100, multi_class='ovr', n_jobs=1,\n",
       "          penalty='l2', random_state=0, solver='liblinear', tol=0.0001,\n",
       "          verbose=0, warm_start=False)"
      ]
     },
     "execution_count": 161,
     "metadata": {},
     "output_type": "execute_result"
    }
   ],
   "source": [
    "from sklearn.linear_model import LogisticRegression\n",
    "classifier_LR = LogisticRegression(random_state = 0)\n",
    "classifier_LR.fit(X_train, y_train)"
   ]
  },
  {
   "cell_type": "code",
   "execution_count": 162,
   "metadata": {
    "collapsed": true
   },
   "outputs": [],
   "source": [
    "y_pred = classifier_LR.predict(X_validation)"
   ]
  },
  {
   "cell_type": "code",
   "execution_count": 163,
   "metadata": {
    "collapsed": true
   },
   "outputs": [],
   "source": [
    "from sklearn.metrics import confusion_matrix\n",
    "cm = confusion_matrix(y_validation, y_pred)"
   ]
  },
  {
   "cell_type": "code",
   "execution_count": 164,
   "metadata": {},
   "outputs": [
    {
     "name": "stdout",
     "output_type": "stream",
     "text": [
      "0.5992101890838717\n"
     ]
    }
   ],
   "source": [
    "# calculate accuracy\n",
    "from sklearn import metrics\n",
    "print(metrics.accuracy_score(y_validation, y_pred))"
   ]
  },
  {
   "cell_type": "code",
   "execution_count": null,
   "metadata": {},
   "outputs": [],
   "source": []
  },
  {
   "cell_type": "code",
   "execution_count": null,
   "metadata": {},
   "outputs": [],
   "source": []
  },
  {
   "cell_type": "code",
   "execution_count": 167,
   "metadata": {
    "collapsed": true
   },
   "outputs": [],
   "source": [
    "# from sklearn.svm import SVC\n",
    "# from sklearn.model_selection import cross_val_score\n",
    "# classifier = SVC(kernel = 'rbf', random_state = 0)\n",
    "# accuracies = cross_val_score(estimator = classifier, X = X_train, y = y_train, cv = 10)\n",
    "# accuracies.mean()\n",
    "# accuracies.std()"
   ]
  },
  {
   "cell_type": "code",
   "execution_count": 168,
   "metadata": {
    "collapsed": true
   },
   "outputs": [],
   "source": [
    "# accuracies = cross_val_score(estimator = classifier, X = X_train, y = y_train, cv = 10)\n",
    "# accuracies.mean()"
   ]
  },
  {
   "cell_type": "code",
   "execution_count": 169,
   "metadata": {
    "collapsed": true
   },
   "outputs": [],
   "source": [
    "from sklearn.naive_bayes import GaussianNB"
   ]
  },
  {
   "cell_type": "code",
   "execution_count": 170,
   "metadata": {
    "collapsed": true
   },
   "outputs": [],
   "source": [
    "# Fitting Naive Bayes to the Training set\n",
    "#from sklearn.naive_bayes import GaussianNB\n",
    "classifier_NB = GaussianNB()\n",
    "classifier_NB.fit(X_train, y_train)\n",
    "\n",
    "# Predicting the Test set results\n",
    "y_pred_NB = classifier_NB.predict(X_validation)\n",
    "\n",
    "# Making the Confusion Matrix\n",
    "from sklearn.metrics import confusion_matrix\n",
    "cm = confusion_matrix(y_validation, y_pred_NB)\n"
   ]
  },
  {
   "cell_type": "code",
   "execution_count": 171,
   "metadata": {},
   "outputs": [
    {
     "name": "stdout",
     "output_type": "stream",
     "text": [
      "0.48076470434396\n"
     ]
    }
   ],
   "source": [
    "# calculate accuracy\n",
    "from sklearn import metrics\n",
    "print(metrics.accuracy_score(y_validation, y_pred_NB))"
   ]
  },
  {
   "cell_type": "code",
   "execution_count": 172,
   "metadata": {
    "collapsed": true
   },
   "outputs": [],
   "source": [
    "from sklearn.model_selection import cross_val_score\n",
    "accuracies = cross_val_score(estimator = classifier_NB, X = X_train, y = y_train, cv = 10,n_jobs = -1)"
   ]
  },
  {
   "cell_type": "code",
   "execution_count": 173,
   "metadata": {
    "scrolled": true
   },
   "outputs": [
    {
     "data": {
      "text/plain": [
       "0.46759973645885744"
      ]
     },
     "execution_count": 173,
     "metadata": {},
     "output_type": "execute_result"
    }
   ],
   "source": [
    "accuracies.mean()"
   ]
  },
  {
   "cell_type": "code",
   "execution_count": null,
   "metadata": {
    "collapsed": true
   },
   "outputs": [],
   "source": []
  },
  {
   "cell_type": "code",
   "execution_count": 174,
   "metadata": {},
   "outputs": [
    {
     "name": "stderr",
     "output_type": "stream",
     "text": [
      "/Users/ajeet/anaconda3/lib/python3.6/site-packages/h5py/__init__.py:34: FutureWarning: Conversion of the second argument of issubdtype from `float` to `np.floating` is deprecated. In future, it will be treated as `np.float64 == np.dtype(float).type`.\n",
      "  from ._conv import register_converters as _register_converters\n",
      "Using TensorFlow backend.\n"
     ]
    }
   ],
   "source": [
    "import keras\n",
    "#Sequence library help us to initialize the NN\n",
    "from keras.models import Sequential\n",
    "\n",
    "#Dense library used ti create the Layer of the NN\n",
    "from keras.layers import Dense\n",
    "from keras.layers import Dropout"
   ]
  },
  {
   "cell_type": "code",
   "execution_count": 175,
   "metadata": {},
   "outputs": [
    {
     "data": {
      "text/plain": [
       "(152947, 2251)"
      ]
     },
     "execution_count": 175,
     "metadata": {},
     "output_type": "execute_result"
    }
   ],
   "source": [
    "X_train.shape"
   ]
  },
  {
   "cell_type": "code",
   "execution_count": 348,
   "metadata": {},
   "outputs": [
    {
     "data": {
      "text/plain": [
       "(38237, 2251)"
      ]
     },
     "execution_count": 348,
     "metadata": {},
     "output_type": "execute_result"
    }
   ],
   "source": [
    "X_validation.shape"
   ]
  },
  {
   "cell_type": "code",
   "execution_count": 349,
   "metadata": {
    "collapsed": true
   },
   "outputs": [],
   "source": [
    "classifier_ANN = Sequential()"
   ]
  },
  {
   "cell_type": "code",
   "execution_count": 350,
   "metadata": {},
   "outputs": [
    {
     "name": "stderr",
     "output_type": "stream",
     "text": [
      "/Users/ajeet/anaconda3/lib/python3.6/site-packages/ipykernel_launcher.py:2: UserWarning: Update your `Dense` call to the Keras 2 API: `Dense(activation=\"relu\", input_dim=2251, units=1125, kernel_initializer=\"uniform\")`\n",
      "  \n",
      "/Users/ajeet/anaconda3/lib/python3.6/site-packages/ipykernel_launcher.py:4: UserWarning: Update your `Dense` call to the Keras 2 API: `Dense(activation=\"relu\", units=1125, kernel_initializer=\"uniform\")`\n",
      "  after removing the cwd from sys.path.\n",
      "/Users/ajeet/anaconda3/lib/python3.6/site-packages/ipykernel_launcher.py:6: UserWarning: Update your `Dense` call to the Keras 2 API: `Dense(activation=\"sigmoid\", units=1, kernel_initializer=\"uniform\")`\n",
      "  \n"
     ]
    }
   ],
   "source": [
    "\n",
    "classifier_ANN.add(Dense(output_dim = 1125, init = 'uniform', activation = 'relu', input_dim = 2251))\n",
    "classifier_ANN.add(Dropout(0.35))\n",
    "classifier_ANN.add(Dense(output_dim = 1125, init = 'uniform', activation = 'relu'))\n",
    "classifier_ANN.add(Dropout(0.35))\n",
    "classifier_ANN.add(Dense(output_dim = 1, init = 'uniform', activation = 'sigmoid'))\n",
    "classifier_ANN.compile(optimizer = 'adam', loss = 'binary_crossentropy', metrics = ['accuracy'])"
   ]
  },
  {
   "cell_type": "code",
   "execution_count": 351,
   "metadata": {
    "scrolled": false
   },
   "outputs": [
    {
     "name": "stderr",
     "output_type": "stream",
     "text": [
      "/Users/ajeet/anaconda3/lib/python3.6/site-packages/keras/models.py:942: UserWarning: The `nb_epoch` argument in `fit` has been renamed `epochs`.\n",
      "  warnings.warn('The `nb_epoch` argument in `fit` '\n"
     ]
    },
    {
     "name": "stdout",
     "output_type": "stream",
     "text": [
      "Epoch 1/15\n",
      "152947/152947 [==============================] - 66s 434us/step - loss: 0.6679 - acc: 0.5962\n",
      "Epoch 2/15\n",
      "152947/152947 [==============================] - 55s 359us/step - loss: 0.6550 - acc: 0.6159\n",
      "Epoch 3/15\n",
      "152947/152947 [==============================] - 48s 314us/step - loss: 0.6487 - acc: 0.6223\n",
      "Epoch 4/15\n",
      "152947/152947 [==============================] - 53s 346us/step - loss: 0.6428 - acc: 0.6274\n",
      "Epoch 5/15\n",
      "152947/152947 [==============================] - 49s 323us/step - loss: 0.6372 - acc: 0.6322\n",
      "Epoch 6/15\n",
      "152947/152947 [==============================] - 56s 367us/step - loss: 0.6313 - acc: 0.6370\n",
      "Epoch 7/15\n",
      "152947/152947 [==============================] - 58s 378us/step - loss: 0.6253 - acc: 0.6427\n",
      "Epoch 8/15\n",
      "152947/152947 [==============================] - 60s 395us/step - loss: 0.6194 - acc: 0.6457\n",
      "Epoch 9/15\n",
      "152947/152947 [==============================] - 62s 403us/step - loss: 0.6132 - acc: 0.6506\n",
      "Epoch 10/15\n",
      "152947/152947 [==============================] - 57s 370us/step - loss: 0.6080 - acc: 0.6545\n",
      "Epoch 11/15\n",
      "152947/152947 [==============================] - 57s 373us/step - loss: 0.6022 - acc: 0.6590\n",
      "Epoch 12/15\n",
      "152947/152947 [==============================] - 56s 363us/step - loss: 0.5981 - acc: 0.6611\n",
      "Epoch 13/15\n",
      "152947/152947 [==============================] - 56s 367us/step - loss: 0.5927 - acc: 0.6656\n",
      "Epoch 14/15\n",
      "152947/152947 [==============================] - 60s 392us/step - loss: 0.5883 - acc: 0.6677\n",
      "Epoch 15/15\n",
      "152947/152947 [==============================] - 57s 372us/step - loss: 0.5837 - acc: 0.6705\n"
     ]
    },
    {
     "data": {
      "text/plain": [
       "<keras.callbacks.History at 0x123eb0d30>"
      ]
     },
     "execution_count": 351,
     "metadata": {},
     "output_type": "execute_result"
    }
   ],
   "source": [
    "classifier_ANN.fit(X_train, y_train, batch_size = 1000, nb_epoch = 15)"
   ]
  },
  {
   "cell_type": "code",
   "execution_count": 353,
   "metadata": {},
   "outputs": [],
   "source": [
    "# Predicting the Test set results\n",
    "y_pred = classifier_ANN.predict(X_validation)"
   ]
  },
  {
   "cell_type": "code",
   "execution_count": 363,
   "metadata": {
    "collapsed": true
   },
   "outputs": [],
   "source": [
    "y_pred = (y_pred > 0.5)"
   ]
  },
  {
   "cell_type": "code",
   "execution_count": 364,
   "metadata": {},
   "outputs": [
    {
     "name": "stdout",
     "output_type": "stream",
     "text": [
      "0.5974579595679578\n"
     ]
    }
   ],
   "source": [
    "# calculate accuracy\n",
    "from sklearn import metrics\n",
    "print(metrics.accuracy_score(y_validation, y_pred))"
   ]
  },
  {
   "cell_type": "code",
   "execution_count": null,
   "metadata": {
    "collapsed": true
   },
   "outputs": [],
   "source": []
  },
  {
   "cell_type": "code",
   "execution_count": null,
   "metadata": {
    "collapsed": true
   },
   "outputs": [],
   "source": []
  },
  {
   "cell_type": "code",
   "execution_count": 179,
   "metadata": {
    "collapsed": true
   },
   "outputs": [],
   "source": [
    "# from keras.wrappers.scikit_learn import KerasClassifier\n",
    "# from sklearn.model_selection import GridSearchCV"
   ]
  },
  {
   "cell_type": "code",
   "execution_count": 181,
   "metadata": {
    "scrolled": true
   },
   "outputs": [],
   "source": [
    "# def build_classifier(optimizer):\n",
    "#     classifier = Sequential()\n",
    "#     classifier.add(Dense(units = 150, kernel_initializer = 'uniform', activation = 'relu', input_dim = 310))\n",
    "#     classifier.add(Dense(units = 150, kernel_initializer = 'uniform', activation = 'relu'))\n",
    "#     classifier.add(Dense(units = 1, kernel_initializer = 'uniform', activation = 'sigmoid'))\n",
    "#     classifier.compile(optimizer = optimizer, loss = 'binary_crossentropy', metrics = ['accuracy'])\n",
    "#     return classifier\n",
    "# classifier = KerasClassifier(build_fn = build_classifier)\n",
    "# parameters = {'batch_size': [500, 800,100,1000],\n",
    "#               'epochs': [10, 20,30],\n",
    "#               'optimizer': ['adam', 'rmsprop']}\n",
    "# grid_search = GridSearchCV(estimator = classifier,\n",
    "#                            param_grid = parameters,\n",
    "#                            scoring = 'accuracy',\n",
    "#                            cv = 10)\n",
    "# grid_search = grid_search.fit(X_train, y_train)\n",
    "# best_parameters = grid_search.best_params_\n",
    "# best_accuracy = grid_search.best_score_"
   ]
  },
  {
   "cell_type": "code",
   "execution_count": 184,
   "metadata": {},
   "outputs": [],
   "source": [
    "# best_parameters = grid_search.best_params_\n",
    "# best_accuracy = grid_search.best_score_"
   ]
  },
  {
   "cell_type": "code",
   "execution_count": 185,
   "metadata": {},
   "outputs": [],
   "source": [
    "#best_accuracy"
   ]
  },
  {
   "cell_type": "code",
   "execution_count": 186,
   "metadata": {
    "collapsed": true
   },
   "outputs": [],
   "source": [
    "#best_parameters"
   ]
  },
  {
   "cell_type": "code",
   "execution_count": 190,
   "metadata": {},
   "outputs": [
    {
     "name": "stderr",
     "output_type": "stream",
     "text": [
      "/Users/ajeet/anaconda3/lib/python3.6/site-packages/ipykernel_launcher.py:2: UserWarning: Update your `Dense` call to the Keras 2 API: `Dense(activation=\"relu\", input_dim=310, units=150, kernel_initializer=\"uniform\")`\n",
      "  \n",
      "/Users/ajeet/anaconda3/lib/python3.6/site-packages/ipykernel_launcher.py:4: UserWarning: Update your `Dense` call to the Keras 2 API: `Dense(activation=\"relu\", units=150, kernel_initializer=\"uniform\")`\n",
      "  after removing the cwd from sys.path.\n",
      "/Users/ajeet/anaconda3/lib/python3.6/site-packages/ipykernel_launcher.py:6: UserWarning: Update your `Dense` call to the Keras 2 API: `Dense(activation=\"sigmoid\", units=1, kernel_initializer=\"uniform\")`\n",
      "  \n"
     ]
    }
   ],
   "source": [
    "classifier = Sequential()\n",
    "classifier.add(Dense(output_dim = 150, init = 'uniform', activation = 'relu', input_dim = 310))\n",
    "classifier.add(Dropout(0.20))\n",
    "classifier.add(Dense(output_dim = 150, init = 'uniform', activation = 'relu'))\n",
    "classifier.add(Dropout(0.25))\n",
    "classifier.add(Dense(output_dim = 1, init = 'uniform', activation = 'sigmoid'))\n",
    "classifier.compile(optimizer = 'rmsprop', loss = 'binary_crossentropy', metrics = ['accuracy'])"
   ]
  },
  {
   "cell_type": "code",
   "execution_count": 191,
   "metadata": {},
   "outputs": [
    {
     "name": "stderr",
     "output_type": "stream",
     "text": [
      "/Users/ajeet/anaconda3/lib/python3.6/site-packages/keras/models.py:942: UserWarning: The `nb_epoch` argument in `fit` has been renamed `epochs`.\n",
      "  warnings.warn('The `nb_epoch` argument in `fit` '\n"
     ]
    },
    {
     "ename": "ValueError",
     "evalue": "Error when checking input: expected dense_10_input to have shape (310,) but got array with shape (2251,)",
     "output_type": "error",
     "traceback": [
      "\u001b[0;31m---------------------------------------------------------------------------\u001b[0m",
      "\u001b[0;31mValueError\u001b[0m                                Traceback (most recent call last)",
      "\u001b[0;32m<ipython-input-191-2a8a8bb635d2>\u001b[0m in \u001b[0;36m<module>\u001b[0;34m()\u001b[0m\n\u001b[0;32m----> 1\u001b[0;31m \u001b[0mclassifier\u001b[0m\u001b[0;34m.\u001b[0m\u001b[0mfit\u001b[0m\u001b[0;34m(\u001b[0m\u001b[0mX_train\u001b[0m\u001b[0;34m,\u001b[0m \u001b[0my_train\u001b[0m\u001b[0;34m,\u001b[0m \u001b[0mbatch_size\u001b[0m \u001b[0;34m=\u001b[0m \u001b[0;36m1000\u001b[0m\u001b[0;34m,\u001b[0m \u001b[0mnb_epoch\u001b[0m \u001b[0;34m=\u001b[0m \u001b[0;36m10\u001b[0m\u001b[0;34m)\u001b[0m\u001b[0;34m\u001b[0m\u001b[0m\n\u001b[0m",
      "\u001b[0;32m~/anaconda3/lib/python3.6/site-packages/keras/models.py\u001b[0m in \u001b[0;36mfit\u001b[0;34m(self, x, y, batch_size, epochs, verbose, callbacks, validation_split, validation_data, shuffle, class_weight, sample_weight, initial_epoch, steps_per_epoch, validation_steps, **kwargs)\u001b[0m\n\u001b[1;32m    961\u001b[0m                               \u001b[0minitial_epoch\u001b[0m\u001b[0;34m=\u001b[0m\u001b[0minitial_epoch\u001b[0m\u001b[0;34m,\u001b[0m\u001b[0;34m\u001b[0m\u001b[0m\n\u001b[1;32m    962\u001b[0m                               \u001b[0msteps_per_epoch\u001b[0m\u001b[0;34m=\u001b[0m\u001b[0msteps_per_epoch\u001b[0m\u001b[0;34m,\u001b[0m\u001b[0;34m\u001b[0m\u001b[0m\n\u001b[0;32m--> 963\u001b[0;31m                               validation_steps=validation_steps)\n\u001b[0m\u001b[1;32m    964\u001b[0m \u001b[0;34m\u001b[0m\u001b[0m\n\u001b[1;32m    965\u001b[0m     def evaluate(self, x=None, y=None,\n",
      "\u001b[0;32m~/anaconda3/lib/python3.6/site-packages/keras/engine/training.py\u001b[0m in \u001b[0;36mfit\u001b[0;34m(self, x, y, batch_size, epochs, verbose, callbacks, validation_split, validation_data, shuffle, class_weight, sample_weight, initial_epoch, steps_per_epoch, validation_steps, **kwargs)\u001b[0m\n\u001b[1;32m   1628\u001b[0m             \u001b[0msample_weight\u001b[0m\u001b[0;34m=\u001b[0m\u001b[0msample_weight\u001b[0m\u001b[0;34m,\u001b[0m\u001b[0;34m\u001b[0m\u001b[0m\n\u001b[1;32m   1629\u001b[0m             \u001b[0mclass_weight\u001b[0m\u001b[0;34m=\u001b[0m\u001b[0mclass_weight\u001b[0m\u001b[0;34m,\u001b[0m\u001b[0;34m\u001b[0m\u001b[0m\n\u001b[0;32m-> 1630\u001b[0;31m             batch_size=batch_size)\n\u001b[0m\u001b[1;32m   1631\u001b[0m         \u001b[0;31m# Prepare validation data.\u001b[0m\u001b[0;34m\u001b[0m\u001b[0;34m\u001b[0m\u001b[0m\n\u001b[1;32m   1632\u001b[0m         \u001b[0mdo_validation\u001b[0m \u001b[0;34m=\u001b[0m \u001b[0;32mFalse\u001b[0m\u001b[0;34m\u001b[0m\u001b[0m\n",
      "\u001b[0;32m~/anaconda3/lib/python3.6/site-packages/keras/engine/training.py\u001b[0m in \u001b[0;36m_standardize_user_data\u001b[0;34m(self, x, y, sample_weight, class_weight, check_array_lengths, batch_size)\u001b[0m\n\u001b[1;32m   1474\u001b[0m                                     \u001b[0mself\u001b[0m\u001b[0;34m.\u001b[0m\u001b[0m_feed_input_shapes\u001b[0m\u001b[0;34m,\u001b[0m\u001b[0;34m\u001b[0m\u001b[0m\n\u001b[1;32m   1475\u001b[0m                                     \u001b[0mcheck_batch_axis\u001b[0m\u001b[0;34m=\u001b[0m\u001b[0;32mFalse\u001b[0m\u001b[0;34m,\u001b[0m\u001b[0;34m\u001b[0m\u001b[0m\n\u001b[0;32m-> 1476\u001b[0;31m                                     exception_prefix='input')\n\u001b[0m\u001b[1;32m   1477\u001b[0m         y = _standardize_input_data(y, self._feed_output_names,\n\u001b[1;32m   1478\u001b[0m                                     \u001b[0moutput_shapes\u001b[0m\u001b[0;34m,\u001b[0m\u001b[0;34m\u001b[0m\u001b[0m\n",
      "\u001b[0;32m~/anaconda3/lib/python3.6/site-packages/keras/engine/training.py\u001b[0m in \u001b[0;36m_standardize_input_data\u001b[0;34m(data, names, shapes, check_batch_axis, exception_prefix)\u001b[0m\n\u001b[1;32m    121\u001b[0m                             \u001b[0;34m': expected '\u001b[0m \u001b[0;34m+\u001b[0m \u001b[0mnames\u001b[0m\u001b[0;34m[\u001b[0m\u001b[0mi\u001b[0m\u001b[0;34m]\u001b[0m \u001b[0;34m+\u001b[0m \u001b[0;34m' to have shape '\u001b[0m \u001b[0;34m+\u001b[0m\u001b[0;34m\u001b[0m\u001b[0m\n\u001b[1;32m    122\u001b[0m                             \u001b[0mstr\u001b[0m\u001b[0;34m(\u001b[0m\u001b[0mshape\u001b[0m\u001b[0;34m)\u001b[0m \u001b[0;34m+\u001b[0m \u001b[0;34m' but got array with shape '\u001b[0m \u001b[0;34m+\u001b[0m\u001b[0;34m\u001b[0m\u001b[0m\n\u001b[0;32m--> 123\u001b[0;31m                             str(data_shape))\n\u001b[0m\u001b[1;32m    124\u001b[0m     \u001b[0;32mreturn\u001b[0m \u001b[0mdata\u001b[0m\u001b[0;34m\u001b[0m\u001b[0m\n\u001b[1;32m    125\u001b[0m \u001b[0;34m\u001b[0m\u001b[0m\n",
      "\u001b[0;31mValueError\u001b[0m: Error when checking input: expected dense_10_input to have shape (310,) but got array with shape (2251,)"
     ]
    }
   ],
   "source": [
    "classifier.fit(X_train, y_train, batch_size = 1000, nb_epoch = 10)"
   ]
  },
  {
   "cell_type": "code",
   "execution_count": 189,
   "metadata": {},
   "outputs": [
    {
     "ename": "ValueError",
     "evalue": "Error when checking : expected dense_7_input to have shape (310,) but got array with shape (2251,)",
     "output_type": "error",
     "traceback": [
      "\u001b[0;31m---------------------------------------------------------------------------\u001b[0m",
      "\u001b[0;31mValueError\u001b[0m                                Traceback (most recent call last)",
      "\u001b[0;32m<ipython-input-189-4992c87b2150>\u001b[0m in \u001b[0;36m<module>\u001b[0;34m()\u001b[0m\n\u001b[0;32m----> 1\u001b[0;31m \u001b[0mFinalPred_ANN\u001b[0m \u001b[0;34m=\u001b[0m  \u001b[0mclassifier\u001b[0m\u001b[0;34m.\u001b[0m\u001b[0mpredict\u001b[0m\u001b[0;34m(\u001b[0m\u001b[0mX_Test\u001b[0m\u001b[0;34m)\u001b[0m\u001b[0;34m\u001b[0m\u001b[0m\n\u001b[0m\u001b[1;32m      2\u001b[0m \u001b[0mFinalPred_ANN\u001b[0m \u001b[0;34m=\u001b[0m \u001b[0;34m(\u001b[0m\u001b[0mFinalPred_ANN\u001b[0m \u001b[0;34m>\u001b[0m \u001b[0;36m.9999\u001b[0m\u001b[0;34m)\u001b[0m\u001b[0;34m\u001b[0m\u001b[0m\n",
      "\u001b[0;32m~/anaconda3/lib/python3.6/site-packages/keras/models.py\u001b[0m in \u001b[0;36mpredict\u001b[0;34m(self, x, batch_size, verbose, steps)\u001b[0m\n\u001b[1;32m   1023\u001b[0m             \u001b[0mself\u001b[0m\u001b[0;34m.\u001b[0m\u001b[0mbuild\u001b[0m\u001b[0;34m(\u001b[0m\u001b[0;34m)\u001b[0m\u001b[0;34m\u001b[0m\u001b[0m\n\u001b[1;32m   1024\u001b[0m         return self.model.predict(x, batch_size=batch_size, verbose=verbose,\n\u001b[0;32m-> 1025\u001b[0;31m                                   steps=steps)\n\u001b[0m\u001b[1;32m   1026\u001b[0m \u001b[0;34m\u001b[0m\u001b[0m\n\u001b[1;32m   1027\u001b[0m     \u001b[0;32mdef\u001b[0m \u001b[0mpredict_on_batch\u001b[0m\u001b[0;34m(\u001b[0m\u001b[0mself\u001b[0m\u001b[0;34m,\u001b[0m \u001b[0mx\u001b[0m\u001b[0;34m)\u001b[0m\u001b[0;34m:\u001b[0m\u001b[0;34m\u001b[0m\u001b[0m\n",
      "\u001b[0;32m~/anaconda3/lib/python3.6/site-packages/keras/engine/training.py\u001b[0m in \u001b[0;36mpredict\u001b[0;34m(self, x, batch_size, verbose, steps)\u001b[0m\n\u001b[1;32m   1815\u001b[0m         x = _standardize_input_data(x, self._feed_input_names,\n\u001b[1;32m   1816\u001b[0m                                     \u001b[0mself\u001b[0m\u001b[0;34m.\u001b[0m\u001b[0m_feed_input_shapes\u001b[0m\u001b[0;34m,\u001b[0m\u001b[0;34m\u001b[0m\u001b[0m\n\u001b[0;32m-> 1817\u001b[0;31m                                     check_batch_axis=False)\n\u001b[0m\u001b[1;32m   1818\u001b[0m         \u001b[0;32mif\u001b[0m \u001b[0mself\u001b[0m\u001b[0;34m.\u001b[0m\u001b[0mstateful\u001b[0m\u001b[0;34m:\u001b[0m\u001b[0;34m\u001b[0m\u001b[0m\n\u001b[1;32m   1819\u001b[0m             \u001b[0;32mif\u001b[0m \u001b[0mx\u001b[0m\u001b[0;34m[\u001b[0m\u001b[0;36m0\u001b[0m\u001b[0;34m]\u001b[0m\u001b[0;34m.\u001b[0m\u001b[0mshape\u001b[0m\u001b[0;34m[\u001b[0m\u001b[0;36m0\u001b[0m\u001b[0;34m]\u001b[0m \u001b[0;34m>\u001b[0m \u001b[0mbatch_size\u001b[0m \u001b[0;32mand\u001b[0m \u001b[0mx\u001b[0m\u001b[0;34m[\u001b[0m\u001b[0;36m0\u001b[0m\u001b[0;34m]\u001b[0m\u001b[0;34m.\u001b[0m\u001b[0mshape\u001b[0m\u001b[0;34m[\u001b[0m\u001b[0;36m0\u001b[0m\u001b[0;34m]\u001b[0m \u001b[0;34m%\u001b[0m \u001b[0mbatch_size\u001b[0m \u001b[0;34m!=\u001b[0m \u001b[0;36m0\u001b[0m\u001b[0;34m:\u001b[0m\u001b[0;34m\u001b[0m\u001b[0m\n",
      "\u001b[0;32m~/anaconda3/lib/python3.6/site-packages/keras/engine/training.py\u001b[0m in \u001b[0;36m_standardize_input_data\u001b[0;34m(data, names, shapes, check_batch_axis, exception_prefix)\u001b[0m\n\u001b[1;32m    121\u001b[0m                             \u001b[0;34m': expected '\u001b[0m \u001b[0;34m+\u001b[0m \u001b[0mnames\u001b[0m\u001b[0;34m[\u001b[0m\u001b[0mi\u001b[0m\u001b[0;34m]\u001b[0m \u001b[0;34m+\u001b[0m \u001b[0;34m' to have shape '\u001b[0m \u001b[0;34m+\u001b[0m\u001b[0;34m\u001b[0m\u001b[0m\n\u001b[1;32m    122\u001b[0m                             \u001b[0mstr\u001b[0m\u001b[0;34m(\u001b[0m\u001b[0mshape\u001b[0m\u001b[0;34m)\u001b[0m \u001b[0;34m+\u001b[0m \u001b[0;34m' but got array with shape '\u001b[0m \u001b[0;34m+\u001b[0m\u001b[0;34m\u001b[0m\u001b[0m\n\u001b[0;32m--> 123\u001b[0;31m                             str(data_shape))\n\u001b[0m\u001b[1;32m    124\u001b[0m     \u001b[0;32mreturn\u001b[0m \u001b[0mdata\u001b[0m\u001b[0;34m\u001b[0m\u001b[0m\n\u001b[1;32m    125\u001b[0m \u001b[0;34m\u001b[0m\u001b[0m\n",
      "\u001b[0;31mValueError\u001b[0m: Error when checking : expected dense_7_input to have shape (310,) but got array with shape (2251,)"
     ]
    }
   ],
   "source": [
    "FinalPred_ANN =  classifier.predict(X_Test)\n",
    "FinalPred_ANN = (FinalPred_ANN > .9999)\n"
   ]
  },
  {
   "cell_type": "code",
   "execution_count": null,
   "metadata": {
    "collapsed": true,
    "scrolled": true
   },
   "outputs": [],
   "source": [
    "testFinalANN = pd.DataFrame(testDataset['CAMIS'])"
   ]
  },
  {
   "cell_type": "code",
   "execution_count": null,
   "metadata": {
    "collapsed": true
   },
   "outputs": [],
   "source": [
    "testFinalANN['Critical Flag'] = pd.DataFrame(FinalPred_ANN)"
   ]
  },
  {
   "cell_type": "code",
   "execution_count": null,
   "metadata": {},
   "outputs": [],
   "source": [
    "testFinalANN.head()"
   ]
  },
  {
   "cell_type": "code",
   "execution_count": null,
   "metadata": {
    "collapsed": true
   },
   "outputs": [],
   "source": [
    "testFinalANN['Critical Flag'].replace({False: 'Critical', True: 'Not Critical'}, inplace=True)"
   ]
  },
  {
   "cell_type": "code",
   "execution_count": null,
   "metadata": {
    "collapsed": true
   },
   "outputs": [],
   "source": [
    "testFinalANN.to_csv(\"testFinalANN.csv\",index=False)"
   ]
  },
  {
   "cell_type": "code",
   "execution_count": null,
   "metadata": {
    "collapsed": true
   },
   "outputs": [],
   "source": []
  },
  {
   "cell_type": "code",
   "execution_count": null,
   "metadata": {
    "collapsed": true
   },
   "outputs": [],
   "source": []
  },
  {
   "cell_type": "code",
   "execution_count": null,
   "metadata": {
    "collapsed": true
   },
   "outputs": [],
   "source": []
  }
 ],
 "metadata": {
  "kernelspec": {
   "display_name": "Python 3",
   "language": "python",
   "name": "python3"
  },
  "language_info": {
   "codemirror_mode": {
    "name": "ipython",
    "version": 3
   },
   "file_extension": ".py",
   "mimetype": "text/x-python",
   "name": "python",
   "nbconvert_exporter": "python",
   "pygments_lexer": "ipython3",
   "version": "3.6.3"
  }
 },
 "nbformat": 4,
 "nbformat_minor": 2
}
